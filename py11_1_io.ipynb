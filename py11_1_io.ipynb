{
 "cells": [
  {
   "cell_type": "markdown",
   "metadata": {},
   "source": [
    "# Files and Directories"
   ]
  },
  {
   "cell_type": "markdown",
   "metadata": {},
   "source": [
    "## Creating files and directories\n",
    "The following code is going to create a new directory **if it doesn't already exist** - notice the method `os.path.isdir()` not covered in the slides. The code will then create a new file based on an existing data file (the `numbers.txt` file we are familiar with). \n",
    "\n",
    "Run the code twice to verify that the behaviour changes once the directory has been created.  "
   ]
  },
  {
   "cell_type": "code",
   "execution_count": 14,
   "metadata": {},
   "outputs": [
    {
     "name": "stdout",
     "output_type": "stream",
     "text": [
      "Directory ../tmp/ already exists.\n"
     ]
    }
   ],
   "source": [
    "import os\n",
    "\n",
    "new_dir = '../tmp/'\n",
    "existing_file = '../data/numbers.txt'\n",
    "new_file = new_dir + 'positive_numbers.txt'\n",
    "\n",
    "if os.path.isdir(new_dir):\n",
    "    print('Directory', new_dir, 'already exists.')\n",
    "else:\n",
    "    os.mkdir(new_dir)\n",
    "    print('Directory', new_dir, 'created.')\n",
    "\n",
    "with open(existing_file, 'r') as f_in:\n",
    "    with open(new_file, 'w') as f_out:\n",
    "        for line in f_in:\n",
    "            if float(line) > 0:\n",
    "                f_out.write(line)"
   ]
  },
  {
   "cell_type": "markdown",
   "metadata": {},
   "source": [
    "Next you can examine the contents of the new file before \"cleaning up\" (deleting both the file and the directory):"
   ]
  },
  {
   "cell_type": "code",
   "execution_count": 15,
   "metadata": {},
   "outputs": [
    {
     "name": "stdout",
     "output_type": "stream",
     "text": [
      "1.63\n",
      "25.307\n",
      "8.0\n",
      "31.33333\n",
      "780.4592\n",
      "87.612\n",
      "928.7\n",
      "1153.04\n",
      "4.2\n",
      "0.932\n",
      "5.65\n",
      "5.912\n",
      "2347.105\n",
      "39.2\n",
      "61.5\n"
     ]
    },
    {
     "ename": "OSError",
     "evalue": "[Errno 39] Directory not empty: '../tmp/'",
     "output_type": "error",
     "traceback": [
      "\u001b[0;31m---------------------------------------------------------------------------\u001b[0m",
      "\u001b[0;31mOSError\u001b[0m                                   Traceback (most recent call last)",
      "Cell \u001b[0;32mIn[15], line 8\u001b[0m\n\u001b[1;32m      5\u001b[0m         \u001b[38;5;28mprint\u001b[39m(n, end\u001b[38;5;241m=\u001b[39m\u001b[38;5;124m'\u001b[39m\u001b[38;5;124m'\u001b[39m)\n\u001b[1;32m      7\u001b[0m os\u001b[38;5;241m.\u001b[39mremove(new_file)\n\u001b[0;32m----> 8\u001b[0m \u001b[43mos\u001b[49m\u001b[38;5;241;43m.\u001b[39;49m\u001b[43mrmdir\u001b[49m\u001b[43m(\u001b[49m\u001b[43mnew_dir\u001b[49m\u001b[43m)\u001b[49m\n",
      "\u001b[0;31mOSError\u001b[0m: [Errno 39] Directory not empty: '../tmp/'"
     ]
    }
   ],
   "source": [
    "import os\n",
    "\n",
    "with open(new_file, 'r') as f:\n",
    "    for n in f:\n",
    "        print(n, end='')\n",
    "        \n",
    "os.remove(new_file)\n",
    "os.rmdir(new_dir)"
   ]
  },
  {
   "cell_type": "markdown",
   "metadata": {},
   "source": [
    "The code below differs from the code above in having a different directory name and different output file. Modify this code so that it uses `os.path.isfile()` to check whether the new file already exists. In other words, adopt the same approach for the file as has already been adopted for the directory. "
   ]
  },
  {
   "cell_type": "code",
   "execution_count": 26,
   "metadata": {},
   "outputs": [
    {
     "name": "stdout",
     "output_type": "stream",
     "text": [
      "Directory ../tmp2/ already exists.\n",
      "File ../tmp2/negative_numbers.txt already exists\n"
     ]
    }
   ],
   "source": [
    "import os\n",
    "\n",
    "new_dir2 = '../tmp2/'\n",
    "new_file2 = new_dir2 + 'negative_numbers.txt'\n",
    "\n",
    "if os.path.isdir(new_dir2):\n",
    "    dir_already_exists = True\n",
    "    print('Directory', new_dir2, 'already exists.')\n",
    "else:\n",
    "    os.mkdir(new_dir2)\n",
    "    print('Directory', new_dir2, 'created.')\n",
    "\n",
    "\n",
    "with open(existing_file, 'r') as f_in:\n",
    "    if os.path.isfile(new_file2):\n",
    "        print('File', new_file2, 'already exists')\n",
    "    else:\n",
    "        with open(new_file2, 'w') as f_out:\n",
    "            for line in f_in:\n",
    "                if float(line) < 0:\n",
    "                    f_out.write(line)"
   ]
  },
  {
   "cell_type": "markdown",
   "metadata": {},
   "source": [
    "Again, you can examine the contents of the new file before \"cleaning up\" (deleting both the file and the directory):"
   ]
  },
  {
   "cell_type": "code",
   "execution_count": 27,
   "metadata": {},
   "outputs": [
    {
     "name": "stdout",
     "output_type": "stream",
     "text": [
      "-32.78\n",
      "-4.1\n",
      "-422.343\n",
      "-187.0\n",
      "-8205.9\n",
      "-2749.655\n"
     ]
    }
   ],
   "source": [
    "import os\n",
    "\n",
    "with open(new_file2, 'r') as f:\n",
    "    for n in f:\n",
    "        print(n, end='')\n",
    "        \n",
    "os.remove(new_file2)\n",
    "os.rmdir(new_dir2)"
   ]
  },
  {
   "cell_type": "markdown",
   "metadata": {},
   "source": [
    "## Walking through directories\n",
    "\n",
    "The following code uses the `os.walk()` function to count the number of files of different types found within your `biocomp1` directory and its subdirectories. Note the use of `os.path.splitext()` to gain access to the file extension.\n",
    "\n",
    "\n",
    "Feel free to modify it to explore other directories and file types! "
   ]
  },
  {
   "cell_type": "code",
   "execution_count": 45,
   "metadata": {},
   "outputs": [
    {
     "name": "stdout",
     "output_type": "stream",
     "text": [
      "['py8_2_modules.ipynb', 'bin_class.py', 'py8_practical.ipynb', 'py8_1_functions.ipynb', 'sequtils-checkpoint.py', 'py8_2_modules-checkpoint.ipynb', 'py8_1_functions-checkpoint.ipynb', 'untitled-checkpoint.txt', 'bin_class-checkpoint.py', 'py8_practical-checkpoint.ipynb', 'py_exam1.py', 'py_exam1.ipynb', 'py_exam1_ori-checkpoint.ipynb', 'py_exam1-checkpoint.ipynb', 'py_exam1-checkpoint.py', 'P42858.fasta', 'sample1.txt', 'A0A0G2RZ64.fasta', 's1.txt', 'plot_data.txt', 'species2.txt', 'words1.txt', 'garden_birds.txt', 'taxonomy.txt', 'PDB_growth.csv', 'sub.txt', 'pdb_chains2.txt', 'names2.txt', 'common.txt', 'names4.txt', 'clever_birds.txt', 'atoms.txt', 'seq_ss_n2.txt', 'P03437.fasta', '12e8.h', 'chain_ids.txt', 'WormNet.v3.benchmark.txt', 'seq_ss_n.txt', 'integers.txt', 'P00451_1.gb', 'codons.txt', 'common_scientific.txt', 'HLA-B1550.txt', 'PDB_data.csv', 'bacteria.txt', 'seq1.txt', 'words3.txt', 'hAPP.clustal', 'add.txt', 'dna.txt', 'HLA-B1542.txt', 'seq_n.txt', 'names1.txt', 'emdb.db', 'pdb_species2.txt', 'seqs_with_ids.txt', 'seq_ss.txt', 'bubbles.txt', 'seq2.txt', 'seq_3code.txt', 'seq_long.txt', 'aa_types.txt', 'sample2.txt', 'pdb3vun.ent', 'numbers.txt', 'number_rows.txt', 'pdb_chains.txt', 'FA8_HUMAN.fasta', 'AF316817.gb', 'dna_adj.csv', 'multi_seqs.txt', 'chain_ids_with_errors.txt', 'genes.gb', 'names3.txt', 'words2.txt', 'A0A0G2RR03.fasta', 'species1.txt', 'penguinpox.fasta', 'pdb_species.txt', 'filenames.txt', 'hAPP.phylip', 'corvids.txt', 'ICTV2015.csv', 'numbers_with_errors.txt', '1CS4.npz', 'Q8WZ42.fasta', 'pdb_counts.txt', 'hAPP-checkpoint.clustal', 'P03437-checkpoint.fasta', 'common-checkpoint.txt', 'PDB_growth-checkpoint.csv', 'P42858-checkpoint.fasta', 'A0A0G2RR03-checkpoint.fasta', 'P00451_1-checkpoint.gb', 'AF316817-checkpoint.gb', 'hAPP-checkpoint.phylip', 'names1-checkpoint.txt', 'PDB_data-checkpoint.csv', 'species1-checkpoint.txt', 'Q8WZ42-checkpoint.fasta', 'species2-checkpoint.txt', 'names3-checkpoint.txt', 'dna_adj-checkpoint.csv', 'A0A0G2RZ64-checkpoint.fasta', 'add-checkpoint.txt', 'common_scientific-checkpoint.txt', 'FA8_HUMAN-checkpoint.fasta', 'multi_seqs-checkpoint.txt', 'py7_practical.ipynb', 'py7_2_matplotlib.ipynb', 'py7_1_numpy.ipynb', 'py7_practical-checkpoint.ipynb', 'py7_2_matplotlib-checkpoint.ipynb', 'py7_1_numpy-checkpoint.ipynb', 'py2_practical.ipynb', 'py2_3_file.ipynb', 'py2_2_functions.ipynb', 'py2_1_control.ipynb', 'py2_practical-checkpoint.ipynb', 'py2_3_file-checkpoint.ipynb', 'py2_1_control-checkpoint.ipynb', 'py2_2_functions-checkpoint.ipynb', 'py11_3_project.ipynb', 'py11_1_io.ipynb', 'py11_2_linux.ipynb', 'py11_2_linux-checkpoint.ipynb', 'py11_1_io-checkpoint.ipynb', 'py11_3_project-checkpoint.ipynb', 'plot_data.txt', 'plot_data-checkpoint.txt', 'data_line_counter.py', 'data_line_counter-checkpoint.py', 'py6_1_exercices.ipynb', 'py6_2_debugging.ipynb', 'py6_2_debugging-checkpoint.ipynb', 'py6_1_exercices-checkpoint.ipynb', 'py3_practical.ipynb', 'py3_2_strings.ipynb', 'py3_1_lists.ipynb', 'py3_practical-checkpoint.ipynb', 'py3_1_lists-checkpoint.ipynb', 'py3_2_strings-checkpoint.ipynb', 'py1_2_arithmetic.ipynb', 'py1_1_jupyter.ipynb', 'py1_practical.ipynb', 'py1_practical-checkpoint.ipynb', 'py1_2_arithmetic-checkpoint.ipynb', 'py1_answers-checkpoint.ipynb', 'py1_1_jupyter-checkpoint.ipynb', 'py6_1_exercices.ipynb', 'py6_2_debugging.ipynb', 'py6_2_debugging-checkpoint.ipynb', 'py6_1_exercices-checkpoint.ipynb', 'py10_2_debugging.ipynb', 'py10_1_errors.ipynb', 'py10_practical.ipynb', 'py10_practical-checkpoint.ipynb', 'py10_1_errors-checkpoint.ipynb', 'py10_2_debugging-checkpoint.ipynb', 'py9_classes.ipynb', 'py9_2_variables_modules-checkpoint.ipynb', 'untitled-checkpoint.txt', 'bin_class-checkpoint.py', 'py9_classes-checkpoint.ipynb', 'py5_practical.ipynb', 'py5_2_annotation.ipynb', 'random_seqs.aln', 'py5_1_sequences.ipynb', 'random_seqs.dnd', 'random_seqs.fasta', 'py5_1_sequences-checkpoint.ipynb', 'py5_practical-checkpoint.ipynb', 'py5_2_annotation-checkpoint.ipynb', 'py7_practical.ipynb', 'py7_2_matplotlib.ipynb', 'py7_1_numpy.ipynb', 'py7_practical-checkpoint.ipynb', 'py7_2_matplotlib-checkpoint.ipynb', 'untitled-checkpoint.txt', 'untitled1-checkpoint.txt', 'py7_1_numpy-checkpoint.ipynb', 'py_exam2.ipynb', 'py_exam2.py', 'py_exam2-checkpoint.py', 'py_exam2-checkpoint.ipynb', 'py8_2_modules.ipynb', 'classification.py', 'base_check.py', 'py8_practical.ipynb', 'py8_1_functions.ipynb', 'base_check-checkpoint.py', 'classification-checkpoint.py', 'py8_2_modules-checkpoint.ipynb', 'py8_1_functions-checkpoint.ipynb', 'py8_practical-checkpoint.ipynb', 'base_check.cpython-38.pyc', 'classification.cpython-38.pyc', 'py1_2_arithmetic.ipynb', 'py1_1_jupyter.ipynb', 'py1_practical.ipynb', 'py1_practical-checkpoint.ipynb', 'py1_2_arithmetic-checkpoint.ipynb', 'py1_1_jupyter-checkpoint.ipynb', 'py2_practical.ipynb', 'py2_3_file.ipynb', 'py2_2_functions.ipynb', 'py2_1_control.ipynb', 'py2_practical-checkpoint.ipynb', 'py2_3_file-checkpoint.ipynb', 'py2_1_control-checkpoint.ipynb', 'py2_2_functions-checkpoint.ipynb', 'py4_practical.ipynb', 'py4_2_ranges_tuples.ipynb', 'py4_1_dictionaries.ipynb', 'py4_practical-checkpoint.ipynb', 'py4_2_ranges_tuples-checkpoint.ipynb', 'py4_1_dictionaries-checkpoint.ipynb', 'py10_2_debugging.ipynb', 'py10_1_errors.ipynb', 'py10_practical.ipynb', 'py10_practical-checkpoint.ipynb', 'py10_1_errors-checkpoint.ipynb', 'py10_2_debugging-checkpoint.ipynb', 'mock_assessment.py', 'py_mock_exam.ipynb', 'py_mock_exam-checkpoint.ipynb', 'mock_assessment-checkpoint.py', 'py4_practical.ipynb', 'py4_2_ranges_tuples.ipynb', 'py4_1_dictionaries.ipynb', 'py4_practical-checkpoint.ipynb', 'py4_2_ranges_tuples-checkpoint.ipynb', 'py4_1_dictionaries-checkpoint.ipynb', 'py9_classes.ipynb', 'py9_classes-checkpoint.ipynb', 'py3_practical.ipynb', 'py3_2_strings.ipynb', 'py3_1_lists.ipynb', 'py3_practical-checkpoint.ipynb', 'py3_1_lists-checkpoint.ipynb', 'py3_2_strings-checkpoint.ipynb', 'py5_practical.ipynb', 'py5_2_annotation.ipynb', 'random_seqs.aln', 'py5_1_sequences.ipynb', 'random_seqs.dnd', 'random_seqs.fasta', 'py5_1_sequences-checkpoint.ipynb', 'random_seqs-checkpoint.fasta', 'py5_practical-checkpoint.ipynb', 'py5_2_annotation-checkpoint.ipynb']\n",
      "Notebooks: 127\n",
      "Text files: 66\n"
     ]
    }
   ],
   "source": [
    "import os\n",
    "\n",
    "file_list = []\n",
    "for (dpath, names, lnames) in os.walk('..'):      \n",
    "    file_list.extend(lnames)    \n",
    "print(file_list)\n",
    "\n",
    "notebook_counter = 0\n",
    "notebook_extension = '.ipynb'\n",
    "textfile_counter = 0\n",
    "textfile_extension = '.txt'\n",
    "for file in file_list:\n",
    "    name, extension = os.path.splitext(file)\n",
    "    if extension == notebook_extension:\n",
    "        notebook_counter += 1\n",
    "    elif extension == textfile_extension:\n",
    "        textfile_counter += 1\n",
    "\n",
    "print('Notebooks:', notebook_counter) \n",
    "print('Text files:', textfile_counter) "
   ]
  }
 ],
 "metadata": {
  "kernelspec": {
   "display_name": "Python(Python 3)",
   "language": "python",
   "name": "python3"
  },
  "language_info": {
   "codemirror_mode": {
    "name": "ipython",
    "version": 3
   },
   "file_extension": ".py",
   "mimetype": "text/x-python",
   "name": "python",
   "nbconvert_exporter": "python",
   "pygments_lexer": "ipython3",
   "version": "3.8.5"
  }
 },
 "nbformat": 4,
 "nbformat_minor": 4
}
