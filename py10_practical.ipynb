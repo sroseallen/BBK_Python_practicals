{
 "cells": [
  {
   "cell_type": "markdown",
   "metadata": {},
   "source": [
    "# Session 10 practical\n",
    "\n",
    "Combine all that we have learned so far:\n",
    "- write functions\n",
    "- use type hints\n",
    "- write comments\n",
    "- catch , and/or raise, errors\n",
    "\n",
    "Attempt exercise 1 and 2 first, then attempt the starred version afterwards (and the double-starred version only if you feel motivated!)"
   ]
  },
  {
   "cell_type": "markdown",
   "metadata": {},
   "source": [
    "## Exercise 1: most common k-mers\n",
    "\n",
    "Find and print the most common motifs consisting of 2, 3, and 4 amino acids (motifs of length k are known as k-mers), and their count in file `seq_long.txt`.\n",
    "If multiple motifs are the most common, print them all. Example output:\n",
    "\n",
    "`\n",
    "[MT, 'TT']: 37\n",
    " MTT: 10\n",
    "`\n",
    "\n",
    "(the formatting is not important here, only the count and motifs!)"
   ]
  },
  {
   "cell_type": "code",
   "execution_count": 204,
   "metadata": {},
   "outputs": [
    {
     "data": {
      "text/plain": [
       "('ARLMIREAFAEDSGRFTCSA', 1)"
      ]
     },
     "execution_count": 204,
     "metadata": {},
     "output_type": "execute_result"
    }
   ],
   "source": [
    "from typing import TextIO\n",
    "import operator\n",
    "seq_fname = \"../data/seq_long.txt\"\n",
    "\n",
    "def common_motif (file: TextIO, kmer_length: int = 2) -> tuple:\n",
    "    '''\n",
    "    Finds and prints the most common motifs (k-mers) in a list of protein sequences. Does not assume each individual sequence can be joined (ie assumes each sequence is its own unique protein). \n",
    "    \n",
    "    Takes two arguments:\n",
    "    file: The filename containing the protein sequences to check\n",
    "    kmer_length: The length of common motif to identify (integer)\n",
    "    '''\n",
    "    with open (file, 'r') as file:\n",
    "        seq_list = file.read().splitlines()\n",
    "    unique_keys = set()\n",
    "    all_keys = []\n",
    "    \n",
    "    # pulls a list of k-mers from all sequences - one is a list of all possible k-mers (all_keys), and one is only the unique k-mers (unique_keys)\n",
    "    for seq in seq_list:\n",
    "        index_start = 0\n",
    "        for i in seq:\n",
    "            index_end = index_start + kmer_length\n",
    "            key = seq[index_start:index_end]\n",
    "            \n",
    "            # list of all keys:\n",
    "            all_keys.append(key)\n",
    "            \n",
    "            # list of all unique motifs:\n",
    "            if len(key) == kmer_length:\n",
    "                unique_keys.add(key)\n",
    "            index_start += 1  \n",
    "            \n",
    "    # finds total count of each unique kmer in every kmer identified\n",
    "    motif_dict = {}\n",
    "    for key in unique_keys:\n",
    "        motif_dict[key] = all_keys.count(key)\n",
    "        \n",
    "    # finds the maximum count and returns the key/value pair(s) for the most common motif(s)\n",
    "    maximum = max(motif_dict, key=motif_dict.get), max(motif_dict.values())\n",
    "    return maximum\n",
    "\n",
    "common_motif(seq_fname, 20)"
   ]
  },
  {
   "cell_type": "markdown",
   "metadata": {},
   "source": [
    "## Exercise 1*: longest non-unique k-mer\n",
    "\n",
    "What is(are) the length of the longest motif(s) that appear more than once? How many are there?\n",
    "\n",
    "(This is hard. Feel free to ignore it!)"
   ]
  },
  {
   "cell_type": "code",
   "execution_count": 206,
   "metadata": {},
   "outputs": [
    {
     "name": "stdout",
     "output_type": "stream",
     "text": [
      "Maximum length is 19 with a count of 2\n"
     ]
    }
   ],
   "source": [
    "def longest_common_motif (file: TextIO, kmer_length: int = 2) -> tuple:\n",
    "    '''\n",
    "    Finds and prints the longest motif which is present more than once. \n",
    "    \n",
    "    Takes one argument:\n",
    "    file: The filename containing the protein sequences to check\n",
    "    '''\n",
    "    with open (file, 'r') as file:\n",
    "        seq_list = file.read().splitlines()\n",
    "    unique_keys = set()\n",
    "    all_keys = []\n",
    "    \n",
    "    # pulls a list of k-mers from all sequences - one is a list of all possible k-mers (all_keys), and one is only the unique k-mers (unique_keys)\n",
    "    for seq in seq_list:\n",
    "        index_start = 0\n",
    "        for i in seq:\n",
    "            index_end = index_start + kmer_length\n",
    "            key = seq[index_start:index_end]\n",
    "            all_keys.append(key)\n",
    "            if len(key) == kmer_length:\n",
    "                unique_keys.add(key)\n",
    "            index_start += 1  \n",
    "            \n",
    "    # finds maximum count of the current k-mer length\n",
    "    motif_dict = {}\n",
    "    for key in unique_keys:\n",
    "        motif_dict[key] = all_keys.count(key)\n",
    "    count = max(motif_dict.values())\n",
    "    return count\n",
    "\n",
    "for k in range(2, 50):\n",
    "    if k == 2:\n",
    "        prev_count = 0\n",
    "    else:\n",
    "        prev_count = count\n",
    "    count = longest_common_motif(seq_fname, k)\n",
    "    if count == 1:\n",
    "        print (\"Maximum length is\", k-1, \"with a count of\", prev_count)\n",
    "        break"
   ]
  },
  {
   "cell_type": "markdown",
   "metadata": {},
   "source": [
    "## Exercise 1**: speed benchmarking\n",
    "\n",
    "Can you beat my code? See if you can get a faster run time (I/O not included, e.g., I assume seq contains the full sequence)"
   ]
  },
  {
   "cell_type": "code",
   "execution_count": 208,
   "metadata": {},
   "outputs": [
    {
     "name": "stdout",
     "output_type": "stream",
     "text": [
      "32.9 ms ± 7.41 ms per loop (mean ± std. dev. of 7 runs, 10 loops each)\n"
     ]
    }
   ],
   "source": [
    "#%timeit find_longest_nonunique_kmer(seq)\n",
    "# 50.6 ms ± 7.64 ms per loop (mean ± std. dev. of 7 runs, 10 loops each)\n",
    "\n",
    "%timeit common_motif(seq_fname, 2)\n"
   ]
  },
  {
   "cell_type": "markdown",
   "metadata": {},
   "source": [
    "## Exercise 2: Normality\n",
    "\n",
    "- Get the length of sequences in file `multi_seqs.txt`\n",
    "- Perform a normality test: can you conclude the sequence lengths are normally distributed?"
   ]
  },
  {
   "cell_type": "code",
   "execution_count": null,
   "metadata": {},
   "outputs": [],
   "source": [
    "sequences_fname = \"../data/multi_seqs.txt\""
   ]
  },
  {
   "cell_type": "markdown",
   "metadata": {},
   "source": [
    "## Exercise 2*: Normality\n",
    "\n",
    "Using scientific libraries, perform the following:\n",
    "- obtain random variates from the following distributions: uniform, cauchy, laplace\n",
    "- plot the resulting samples' distribution\n",
    "- check whether the resulting samples are normally distributed"
   ]
  },
  {
   "cell_type": "markdown",
   "metadata": {},
   "source": [
    "## Exercise 2**: Normality\n",
    "\n",
    "As you obtain more samples, statistical tests become more powerful.\n",
    "\n",
    "How many random variates from a laplace distribution are needed for the p-value to be below 0.5, 90% of the time?\n",
    "\n",
    "And how would you plot it ?"
   ]
  },
  {
   "cell_type": "code",
   "execution_count": null,
   "metadata": {},
   "outputs": [],
   "source": []
  }
 ],
 "metadata": {
  "kernelspec": {
   "display_name": "Python(Python 3)",
   "language": "python",
   "name": "python3"
  },
  "language_info": {
   "codemirror_mode": {
    "name": "ipython",
    "version": 3
   },
   "file_extension": ".py",
   "mimetype": "text/x-python",
   "name": "python",
   "nbconvert_exporter": "python",
   "pygments_lexer": "ipython3",
   "version": "3.8.5"
  }
 },
 "nbformat": 4,
 "nbformat_minor": 4
}
