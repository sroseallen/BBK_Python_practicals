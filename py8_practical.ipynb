{
 "cells": [
  {
   "cell_type": "markdown",
   "metadata": {},
   "source": [
    "# Python Practical 9: Practical"
   ]
  },
  {
   "cell_type": "markdown",
   "metadata": {},
   "source": [
    "## A)  Functions and modules"
   ]
  },
  {
   "cell_type": "markdown",
   "metadata": {},
   "source": [
    "**1. F-measure**\n",
    "\n",
    "The F-measure (F1 score) is a binary classification metric that can be\n",
    "interpreted as a weighted average of precision and recall. It is commonly\n",
    "used in the field of information retrieval (where often there is no\n",
    "obvious way to define a true negative &mdash; for example, when retrieving\n",
    "gene names from free text, is a true negative every non-gene word, or is\n",
    "it every non-gene noun?). The F-measure ranges between +1 (best) and 0\n",
    "(worst).\n",
    "\n",
    "Write a script containing a function that calculates the F-measure. The\n",
    "function should have 3 integer arguments &mdash; representing the number of\n",
    "true positives (`tp`), false positives (`fp`) and false negatives (`fn`) &mdash; and\n",
    "return the F-measure calculated according to the following formula:\n",
    "\n",
    "`F1 = (2 x tp) / ((2 x tp) + fp + fn)`\n",
    "\n",
    "The function should also have an appropriate docstring.\n",
    "\n",
    "Call the function several times within your script using different\n",
    "combinations of `tp`, `fp` and `fn`. Are there values of `tp`, `fp` and `fn` that\n",
    "help you validate that your function is working?"
   ]
  },
  {
   "cell_type": "code",
   "execution_count": 8,
   "metadata": {},
   "outputs": [],
   "source": [
    "def f_measure(tp, fp, fn: int) -> float:\n",
    "    \"\"\"\n",
    "    Calculates the F-measure, or F1 Score - a weighted measure of accuracy and precision. \n",
    "    \n",
    "    Args:\n",
    "        tp: True Positive, integer\n",
    "        fp: False Positive, integer\n",
    "        fn: False Negative, integer\n",
    "        \n",
    "    Returns:\n",
    "        The F1 binary classification between 0 and 1, where 1 is the most accurate/precise score.\n",
    "    \"\"\"\n",
    "    \n",
    "    F1 = (2 * tp) / ((2 * tp) + fp + fn)\n",
    "    return F1"
   ]
  },
  {
   "cell_type": "code",
   "execution_count": 17,
   "metadata": {},
   "outputs": [
    {
     "name": "stdout",
     "output_type": "stream",
     "text": [
      "0.9615384615384616\n",
      "0.6666666666666666\n",
      "0.0\n",
      "Help on function f_measure in module __main__:\n",
      "\n",
      "f_measure(tp, fp, fn: int) -> float\n",
      "    Calculates the F-measure, or F1 Score, in the absence of a True Negative value. \n",
      "    \n",
      "    Args:\n",
      "        tp: True Positive, integer\n",
      "        fp: False Positive, integer\n",
      "        fn: False Negative, integer\n",
      "        \n",
      "    Returns:\n",
      "        The F1 binary classification of average precision and recall between 0 and 1, where 1 is the most accurate/precise score.\n",
      "\n"
     ]
    }
   ],
   "source": [
    "#print (f_measure(250, 16, 4))\n",
    "#print (f_measure(\"a\", \"b\", 3)) #TypeError: can only concatenate str (not \"int\") to str\n",
    "#print (f_measure(True, True, False)) #accepts boolean as args since True = 1 and False = 0\n",
    "\n",
    "#print (f_measure(90, 5)) #f_measure() missing 1 required positional argument: 'fn'\n",
    "#print (f_measure(90, 50, 6, 23)) #TypeError: f_measure() takes 3 positional arguments but 4 were given\n",
    "\n",
    "#print (f_measure(0, 0, 0)) #ZeroDivisionError: division by zero\n",
    "#print (f_measure(0,10,40)) #accepts since the 0 is not in denominator of F1 equation\n",
    "help (f_measure)"
   ]
  },
  {
   "cell_type": "markdown",
   "metadata": {},
   "source": [
    "**2. MCC**\n",
    "\n",
    "The Matthews correlation coefficient (MCC) is a binary classification\n",
    "metric commonly used to measure the performance of bioinformatics\n",
    "machine-learning classifiers (e.g. secondary structure predictors). The\n",
    "MCC ranges between +1 (perfect predictions) and -1 (predictions\n",
    "completely anti-correlated with the correct answer). Scores around\n",
    "zero are what one would expect for random predictions.\n",
    "\n",
    "Write a script containing a function that calculates the MCC. The\n",
    "function should have 4 integer arguments &mdash; representing the number of\n",
    "true positive (`tp`), false positives (`fp`), true negatives (`tn`) and false\n",
    "negatives (`fn`) &mdash; and return the MCC calculated according to the\n",
    "following formula:\n",
    "\n",
    "`MCC = (tp x tn - fp x fn) / sqrt( (tp + fp)(tp + fn)(tn + fp)(tn + fn) )`\n",
    "\n",
    "The function should also have an appropriate docstring.\n",
    "\n",
    "Call the function several times within your script using different\n",
    "combinations of `tp`, `fp`, `tn` and `fn`. Are there values of `tp`, `fp`, `tn` and\n",
    "`fn` that help you validate that your function is working?\n"
   ]
  },
  {
   "cell_type": "code",
   "execution_count": 25,
   "metadata": {},
   "outputs": [],
   "source": [
    "def mcc(tp, fp, tn, fn: int) -> float:\n",
    "    \"\"\"\n",
    "    Calculates the Matthews correlation coefficient, or MCC, to measure performance of machine learning algorithms.\n",
    "    \n",
    "    Args:\n",
    "        tp: True Positive, integer\n",
    "        fp: False Positive, integer\n",
    "        fn: False Negative, integer\n",
    "        tn: True Negative, integer\n",
    "    \n",
    "    Returns:\n",
    "        MCC value, a float between -1 and +1, where +1 is a perfectly correlated prediction and -1 is anti-correlated. A score of 0 indicates random prediction.\n",
    "    \"\"\"\n",
    "    import math\n",
    "    MCC = ((tp * tn) - (fp * fn)) / math.sqrt( (tp + fp)*(tp + fn)*(tn + fp)*(tn + fn) )\n",
    "    return MCC\n"
   ]
  },
  {
   "cell_type": "code",
   "execution_count": 38,
   "metadata": {},
   "outputs": [
    {
     "name": "stdout",
     "output_type": "stream",
     "text": [
      "-0.3721042037676254\n",
      "Help on function mcc in module __main__:\n",
      "\n",
      "mcc(tp, fp, tn, fn: int) -> float\n",
      "    Calculates the Matthews correlation coefficient, or MCC, to measure performance of machine learning algorithms.\n",
      "    \n",
      "    Args:\n",
      "        tp: True Positive, integer\n",
      "        fp: False Positive, integer\n",
      "        fn: False Negative, integer\n",
      "        tn: True Negative, integer\n",
      "    \n",
      "    Returns:\n",
      "        MCC value, a float between -1 and +1, where +1 is a perfectly correlated prediction and -1 is anti-correlated. A score of 0 indicates random prediction.\n",
      "\n"
     ]
    }
   ],
   "source": [
    "#print (mcc(250, 16, 4, 40)) #0.043693954030054244\n",
    "#print (mcc(\"a\", \"b\", 3)) #TypeError: can only concatenate str (not \"int\") to str\n",
    "#print (mcc(False, True, True, True)) #accepts boolean as args since True = 1 and False = 0\n",
    "\n",
    "#print (mcc(90, 5)) #f_measure() missing 2 required positional argument: 'tn' and fn'\n",
    "#print (mcc(90, 50, 6, 23, 100)) #TypeError: f_measure() takes 4 positional arguments but 5 were given\n",
    "\n",
    "#print (mcc(0, 0, 0, 0)) #ZeroDivisionError: float division by zero\n",
    "#print (mcc(0,10,40,90)) #accepts since the 0 is not in denominator of F1 equation\n",
    "help (mcc)"
   ]
  },
  {
   "cell_type": "markdown",
   "metadata": {},
   "source": [
    "**3. Binary classification metric module**\n",
    "\n",
    "Place your MCC and F-measure functions in a module and write a script\n",
    "that invokes both of them. How do the measures compare when `tp = tn` and `fp = fn`?"
   ]
  },
  {
   "cell_type": "code",
   "execution_count": 47,
   "metadata": {},
   "outputs": [
    {
     "name": "stdout",
     "output_type": "stream",
     "text": [
      "F1: 0.8 MCC: 0.6\n"
     ]
    }
   ],
   "source": [
    "import classification as c\n",
    "\n",
    "F1 = c.f_measure(60, 15, 15)\n",
    "MCC = c.mcc(60, 15, 60, 15)\n",
    "\n",
    "print (\"F1:\", F1, \"MCC:\", MCC)"
   ]
  },
  {
   "cell_type": "markdown",
   "metadata": {},
   "source": [
    "## B) Matplotlib"
   ]
  },
  {
   "cell_type": "markdown",
   "metadata": {},
   "source": [
    "**1. PDB source species pie chart**\n",
    "\n",
    "Create a pie chart from the data in file `pdb_counts.txt` showing the\n",
    "distribution of released structures in the Protein Data Bank by organism\n",
    "(excluding entries from a non-natural source). Here are the contents of the file:"
   ]
  },
  {
   "cell_type": "code",
   "execution_count": 48,
   "metadata": {},
   "outputs": [
    {
     "name": "stdout",
     "output_type": "stream",
     "text": [
      "Thermus thermophilus: 7839\n",
      "Escherichia coli: 5183\n",
      "Saccharomyces cerevisiae: 4938\n",
      "Homo sapiens: 3385\n",
      "Bos taurus: 2727\n",
      "Haloarcula marismortui: 2067\n",
      "Oryctolagus cuniculus: 1791\n",
      "Other: 16365\n"
     ]
    }
   ],
   "source": [
    "cat ../data/pdb_counts.txt"
   ]
  },
  {
   "cell_type": "markdown",
   "metadata": {},
   "source": [
    "Label the wedges with a percentage of the overall number. The colors argument should be\n",
    "used to provide (quoting the documentation) “a sequence of matplotlib\n",
    "color args through which the pie chart will cycle.” Here is a simple\n",
    "example:\n",
    "\n",
    "`colors=['b', 'g', 'r', 'c', 'm', 'y']`"
   ]
  },
  {
   "cell_type": "code",
   "execution_count": 132,
   "metadata": {},
   "outputs": [
    {
     "data": {
      "text/plain": [
       "<function matplotlib.pyplot.show(close=None, block=None)>"
      ]
     },
     "execution_count": 132,
     "metadata": {},
     "output_type": "execute_result"
    },
    {
     "data": {
      "image/png": "[encoded data removed]",
      "text/plain": [
       "<Figure size 432x288 with 1 Axes>"
      ]
     },
     "metadata": {},
     "output_type": "display_data"
    }
   ],
   "source": [
    "pdb_counts_fname = '../data/pdb_counts.txt'\n",
    "\n",
    "import matplotlib.pyplot as plt\n",
    "\n",
    "counts = []\n",
    "total = 0\n",
    "\n",
    "with open (pdb_counts_fname, 'r') as file:\n",
    "    line = file.read().splitlines()\n",
    "    for i in line:\n",
    "        i = i.split(sep=\":\") # separates the name from the count\n",
    "        counts.append(i[1].lstrip()) # adds the counts to the list, removes whitespace at the start\n",
    "        total += int(i[1]) # adds count to running total\n",
    "\n",
    "percent = [int(i) / total * 100 for i in counts] # gets % of each count\n",
    "percent = [f\"{i:.2f}%\" for i in percent] # formats % to look nicer (to 2 dp and with % sign)\n",
    "\n",
    "fig, axes = plt.subplots()\n",
    "axes.pie (counts, \n",
    "          labels = percent, \n",
    "          rotatelabels=True, \n",
    "          labeldistance = 0.5, \n",
    "          colors = [\"AliceBlue\", \"Aqua\", \"Aquamarine\", \"CornflowerBlue\", \"DeepSkyBlue\", \"LightBlue\", \"LightSeaGreen\", \"MediumAquaMarine\"])\n",
    "plt.show"
   ]
  },
  {
   "cell_type": "markdown",
   "metadata": {},
   "source": [
    "**2. Histogram with multiple distributions**\n",
    "\n",
    "The `hist()` function can be used to plot multiple sets of data (i.e.\n",
    "multiple columns per histogram bin) by passing a 2D `ndarray` as the first\n",
    "parameter. Create 3 sets of 1000 numbers drawn from a normal, logistic\n",
    "and Laplace distribution respectively (using default distribution\n",
    "parameters). For example, this draws 1000 random numbers from a\n",
    "Laplace distribution:\n",
    "\n",
    "`data = np.random.laplace(size=1000)`\n",
    "\n",
    "Note that you may get a warning if the 2D data array is in the wrong\n",
    "orientation (3 x 1000 instead of 1000 x 3). In this case, one option is to\n",
    "switch orientation using `transpose()`.\n",
    "\n",
    "Try generating a plot with 20 bins. Modify your plot so that each\n",
    "dataset has a different colour from those supplied by default; this\n",
    "involves creating a list of colour names (3 strings) and passing the list as\n",
    "an argument to the `hist()` function using the color keyword."
   ]
  },
  {
   "cell_type": "code",
   "execution_count": 215,
   "metadata": {},
   "outputs": [
    {
     "data": {
      "text/plain": [
       "<function matplotlib.pyplot.show(close=None, block=None)>"
      ]
     },
     "execution_count": 215,
     "metadata": {},
     "output_type": "execute_result"
    },
    {
     "data": {
      "image/png": "[encoded data removed]",
      "text/plain": [
       "<Figure size 432x288 with 1 Axes>"
      ]
     },
     "metadata": {
      "needs_background": "light"
     },
     "output_type": "display_data"
    }
   ],
   "source": [
    "import numpy as np\n",
    "rng = np.random.default_rng()     \n",
    "\n",
    "normal = rng.normal(size = 1000)\n",
    "logistic = rng.logistic(size = 1000)\n",
    "laplace = rng.laplace(size = 1000)\n",
    "\n",
    "plt.hist((normal, logistic, laplace), \n",
    "         bins = 20, \n",
    "         color = [\"FireBrick\", \"DarkSalmon\", \"DarkRed\"])\n",
    "plt.show"
   ]
  },
  {
   "cell_type": "code",
   "execution_count": 182,
   "metadata": {
    "collapsed": true,
    "jupyter": {
     "outputs_hidden": true
    }
   },
   "outputs": [
    {
     "name": "stdout",
     "output_type": "stream",
     "text": [
      "Help on function hist in module matplotlib.pyplot:\n",
      "\n",
      "hist(x, bins=None, range=None, density=False, weights=None, cumulative=False, bottom=None, histtype='bar', align='mid', orientation='vertical', rwidth=None, log=False, color=None, label=None, stacked=False, *, data=None, **kwargs)\n",
      "    Plot a histogram.\n",
      "    \n",
      "    Compute and draw the histogram of *x*.  The return value is a tuple\n",
      "    (*n*, *bins*, *patches*) or ([*n0*, *n1*, ...], *bins*, [*patches0*,\n",
      "    *patches1*, ...]) if the input contains multiple data.  See the\n",
      "    documentation of the *weights* parameter to draw a histogram of\n",
      "    already-binned data.\n",
      "    \n",
      "    Multiple data can be provided via *x* as a list of datasets\n",
      "    of potentially different length ([*x0*, *x1*, ...]), or as\n",
      "    a 2-D ndarray in which each column is a dataset.  Note that\n",
      "    the ndarray form is transposed relative to the list form.\n",
      "    \n",
      "    Masked arrays are not supported.\n",
      "    \n",
      "    The *bins*, *range*, *weights*, and *density* parameters behave as in\n",
      "    `numpy.histogram`.\n",
      "    \n",
      "    Parameters\n",
      "    ----------\n",
      "    x : (n,) array or sequence of (n,) arrays\n",
      "        Input values, this takes either a single array or a sequence of\n",
      "        arrays which are not required to be of the same length.\n",
      "    \n",
      "    bins : int or sequence or str, default: :rc:`hist.bins`\n",
      "        If *bins* is an integer, it defines the number of equal-width bins\n",
      "        in the range.\n",
      "    \n",
      "        If *bins* is a sequence, it defines the bin edges, including the\n",
      "        left edge of the first bin and the right edge of the last bin;\n",
      "        in this case, bins may be unequally spaced.  All but the last\n",
      "        (righthand-most) bin is half-open.  In other words, if *bins* is::\n",
      "    \n",
      "            [1, 2, 3, 4]\n",
      "    \n",
      "        then the first bin is ``[1, 2)`` (including 1, but excluding 2) and\n",
      "        the second ``[2, 3)``.  The last bin, however, is ``[3, 4]``, which\n",
      "        *includes* 4.\n",
      "    \n",
      "        If *bins* is a string, it is one of the binning strategies\n",
      "        supported by `numpy.histogram_bin_edges`: 'auto', 'fd', 'doane',\n",
      "        'scott', 'stone', 'rice', 'sturges', or 'sqrt'.\n",
      "    \n",
      "    range : tuple or None, default: None\n",
      "        The lower and upper range of the bins. Lower and upper outliers\n",
      "        are ignored. If not provided, *range* is ``(x.min(), x.max())``.\n",
      "        Range has no effect if *bins* is a sequence.\n",
      "    \n",
      "        If *bins* is a sequence or *range* is specified, autoscaling\n",
      "        is based on the specified bin range instead of the\n",
      "        range of x.\n",
      "    \n",
      "    density : bool, default: False\n",
      "        If ``True``, draw and return a probability density: each bin\n",
      "        will display the bin's raw count divided by the total number of\n",
      "        counts *and the bin width*\n",
      "        (``density = counts / (sum(counts) * np.diff(bins))``),\n",
      "        so that the area under the histogram integrates to 1\n",
      "        (``np.sum(density * np.diff(bins)) == 1``).\n",
      "    \n",
      "        If *stacked* is also ``True``, the sum of the histograms is\n",
      "        normalized to 1.\n",
      "    \n",
      "    weights : (n,) array-like or None, default: None\n",
      "        An array of weights, of the same shape as *x*.  Each value in\n",
      "        *x* only contributes its associated weight towards the bin count\n",
      "        (instead of 1).  If *density* is ``True``, the weights are\n",
      "        normalized, so that the integral of the density over the range\n",
      "        remains 1.\n",
      "    \n",
      "        This parameter can be used to draw a histogram of data that has\n",
      "        already been binned, e.g. using `numpy.histogram` (by treating each\n",
      "        bin as a single point with a weight equal to its count) ::\n",
      "    \n",
      "            counts, bins = np.histogram(data)\n",
      "            plt.hist(bins[:-1], bins, weights=counts)\n",
      "    \n",
      "        (or you may alternatively use `~.bar()`).\n",
      "    \n",
      "    cumulative : bool or -1, default: False\n",
      "        If ``True``, then a histogram is computed where each bin gives the\n",
      "        counts in that bin plus all bins for smaller values. The last bin\n",
      "        gives the total number of datapoints.\n",
      "    \n",
      "        If *density* is also ``True`` then the histogram is normalized such\n",
      "        that the last bin equals 1.\n",
      "    \n",
      "        If *cumulative* is a number less than 0 (e.g., -1), the direction\n",
      "        of accumulation is reversed.  In this case, if *density* is also\n",
      "        ``True``, then the histogram is normalized such that the first bin\n",
      "        equals 1.\n",
      "    \n",
      "    bottom : array-like, scalar, or None, default: None\n",
      "        Location of the bottom of each bin, ie. bins are drawn from\n",
      "        ``bottom`` to ``bottom + hist(x, bins)`` If a scalar, the bottom\n",
      "        of each bin is shifted by the same amount. If an array, each bin\n",
      "        is shifted independently and the length of bottom must match the\n",
      "        number of bins. If None, defaults to 0.\n",
      "    \n",
      "    histtype : {'bar', 'barstacked', 'step', 'stepfilled'}, default: 'bar'\n",
      "        The type of histogram to draw.\n",
      "    \n",
      "        - 'bar' is a traditional bar-type histogram.  If multiple data\n",
      "          are given the bars are arranged side by side.\n",
      "        - 'barstacked' is a bar-type histogram where multiple\n",
      "          data are stacked on top of each other.\n",
      "        - 'step' generates a lineplot that is by default unfilled.\n",
      "        - 'stepfilled' generates a lineplot that is by default filled.\n",
      "    \n",
      "    align : {'left', 'mid', 'right'}, default: 'mid'\n",
      "        The horizontal alignment of the histogram bars.\n",
      "    \n",
      "        - 'left': bars are centered on the left bin edges.\n",
      "        - 'mid': bars are centered between the bin edges.\n",
      "        - 'right': bars are centered on the right bin edges.\n",
      "    \n",
      "    orientation : {'vertical', 'horizontal'}, default: 'vertical'\n",
      "        If 'horizontal', `~.Axes.barh` will be used for bar-type histograms\n",
      "        and the *bottom* kwarg will be the left edges.\n",
      "    \n",
      "    rwidth : float or None, default: None\n",
      "        The relative width of the bars as a fraction of the bin width.  If\n",
      "        ``None``, automatically compute the width.\n",
      "    \n",
      "        Ignored if *histtype* is 'step' or 'stepfilled'.\n",
      "    \n",
      "    log : bool, default: False\n",
      "        If ``True``, the histogram axis will be set to a log scale. If\n",
      "        *log* is ``True`` and *x* is a 1D array, empty bins will be\n",
      "        filtered out and only the non-empty ``(n, bins, patches)``\n",
      "        will be returned.\n",
      "    \n",
      "    color : color or array-like of colors or None, default: None\n",
      "        Color or sequence of colors, one per dataset.  Default (``None``)\n",
      "        uses the standard line color sequence.\n",
      "    \n",
      "    label : str or None, default: None\n",
      "        String, or sequence of strings to match multiple datasets.  Bar\n",
      "        charts yield multiple patches per dataset, but only the first gets\n",
      "        the label, so that `~.Axes.legend` will work as expected.\n",
      "    \n",
      "    stacked : bool, default: False\n",
      "        If ``True``, multiple data are stacked on top of each other If\n",
      "        ``False`` multiple data are arranged side by side if histtype is\n",
      "        'bar' or on top of each other if histtype is 'step'\n",
      "    \n",
      "    Returns\n",
      "    -------\n",
      "    n : array or list of arrays\n",
      "        The values of the histogram bins. See *density* and *weights* for a\n",
      "        description of the possible semantics.  If input *x* is an array,\n",
      "        then this is an array of length *nbins*. If input is a sequence of\n",
      "        arrays ``[data1, data2, ...]``, then this is a list of arrays with\n",
      "        the values of the histograms for each of the arrays in the same\n",
      "        order.  The dtype of the array *n* (or of its element arrays) will\n",
      "        always be float even if no weighting or normalization is used.\n",
      "    \n",
      "    bins : array\n",
      "        The edges of the bins. Length nbins + 1 (nbins left edges and right\n",
      "        edge of last bin).  Always a single array even when multiple data\n",
      "        sets are passed in.\n",
      "    \n",
      "    patches : `.BarContainer` or list of a single `.Polygon` or list of such objects\n",
      "        Container of individual artists used to create the histogram\n",
      "        or list of such containers if there are multiple input datasets.\n",
      "    \n",
      "    Other Parameters\n",
      "    ----------------\n",
      "    **kwargs\n",
      "        `~matplotlib.patches.Patch` properties\n",
      "    \n",
      "    See Also\n",
      "    --------\n",
      "    hist2d : 2D histograms\n",
      "    \n",
      "    Notes\n",
      "    -----\n",
      "    For large numbers of bins (>1000), 'step' and 'stepfilled' can be\n",
      "    significantly faster than 'bar' and 'barstacked'.\n",
      "    \n",
      "    .. note::\n",
      "        In addition to the above described arguments, this function can take\n",
      "        a *data* keyword argument. If such a *data* argument is given,\n",
      "        the following arguments can also be string ``s``, which is\n",
      "        interpreted as ``data[s]`` (unless this raises an exception):\n",
      "        *x*, *weights*.\n",
      "    \n",
      "        Objects passed as **data** must support item access (``data[s]``) and\n",
      "        membership test (``s in data``).\n",
      "\n"
     ]
    }
   ],
   "source": [
    "help(plt.hist)"
   ]
  },
  {
   "cell_type": "markdown",
   "metadata": {},
   "source": [
    "**3. Bubble plot**\n",
    "\n",
    "Create a scatter plot using the data in file `bubbles.txt`. This file has\n",
    "3 columns of data: `x-coordinates`, `y-coordinates`, and `magnitudes`. Here are the first few lines:"
   ]
  },
  {
   "cell_type": "code",
   "execution_count": 193,
   "metadata": {},
   "outputs": [
    {
     "name": "stdout",
     "output_type": "stream",
     "text": [
      "2.3 2.1 800\n",
      "2.9 2.9 800\n",
      "3.5 2.9 1200\n",
      "4.4 5.2 400\n",
      "5.7 5.3 1000\n"
     ]
    }
   ],
   "source": [
    "%%bash\n",
    "head -5 ../data/bubbles.txt"
   ]
  },
  {
   "cell_type": "markdown",
   "metadata": {},
   "source": [
    "These should be treated as the *x*- and *y*-coordinates of the centre of a circle,\n",
    "and the area of a circle respectively. Circles should have a transparency\n",
    "of 0.5 (keyword `alpha`) and colour goldenrod (keyword `c`). Add\n",
    "axis labels “actual” (*x*-axis) and “predicted” (*y*-axis) using the same\n",
    "approach that was used to add labels to the simple plot in the Matplotlib video. "
   ]
  },
  {
   "cell_type": "code",
   "execution_count": 213,
   "metadata": {},
   "outputs": [
    {
     "data": {
      "image/png": "[encoded data removed]",
      "text/plain": [
       "<Figure size 432x288 with 1 Axes>"
      ]
     },
     "metadata": {
      "needs_background": "light"
     },
     "output_type": "display_data"
    }
   ],
   "source": [
    "bubbles_fname = '../data/bubbles.txt'\n",
    "\n",
    "with open (bubbles_fname, 'r') as file:\n",
    "    line = file.read().splitlines()\n",
    "    x = []\n",
    "    y = []\n",
    "    mag = []\n",
    "    for data in line:\n",
    "        data = data.split(sep = \" \")\n",
    "        x.append(float(data[0]))\n",
    "        y.append(float(data[1]))\n",
    "        mag.append(float(data[2]))\n",
    "        \n",
    "fig, axes = plt.subplots()\n",
    "axes.scatter(x, \n",
    "             y, \n",
    "             mag, \n",
    "             c = \"goldenrod\", \n",
    "             alpha = 0.5)\n",
    "axes.set_xlabel(\"actual\")\n",
    "axes.set_ylabel(\"predicted\")\n",
    "plt.show()"
   ]
  },
  {
   "cell_type": "code",
   "execution_count": 203,
   "metadata": {
    "collapsed": true,
    "jupyter": {
     "outputs_hidden": true
    }
   },
   "outputs": [
    {
     "name": "stdout",
     "output_type": "stream",
     "text": [
      "Help on method scatter in module matplotlib.axes._axes:\n",
      "\n",
      "scatter(x, y, s=None, c=None, marker=None, cmap=None, norm=None, vmin=None, vmax=None, alpha=None, linewidths=None, verts=<deprecated parameter>, edgecolors=None, *, plotnonfinite=False, data=None, **kwargs) method of matplotlib.axes._subplots.AxesSubplot instance\n",
      "    A scatter plot of *y* vs. *x* with varying marker size and/or color.\n",
      "    \n",
      "    Parameters\n",
      "    ----------\n",
      "    x, y : float or array-like, shape (n, )\n",
      "        The data positions.\n",
      "    \n",
      "    s : float or array-like, shape (n, ), optional\n",
      "        The marker size in points**2.\n",
      "        Default is ``rcParams['lines.markersize'] ** 2``.\n",
      "    \n",
      "    c : array-like or list of colors or color, optional\n",
      "        The marker colors. Possible values:\n",
      "    \n",
      "        - A scalar or sequence of n numbers to be mapped to colors using\n",
      "          *cmap* and *norm*.\n",
      "        - A 2-D array in which the rows are RGB or RGBA.\n",
      "        - A sequence of colors of length n.\n",
      "        - A single color format string.\n",
      "    \n",
      "        Note that *c* should not be a single numeric RGB or RGBA sequence\n",
      "        because that is indistinguishable from an array of values to be\n",
      "        colormapped. If you want to specify the same RGB or RGBA value for\n",
      "        all points, use a 2-D array with a single row.  Otherwise, value-\n",
      "        matching will have precedence in case of a size matching with *x*\n",
      "        and *y*.\n",
      "    \n",
      "        If you wish to specify a single color for all points\n",
      "        prefer the *color* keyword argument.\n",
      "    \n",
      "        Defaults to `None`. In that case the marker color is determined\n",
      "        by the value of *color*, *facecolor* or *facecolors*. In case\n",
      "        those are not specified or `None`, the marker color is determined\n",
      "        by the next color of the ``Axes``' current \"shape and fill\" color\n",
      "        cycle. This cycle defaults to :rc:`axes.prop_cycle`.\n",
      "    \n",
      "    marker : `~.markers.MarkerStyle`, default: :rc:`scatter.marker`\n",
      "        The marker style. *marker* can be either an instance of the class\n",
      "        or the text shorthand for a particular marker.\n",
      "        See :mod:`matplotlib.markers` for more information about marker\n",
      "        styles.\n",
      "    \n",
      "    cmap : str or `~matplotlib.colors.Colormap`, default: :rc:`image.cmap`\n",
      "        A `.Colormap` instance or registered colormap name. *cmap* is only\n",
      "        used if *c* is an array of floats.\n",
      "    \n",
      "    norm : `~matplotlib.colors.Normalize`, default: None\n",
      "        If *c* is an array of floats, *norm* is used to scale the color\n",
      "        data, *c*, in the range 0 to 1, in order to map into the colormap\n",
      "        *cmap*.\n",
      "        If *None*, use the default `.colors.Normalize`.\n",
      "    \n",
      "    vmin, vmax : float, default: None\n",
      "        *vmin* and *vmax* are used in conjunction with the default norm to\n",
      "        map the color array *c* to the colormap *cmap*. If None, the\n",
      "        respective min and max of the color array is used.\n",
      "        It is deprecated to use *vmin*/*vmax* when *norm* is given.\n",
      "    \n",
      "    alpha : float, default: None\n",
      "        The alpha blending value, between 0 (transparent) and 1 (opaque).\n",
      "    \n",
      "    linewidths : float or array-like, default: :rc:`lines.linewidth`\n",
      "        The linewidth of the marker edges. Note: The default *edgecolors*\n",
      "        is 'face'. You may want to change this as well.\n",
      "    \n",
      "    edgecolors : {'face', 'none', *None*} or color or sequence of color, default: :rc:`scatter.edgecolors`\n",
      "        The edge color of the marker. Possible values:\n",
      "    \n",
      "        - 'face': The edge color will always be the same as the face color.\n",
      "        - 'none': No patch boundary will be drawn.\n",
      "        - A color or sequence of colors.\n",
      "    \n",
      "        For non-filled markers, the *edgecolors* kwarg is ignored and\n",
      "        forced to 'face' internally.\n",
      "    \n",
      "    plotnonfinite : bool, default: False\n",
      "        Set to plot points with nonfinite *c*, in conjunction with\n",
      "        `~matplotlib.colors.Colormap.set_bad`.\n",
      "    \n",
      "    Returns\n",
      "    -------\n",
      "    `~matplotlib.collections.PathCollection`\n",
      "    \n",
      "    Other Parameters\n",
      "    ----------------\n",
      "    **kwargs : `~matplotlib.collections.Collection` properties\n",
      "    \n",
      "    See Also\n",
      "    --------\n",
      "    plot : To plot scatter plots when markers are identical in size and\n",
      "        color.\n",
      "    \n",
      "    Notes\n",
      "    -----\n",
      "    * The `.plot` function will be faster for scatterplots where markers\n",
      "      don't vary in size or color.\n",
      "    \n",
      "    * Any or all of *x*, *y*, *s*, and *c* may be masked arrays, in which\n",
      "      case all masks will be combined and only unmasked points will be\n",
      "      plotted.\n",
      "    \n",
      "    * Fundamentally, scatter works with 1-D arrays; *x*, *y*, *s*, and *c*\n",
      "      may be input as N-D arrays, but within scatter they will be\n",
      "      flattened. The exception is *c*, which will be flattened only if its\n",
      "      size matches the size of *x* and *y*.\n",
      "    \n",
      "    .. note::\n",
      "        In addition to the above described arguments, this function can take\n",
      "        a *data* keyword argument. If such a *data* argument is given,\n",
      "        the following arguments can also be string ``s``, which is\n",
      "        interpreted as ``data[s]`` (unless this raises an exception):\n",
      "        *x*, *y*, *s*, *linewidths*, *edgecolors*, *c*, *facecolor*, *facecolors*, *color*.\n",
      "    \n",
      "        Objects passed as **data** must support item access (``data[s]``) and\n",
      "        membership test (``s in data``).\n",
      "\n"
     ]
    }
   ],
   "source": [
    "help(axes.scatter)"
   ]
  }
 ],
 "metadata": {
  "kernelspec": {
   "display_name": "Python(Python 3)",
   "language": "python",
   "name": "python3"
  },
  "language_info": {
   "codemirror_mode": {
    "name": "ipython",
    "version": 3
   },
   "file_extension": ".py",
   "mimetype": "text/x-python",
   "name": "python",
   "nbconvert_exporter": "python",
   "pygments_lexer": "ipython3",
   "version": "3.8.5"
  }
 },
 "nbformat": 4,
 "nbformat_minor": 4
}
