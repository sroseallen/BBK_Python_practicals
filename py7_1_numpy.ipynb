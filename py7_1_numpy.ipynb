{
 "cells": [
  {
   "cell_type": "markdown",
   "metadata": {},
   "source": [
    "# NumPy"
   ]
  },
  {
   "cell_type": "markdown",
   "metadata": {},
   "source": [
    "## Array input and output\n",
    "\n",
    "Let's start by creating an array **from data in a file**:"
   ]
  },
  {
   "cell_type": "code",
   "execution_count": 1,
   "metadata": {},
   "outputs": [
    {
     "name": "stdout",
     "output_type": "stream",
     "text": [
      "[ 1.630000e+00 -3.278000e+01 -4.100000e+00  2.530700e+01  8.000000e+00\n",
      "  3.133333e+01  7.804592e+02 -4.223430e+02  8.761200e+01  9.287000e+02\n",
      " -1.870000e+02  1.153040e+03  4.200000e+00  9.320000e-01  5.650000e+00\n",
      " -8.205900e+03 -2.749655e+03  5.912000e+00  2.347105e+03  3.920000e+01\n",
      "  6.150000e+01]\n"
     ]
    }
   ],
   "source": [
    "import numpy as np\n",
    "\n",
    "a = np.loadtxt('../data/numbers.txt')\n",
    "print(a)"
   ]
  },
  {
   "cell_type": "markdown",
   "metadata": {},
   "source": [
    "Notice that the default output uses **scientific notation** and has lots of digits after the floating point! We can change this as follows - `precision` is the number digits after the floating point and `suppress` turns off scientific notation.  "
   ]
  },
  {
   "cell_type": "code",
   "execution_count": 2,
   "metadata": {},
   "outputs": [
    {
     "name": "stdout",
     "output_type": "stream",
     "text": [
      "[    1.63   -32.78    -4.1     25.31     8.      31.33   780.46  -422.34\n",
      "    87.61   928.7   -187.    1153.04     4.2      0.93     5.65 -8205.9\n",
      " -2749.66     5.91  2347.11    39.2     61.5 ]\n"
     ]
    }
   ],
   "source": [
    "# set precision and suppress scientific notation\n",
    "np.set_printoptions(precision=2, suppress=True)\n",
    "print(a)"
   ]
  },
  {
   "cell_type": "markdown",
   "metadata": {},
   "source": [
    "Note, however, that `set_printoptions` applies to NumPy arrays, not the output from from array methods, such as this one:"
   ]
  },
  {
   "cell_type": "code",
   "execution_count": 3,
   "metadata": {},
   "outputs": [
    {
     "name": "stdout",
     "output_type": "stream",
     "text": [
      "-6121.197470000002\n"
     ]
    }
   ],
   "source": [
    "print(a.sum())"
   ]
  },
  {
   "cell_type": "markdown",
   "metadata": {},
   "source": [
    "## Working with arrays\n",
    "\n",
    "Let's start by returning to the issue of precision in the previous example. How much \"lost information\" is there when we **round numbers** to a small number of decimal places? Here's one way of thinking about it &mdash; feel free to modify the parameters here:"
   ]
  },
  {
   "cell_type": "code",
   "execution_count": 76,
   "metadata": {},
   "outputs": [
    {
     "name": "stdout",
     "output_type": "stream",
     "text": [
      "Original: [0.80597832 0.77280756 0.95467866 0.94747145 0.83215701 0.07043579\n",
      " 0.26446075 0.59185772 0.6610026  0.76007534]\n",
      "Rounded: [1. 1. 1. 1. 1. 0. 0. 1. 1. 1.]\n",
      "\n",
      "Total difference: -1.7514627964933571\n",
      "Maximum difference: 0.4996327372254583\n",
      "Mean difference: -0.001751462796493357\n"
     ]
    }
   ],
   "source": [
    "precise = np.random.rand(1000) \n",
    "print('Original:', precise[:10])\n",
    "rounded = np.round(precise, decimals=0)\n",
    "print('Rounded:', rounded[:10])\n",
    "\n",
    "diff = precise - rounded\n",
    "print('\\nTotal difference:', diff.sum())\n",
    "print('Maximum difference:', diff.max())\n",
    "print('Mean difference:', diff.mean())"
   ]
  },
  {
   "cell_type": "markdown",
   "metadata": {},
   "source": [
    "Here is an example of **virtual coin tossing**. See if you can work out what's going on:"
   ]
  },
  {
   "cell_type": "code",
   "execution_count": 101,
   "metadata": {},
   "outputs": [
    {
     "name": "stdout",
     "output_type": "stream",
     "text": [
      "Generator(PCG64)\n",
      "115 / 1000\n",
      "[2 5 1 3 8 5 5 6 3 3 5 5 2 6 5]\n",
      "[6 7 4 1 8 1 2 4 8 2]\n",
      "[False False False False  True False False False False False]\n"
     ]
    }
   ],
   "source": [
    "import numpy as np\n",
    "\n",
    "rng = np.random.default_rng() # put a value here after you read the text below this cell\n",
    "print(rng)\n",
    "\n",
    "size = 1000\n",
    "upper_bound = 9\n",
    "a = rng.integers(upper_bound, size=size) # array.integers\n",
    "b = rng.integers(upper_bound, size=size)\n",
    "\n",
    "c = a == b\n",
    "print(c.sum(), '/', size) # c is a True False array, checking if the value of a is the same as b each time (1 = heads, 2 = tails)\n",
    "print(a[:15])\n",
    "print(b[:10])\n",
    "print(c[:10])"
   ]
  },
  {
   "cell_type": "markdown",
   "metadata": {},
   "source": [
    "what happens if you run the code above multiple time ? What happens then, if you set a default value for the random number genrator and run the code multiple time?"
   ]
  },
  {
   "cell_type": "markdown",
   "metadata": {},
   "source": [
    "## Working with matrices\n",
    "\n",
    "Here I've used the `np.arange()` (array range) in combination with the `reshape()` method to create a populated matrix. I then manipulate the matrix by applying various operations: transposing, flipping, flattening and slicing. "
   ]
  },
  {
   "cell_type": "code",
   "execution_count": 79,
   "metadata": {},
   "outputs": [
    {
     "name": "stdout",
     "output_type": "stream",
     "text": [
      "Original:\n",
      "[[ 0  1  2  3  4  5]\n",
      " [ 6  7  8  9 10 11]\n",
      " [12 13 14 15 16 17]\n",
      " [18 19 20 21 22 23]]\n",
      "\n",
      "Transposed:\n",
      "[[ 0  6 12 18]\n",
      " [ 1  7 13 19]\n",
      " [ 2  8 14 20]\n",
      " [ 3  9 15 21]\n",
      " [ 4 10 16 22]\n",
      " [ 5 11 17 23]]\n",
      "Shape: (6, 4)\n",
      "\n",
      "Flipped horizontally and vertically:\n",
      "[[23 22 21 20 19 18]\n",
      " [17 16 15 14 13 12]\n",
      " [11 10  9  8  7  6]\n",
      " [ 5  4  3  2  1  0]]\n",
      "\n",
      "Flipped vertically:\n",
      "[[18 19 20 21 22 23]\n",
      " [12 13 14 15 16 17]\n",
      " [ 6  7  8  9 10 11]\n",
      " [ 0  1  2  3  4  5]]\n",
      "\n",
      "Flipped horizontally:\n",
      "[[ 5  4  3  2  1  0]\n",
      " [11 10  9  8  7  6]\n",
      " [17 16 15 14 13 12]\n",
      " [23 22 21 20 19 18]]\n",
      "\n",
      "Flattened:\n",
      "[ 0  1  2  3  4  5  6  7  8  9 10 11 12 13 14 15 16 17 18 19 20 21 22 23]\n",
      "\n",
      "Flattened and reversed:\n",
      "[23 22 21 20 19 18 17 16 15 14 13 12 11 10  9  8  7  6  5  4  3  2  1  0]\n",
      "\n",
      "Sliced:\n",
      "[[ 7  8]\n",
      " [13 14]\n",
      " [19 20]]\n"
     ]
    }
   ],
   "source": [
    "A = np.arange(24).reshape((4, 6))\n",
    "print('Original:')\n",
    "print(A)\n",
    "\n",
    "# Transposition\n",
    "print('\\nTransposed:')\n",
    "B = A.transpose()\n",
    "print(B)\n",
    "print('Shape:', B.shape)\n",
    "\n",
    "# Flipping\n",
    "print('\\nFlipped horizontally and vertically:')\n",
    "print(np.flip(A))\n",
    "print('\\nFlipped vertically:')\n",
    "print(np.flip(A, 0))\n",
    "print('\\nFlipped horizontally:')\n",
    "print(np.flip(A, 1))\n",
    "\n",
    "# Flattening\n",
    "print('\\nFlattened:')\n",
    "print(A.flatten())\n",
    "print('\\nFlattened and reversed:')\n",
    "print(np.flip(A.flatten()))\n",
    "\n",
    "# Slicing\n",
    "C = A[1:4, 1:3]\n",
    "print('\\nSliced:')\n",
    "print(C)"
   ]
  },
  {
   "cell_type": "code",
   "execution_count": null,
   "metadata": {},
   "outputs": [],
   "source": []
  }
 ],
 "metadata": {
  "kernelspec": {
   "display_name": "Python(Python 3)",
   "language": "python",
   "name": "python3"
  },
  "language_info": {
   "codemirror_mode": {
    "name": "ipython",
    "version": 3
   },
   "file_extension": ".py",
   "mimetype": "text/x-python",
   "name": "python",
   "nbconvert_exporter": "python",
   "pygments_lexer": "ipython3",
   "version": "3.8.5"
  }
 },
 "nbformat": 4,
 "nbformat_minor": 4
}
