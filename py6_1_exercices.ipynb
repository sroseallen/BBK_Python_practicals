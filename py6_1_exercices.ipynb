{
 "cells": [
  {
   "cell_type": "markdown",
   "metadata": {},
   "source": [
    "# Code practice\n",
    "\n",
    "In this notebook, you will find problems, to be solved in code.\n",
    "\n",
    "Try to solve them one at a time!"
   ]
  },
  {
   "cell_type": "markdown",
   "metadata": {},
   "source": [
    "## Problem 1: range\n",
    "This code should print numbers from 0 to 100, in increment of 5"
   ]
  },
  {
   "cell_type": "code",
   "execution_count": 7,
   "metadata": {},
   "outputs": [
    {
     "name": "stdout",
     "output_type": "stream",
     "text": [
      "0\n",
      "5\n",
      "10\n",
      "15\n",
      "20\n",
      "25\n",
      "30\n",
      "35\n",
      "40\n",
      "45\n",
      "50\n",
      "55\n",
      "60\n",
      "65\n",
      "70\n",
      "75\n",
      "80\n",
      "85\n",
      "90\n",
      "95\n",
      "100\n"
     ]
    }
   ],
   "source": [
    "for i in range(0, 101, 5):\n",
    "    print (i)"
   ]
  },
  {
   "cell_type": "markdown",
   "metadata": {},
   "source": [
    "## Problem 2: finding a motif\n",
    "This code should read a file, attempt to find a motif in it, then print its position, as well as 10 characters on each side"
   ]
  },
  {
   "cell_type": "code",
   "execution_count": 29,
   "metadata": {},
   "outputs": [
    {
     "name": "stdout",
     "output_type": "stream",
     "text": [
      "1377\n",
      "NIKGNAICSGKLYVEPAAPLGAPTY\n"
     ]
    }
   ],
   "source": [
    "# define the motif\n",
    "motif = \"KLYVE\"\n",
    "# file to search\n",
    "filename = \"../data/seq_long.txt\"\n",
    "\n",
    "with open (filename, 'r') as file:\n",
    "    seq = file.read().splitlines()\n",
    "    seq = \"\".join(seq)\n",
    "    pos = seq.find(motif)\n",
    "    print (pos)\n",
    "    print (seq[pos-10:pos+15])"
   ]
  },
  {
   "cell_type": "markdown",
   "metadata": {},
   "source": [
    "## Problem 3: Biopython\n",
    "This code should read an alignment from a file, then output the last 10 characters in the alignment"
   ]
  },
  {
   "cell_type": "code",
   "execution_count": 60,
   "metadata": {},
   "outputs": [
    {
     "name": "stdout",
     "output_type": "stream",
     "text": [
      "SingleLetterAlphabet() alignment with 12 rows and 10 columns\n",
      "---------- sp|P05067-2|A4_\n",
      "TYKFFEQMQN sp|P05067-10|A4\n",
      "TYKFFEQMQN sp|P05067-3|A4_\n",
      "TYKFFEQMQN sp|P05067-4|A4_\n",
      "TYKFFEQMQN sp|P05067-5|A4_\n",
      "TYKFFEQMQN sp|P05067-6|A4_\n",
      "TYKFFEQMQN sp|P05067-11|A4\n",
      "TYKFFEQMQN sp|P05067|A4_HU\n",
      "TYKFFEQMQN sp|P05067-1|A4_\n",
      "TYKFFEQMQN sp|P05067-9|A4_\n",
      "TYKFFEQMQN sp|P05067-7|A4_\n",
      "TYKFFEQMQN sp|P05067-8|A4_\n"
     ]
    }
   ],
   "source": [
    "filename = \"../data/hAPP.clustal\"\n",
    "\n",
    "from Bio import AlignIO\n",
    "alignment = AlignIO.read(filename, 'clustal')\n",
    "print (alignment[:, -10:])"
   ]
  }
 ],
 "metadata": {
  "kernelspec": {
   "display_name": "Python(Python 3)",
   "language": "python",
   "name": "python3"
  },
  "language_info": {
   "codemirror_mode": {
    "name": "ipython",
    "version": 3
   },
   "file_extension": ".py",
   "mimetype": "text/x-python",
   "name": "python",
   "nbconvert_exporter": "python",
   "pygments_lexer": "ipython3",
   "version": "3.8.5"
  }
 },
 "nbformat": 4,
 "nbformat_minor": 4
}
