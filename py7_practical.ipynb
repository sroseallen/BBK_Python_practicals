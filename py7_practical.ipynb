{
 "cells": [
  {
   "cell_type": "markdown",
   "metadata": {},
   "source": [
    "# Python Practical 7: Practical"
   ]
  },
  {
   "cell_type": "markdown",
   "metadata": {},
   "source": [
    "## A) General\n",
    "\n",
    "*If you feel you want to practice your core Python programming skills, you may\n",
    "wish to start with these questions. Others may wish to skip directly to part B.*"
   ]
  },
  {
   "cell_type": "markdown",
   "metadata": {},
   "source": [
    "**1. Loops and arithmetic**\n",
    "\n",
    "Open file `add.txt` and add up the integers in it. From that total, subtract the integers in `sub.txt`. What is the answer? "
   ]
  },
  {
   "cell_type": "code",
   "execution_count": 1,
   "metadata": {
    "collapsed": true,
    "jupyter": {
     "outputs_hidden": true
    }
   },
   "outputs": [
    {
     "name": "stdout",
     "output_type": "stream",
     "text": [
      "add.txt:\n",
      "12\n",
      "456\n",
      "2\n",
      "345\n",
      "7\n",
      "2234\n",
      "21\n",
      "93\n",
      "3\n",
      "45\n",
      "\n",
      "sub.txt:\n",
      "5\n",
      "34\n",
      "12\n",
      "322\n",
      "86\n",
      "2\n",
      "9\n"
     ]
    }
   ],
   "source": [
    "%%bash\n",
    "echo 'add.txt:'\n",
    "head ../data/add.txt\n",
    "echo\n",
    "echo 'sub.txt:'\n",
    "head ../data/sub.txt"
   ]
  },
  {
   "cell_type": "code",
   "execution_count": 7,
   "metadata": {},
   "outputs": [
    {
     "name": "stdout",
     "output_type": "stream",
     "text": [
      "Answer = 2748\n"
     ]
    }
   ],
   "source": [
    "add_fname = '../data/add.txt'\n",
    "sub_fname = '../data/sub.txt'\n",
    "\n",
    "def sum_file(filename):\n",
    "    add = 0\n",
    "    with open (filename, 'r') as file:\n",
    "        for line in file:\n",
    "            add += int(line)\n",
    "    return add\n",
    "\n",
    "file_1 = sum_file(add_fname)\n",
    "file_2 = sum_file(sub_fname)\n",
    "\n",
    "print(\"Answer =\", file_1 - file_2)"
   ]
  },
  {
   "cell_type": "markdown",
   "metadata": {},
   "source": [
    "**2. Dictionary of birds**\n",
    "\n",
    "Which single bird species is a garden bird (file `garden_birds.txt`), a member of the family Corvidae (file `corvids.txt`), and clever (file `clever_birds.txt`)? Beware differences in the way uppercase and lowercase is used in the files."
   ]
  },
  {
   "cell_type": "code",
   "execution_count": 8,
   "metadata": {
    "collapsed": true,
    "jupyter": {
     "outputs_hidden": true
    }
   },
   "outputs": [
    {
     "name": "stdout",
     "output_type": "stream",
     "text": [
      "garden_birds.txt:\n",
      "goldfinch\n",
      "blackbird\n",
      "collared dove\n",
      "chaffinch\n",
      "magpie\n",
      "robin\n",
      "house sparrow\n",
      "blue tit\n",
      "\n",
      "corvids.txt:\n",
      "Carrion crow\n",
      "Jay\n",
      "Magpie\n",
      "Jackdaw\n",
      "Raven\n",
      "Chough\n",
      "Hooded crow\n",
      "Rook\n",
      "Clark's nutcracker\n",
      "\n",
      "clever_birds.txt:\n",
      "RAVEN\n",
      "KEA\n",
      "AFRICAN GREY PARROT\n",
      "MAGPIE\n",
      "HILL MYNA\n",
      "SCARLET MACAW\n"
     ]
    }
   ],
   "source": [
    "%%bash\n",
    "echo 'garden_birds.txt:'\n",
    "cat ../data/garden_birds.txt\n",
    "echo\n",
    "echo 'corvids.txt:'\n",
    "cat ../data/corvids.txt\n",
    "echo\n",
    "echo 'clever_birds.txt:'\n",
    "cat ../data/clever_birds.txt"
   ]
  },
  {
   "cell_type": "code",
   "execution_count": 135,
   "metadata": {},
   "outputs": [
    {
     "name": "stdout",
     "output_type": "stream",
     "text": [
      "magpie\n"
     ]
    }
   ],
   "source": [
    "garden_fname = '../data/garden_birds.txt'\n",
    "corvids_fname = '../data/corvids.txt'\n",
    "clever_fname = '../data/clever_birds.txt'\n",
    "\n",
    "def bird_reader (filename):\n",
    "    with open (filename, 'r') as file:\n",
    "        birds = [line.lower().strip() for line in file]\n",
    "    return birds\n",
    "\n",
    "garden = bird_reader(garden_fname)\n",
    "corvids = bird_reader(corvids_fname)\n",
    "clever = bird_reader(clever_fname)\n",
    "\n",
    "for bird in garden:\n",
    "    if bird in corvids and bird in clever:\n",
    "        print(bird)"
   ]
  },
  {
   "cell_type": "markdown",
   "metadata": {},
   "source": [
    "**3. Regexes and PDB files**\n",
    "\n",
    "Extract the (scientific) species and strain names from PDB header files `12e8.h` and print them out in lowercase. To find the species and strain names, you need to find the labels `ORGANISM_SCIENTIFIC` and `STRAIN` respectively (but beware the word `RESTRAINTS`).\n",
    "\n",
    "Can you generalize your script so that it will read in all files with the extension `.h` in the current working directory and print out the same information for each file? (Two potential approaches were covered in session 7, section 1.)"
   ]
  },
  {
   "cell_type": "code",
   "execution_count": 36,
   "metadata": {},
   "outputs": [
    {
     "name": "stdout",
     "output_type": "stream",
     "text": [
      "SOURCE   2 ORGANISM_SCIENTIFIC: MUS MUSCULUS;                                   \n",
      "SOURCE  10 ORGANISM_SCIENTIFIC: MUS MUSCULUS;                                   \n",
      "\n",
      "SOURCE   5 STRAIN: BALB/C;                                                      \n",
      "SOURCE  13 STRAIN: BALB/C;                                                      \n",
      "REMARK   3  ISOTROPIC THERMAL MODEL : RESTRAINED                                \n",
      "REMARK   3  ISOTROPIC THERMAL FACTOR RESTRAINTS.    RMS    SIGMA                \n",
      "REMARK   3  NCS RESTRAINTS.                         RMS   SIGMA/WEIGHT          \n"
     ]
    }
   ],
   "source": [
    "%%bash\n",
    "grep ORGANISM_SCIENTIFIC ../data/12e8.h\n",
    "echo\n",
    "grep STRAIN ../data/12e8.h"
   ]
  },
  {
   "cell_type": "code",
   "execution_count": 110,
   "metadata": {},
   "outputs": [
    {
     "name": "stdout",
     "output_type": "stream",
     "text": [
      "source   2 organism_scientific: mus musculus;                                   \n",
      "\n",
      "source   5 strain: balb/c;                                                      \n",
      "\n",
      "source  10 organism_scientific: mus musculus;                                   \n",
      "\n",
      "source  13 strain: balb/c;                                                      \n",
      "\n"
     ]
    }
   ],
   "source": [
    "import re\n",
    "pdb12e8_fname = '../data/12e8.h'\n",
    "\n",
    "with open (pdb12e8_fname, 'r') as f:\n",
    "    strain_regex = re.compile(r\"STRAIN\\b\")\n",
    "    for line in f:\n",
    "        if \"ORGANISM_SCIENTIFIC\" in line:\n",
    "            print(line.lower())\n",
    "        if(strain_regex.search(line)):\n",
    "            print(line.lower())"
   ]
  },
  {
   "cell_type": "code",
   "execution_count": 127,
   "metadata": {},
   "outputs": [
    {
     "name": "stdout",
     "output_type": "stream",
     "text": [
      "source   2 organism_scientific: mus musculus;                                   \n",
      "\n",
      "source   5 strain: balb/c;                                                      \n",
      "\n",
      "source  10 organism_scientific: mus musculus;                                   \n",
      "\n",
      "source  13 strain: balb/c;                                                      \n",
      "\n"
     ]
    }
   ],
   "source": [
    "import re\n",
    "import os\n",
    "\n",
    "directory = []\n",
    "for filename in os.listdir(\"../data\"): # looks through all the files in the .data working directory\n",
    "    if '.h' in filename:\n",
    "        filename = (\"../data/\" + filename) # re-generates the lookup path for the file\n",
    "        directory.append(filename) # adds to a search list 'directory' if it has the extension .h\n",
    "\n",
    "for filename in directory:\n",
    "    with open (filename, 'r') as f:  # opens each file in the directory one by one\n",
    "        strain_regex = re.compile(r\"STRAIN\\b\") # looks for STRAIN where the word ends at the end of STRAIN (gets rids of RESTRAINTS). 'r' denotes raw regex string.\n",
    "        for line in f:\n",
    "            if \"ORGANISM_SCIENTIFIC\" in line:\n",
    "                print(line.lower())\n",
    "            if(strain_regex.search(line)):\n",
    "                print(line.lower())"
   ]
  },
  {
   "cell_type": "markdown",
   "metadata": {},
   "source": [
    "## Numbers and Plots\n",
    "\n",
    "**1. Shuffling**\n",
    "\n",
    "Create a NumPy array of 8 integers using the arange function. Write a\n",
    "Python script that calculates how many times you have to shuffle the\n",
    "array before (by chance) you get the original ordering of integers back."
   ]
  },
  {
   "cell_type": "code",
   "execution_count": 3,
   "metadata": {},
   "outputs": [
    {
     "name": "stdout",
     "output_type": "stream",
     "text": [
      "Array b was shuffled 19157 times\n"
     ]
    }
   ],
   "source": [
    "import numpy as np\n",
    "\n",
    "a = np.arange(1,9) # numbered index in order 1-8\n",
    "b = np.copy(a)\n",
    "\n",
    "rng = np.random.default_rng()\n",
    "rng.shuffle(b) # initial shuffle to make b different to a\n",
    "\n",
    "shuffle_times = 0\n",
    "while sum(a == b) != 8: # until all values of b are in the same position as a, keep shuffling b.\n",
    "    shuffle_times += 1\n",
    "    rng.shuffle(b)\n",
    "\n",
    "print(\"Array b was shuffled {} times\".format(shuffle_times))"
   ]
  },
  {
   "cell_type": "markdown",
   "metadata": {},
   "source": [
    "**2. Comparing distributions**\n",
    "\n",
    "Write a script that plots two sets (*A* and *B*) of dots – each set should\n",
    "contain the same number of dots, but of different colours. The *x,y*\n",
    "coordinates of set *A* should be from a normal distribution, and those of\n",
    "set *B* from a Laplace distribution. Run the script several times with a\n",
    "different number of dots. To what extent can you see the differences\n",
    "between the two distributions in these plots? (This is a qualitative\n",
    "judgement about what you are seeing &mdash; there is no definitive answer!)\n",
    "\n",
    "**Hint:** You can invoke the relevant functions as follows:<br>\n",
    "`norm_x = np.random.normal(size=n_dots, s=1)`<br>\n",
    "`lap_x = np.random.laplace(size=n_dots, s=1)`<br>\n",
    "Here `s=1` ensure the dots are very small."
   ]
  },
  {
   "cell_type": "code",
   "execution_count": 153,
   "metadata": {},
   "outputs": [
    {
     "data": {
      "text/plain": [
       "<matplotlib.legend.Legend at 0x7fdfa1f44dc0>"
      ]
     },
     "execution_count": 153,
     "metadata": {},
     "output_type": "execute_result"
    },
    {
     "data": {
      "image/png": "[encoded data removed]",
      "text/plain": [
       "<Figure size 432x288 with 1 Axes>"
      ]
     },
     "metadata": {
      "needs_background": "light"
     },
     "output_type": "display_data"
    }
   ],
   "source": [
    "import matplotlib.pyplot as plt\n",
    "\n",
    "n_dots = 100000\n",
    "\n",
    "norm_x = np.random.normal(size = n_dots)\n",
    "norm_y = np.random.normal(size = n_dots)\n",
    "\n",
    "\n",
    "lap_x = np.random.laplace(size = n_dots)\n",
    "lap_y = np.random.laplace(size = n_dots)\n",
    "\n",
    "\n",
    "fig, axes = plt.subplots()\n",
    "axes.scatter(lap_x, lap_y, s=1, color = '#63240E', label = \"Normal\")\n",
    "axes.scatter(norm_x, norm_y, s=1, color = '#FF4F12', label = \"Laplace\")\n",
    "axes.set_title(\"Normal vs Laplace Distribution\")\n",
    "axes.set_xlabel(\"Effect Size 1\")\n",
    "axes.set_ylabel(\"Effect Size 2\")\n",
    "axes.legend()"
   ]
  },
  {
   "cell_type": "code",
   "execution_count": 97,
   "metadata": {},
   "outputs": [
    {
     "data": {
      "text/plain": [
       "['_A',\n",
       " '__class__',\n",
       " '__delattr__',\n",
       " '__dict__',\n",
       " '__dir__',\n",
       " '__doc__',\n",
       " '__eq__',\n",
       " '__format__',\n",
       " '__ge__',\n",
       " '__getattribute__',\n",
       " '__getstate__',\n",
       " '__gt__',\n",
       " '__hash__',\n",
       " '__init__',\n",
       " '__init_subclass__',\n",
       " '__le__',\n",
       " '__lt__',\n",
       " '__module__',\n",
       " '__ne__',\n",
       " '__new__',\n",
       " '__reduce__',\n",
       " '__reduce_ex__',\n",
       " '__repr__',\n",
       " '__setattr__',\n",
       " '__sizeof__',\n",
       " '__str__',\n",
       " '__subclasshook__',\n",
       " '__weakref__',\n",
       " '_add_checker',\n",
       " '_agg_filter',\n",
       " '_alias_map',\n",
       " '_alpha',\n",
       " '_animated',\n",
       " '_antialiaseds',\n",
       " '_axes',\n",
       " '_bcast_lwls',\n",
       " '_capstyle',\n",
       " '_check_update',\n",
       " '_clipon',\n",
       " '_clippath',\n",
       " '_contains',\n",
       " '_default_contains',\n",
       " '_edge_default',\n",
       " '_edgecolors',\n",
       " '_facecolors',\n",
       " '_factor',\n",
       " '_get_clipping_extent_bbox',\n",
       " '_gid',\n",
       " '_hatch',\n",
       " '_hatch_color',\n",
       " '_in_layout',\n",
       " '_is_filled',\n",
       " '_is_stroked',\n",
       " '_joinstyle',\n",
       " '_label',\n",
       " '_linestyles',\n",
       " '_linewidths',\n",
       " '_mouseover',\n",
       " '_offset_position',\n",
       " '_offsets',\n",
       " '_offsetsNone',\n",
       " '_oid',\n",
       " '_original_edgecolor',\n",
       " '_original_facecolor',\n",
       " '_path_effects',\n",
       " '_paths',\n",
       " '_picker',\n",
       " '_pickradius',\n",
       " '_prepare_points',\n",
       " '_propobservers',\n",
       " '_rasterized',\n",
       " '_remove_method',\n",
       " '_scale_norm',\n",
       " '_set_edgecolor',\n",
       " '_set_facecolor',\n",
       " '_set_gc_clip',\n",
       " '_sizes',\n",
       " '_sketch',\n",
       " '_snap',\n",
       " '_stale',\n",
       " '_sticky_edges',\n",
       " '_transOffset',\n",
       " '_transform',\n",
       " '_transformSet',\n",
       " '_transforms',\n",
       " '_uniform_offsets',\n",
       " '_update_dict',\n",
       " '_url',\n",
       " '_urls',\n",
       " '_us_linestyles',\n",
       " '_us_lw',\n",
       " '_visible',\n",
       " 'add_callback',\n",
       " 'add_checker',\n",
       " 'autoscale',\n",
       " 'autoscale_None',\n",
       " 'axes',\n",
       " 'callbacksSM',\n",
       " 'changed',\n",
       " 'check_update',\n",
       " 'clipbox',\n",
       " 'cmap',\n",
       " 'colorbar',\n",
       " 'contains',\n",
       " 'convert_xunits',\n",
       " 'convert_yunits',\n",
       " 'draw',\n",
       " 'eventson',\n",
       " 'figure',\n",
       " 'findobj',\n",
       " 'format_cursor_data',\n",
       " 'get_agg_filter',\n",
       " 'get_alpha',\n",
       " 'get_animated',\n",
       " 'get_array',\n",
       " 'get_capstyle',\n",
       " 'get_children',\n",
       " 'get_clim',\n",
       " 'get_clip_box',\n",
       " 'get_clip_on',\n",
       " 'get_clip_path',\n",
       " 'get_cmap',\n",
       " 'get_contains',\n",
       " 'get_cursor_data',\n",
       " 'get_dashes',\n",
       " 'get_datalim',\n",
       " 'get_ec',\n",
       " 'get_edgecolor',\n",
       " 'get_edgecolors',\n",
       " 'get_facecolor',\n",
       " 'get_facecolors',\n",
       " 'get_fc',\n",
       " 'get_figure',\n",
       " 'get_fill',\n",
       " 'get_gid',\n",
       " 'get_hatch',\n",
       " 'get_in_layout',\n",
       " 'get_joinstyle',\n",
       " 'get_label',\n",
       " 'get_linestyle',\n",
       " 'get_linestyles',\n",
       " 'get_linewidth',\n",
       " 'get_linewidths',\n",
       " 'get_ls',\n",
       " 'get_lw',\n",
       " 'get_offset_position',\n",
       " 'get_offset_transform',\n",
       " 'get_offsets',\n",
       " 'get_path_effects',\n",
       " 'get_paths',\n",
       " 'get_picker',\n",
       " 'get_pickradius',\n",
       " 'get_rasterized',\n",
       " 'get_sizes',\n",
       " 'get_sketch_params',\n",
       " 'get_snap',\n",
       " 'get_tightbbox',\n",
       " 'get_transform',\n",
       " 'get_transformed_clip_path_and_affine',\n",
       " 'get_transforms',\n",
       " 'get_url',\n",
       " 'get_urls',\n",
       " 'get_visible',\n",
       " 'get_window_extent',\n",
       " 'get_zorder',\n",
       " 'have_units',\n",
       " 'is_transform_set',\n",
       " 'legend_elements',\n",
       " 'mouseover',\n",
       " 'norm',\n",
       " 'pchanged',\n",
       " 'pick',\n",
       " 'pickable',\n",
       " 'properties',\n",
       " 'remove',\n",
       " 'remove_callback',\n",
       " 'set',\n",
       " 'set_aa',\n",
       " 'set_agg_filter',\n",
       " 'set_alpha',\n",
       " 'set_animated',\n",
       " 'set_antialiased',\n",
       " 'set_antialiaseds',\n",
       " 'set_array',\n",
       " 'set_capstyle',\n",
       " 'set_clim',\n",
       " 'set_clip_box',\n",
       " 'set_clip_on',\n",
       " 'set_clip_path',\n",
       " 'set_cmap',\n",
       " 'set_color',\n",
       " 'set_contains',\n",
       " 'set_dashes',\n",
       " 'set_ec',\n",
       " 'set_edgecolor',\n",
       " 'set_edgecolors',\n",
       " 'set_facecolor',\n",
       " 'set_facecolors',\n",
       " 'set_fc',\n",
       " 'set_figure',\n",
       " 'set_gid',\n",
       " 'set_hatch',\n",
       " 'set_in_layout',\n",
       " 'set_joinstyle',\n",
       " 'set_label',\n",
       " 'set_linestyle',\n",
       " 'set_linestyles',\n",
       " 'set_linewidth',\n",
       " 'set_linewidths',\n",
       " 'set_ls',\n",
       " 'set_lw',\n",
       " 'set_norm',\n",
       " 'set_offset_position',\n",
       " 'set_offsets',\n",
       " 'set_path_effects',\n",
       " 'set_paths',\n",
       " 'set_picker',\n",
       " 'set_pickradius',\n",
       " 'set_rasterized',\n",
       " 'set_sizes',\n",
       " 'set_sketch_params',\n",
       " 'set_snap',\n",
       " 'set_transform',\n",
       " 'set_url',\n",
       " 'set_urls',\n",
       " 'set_visible',\n",
       " 'set_zorder',\n",
       " 'stale',\n",
       " 'stale_callback',\n",
       " 'sticky_edges',\n",
       " 'to_rgba',\n",
       " 'update',\n",
       " 'update_dict',\n",
       " 'update_from',\n",
       " 'update_scalarmappable',\n",
       " 'zorder']"
      ]
     },
     "execution_count": 97,
     "metadata": {},
     "output_type": "execute_result"
    }
   ],
   "source": [
    "dir(axes[0].scatter(norm_x, norm_y))"
   ]
  },
  {
   "cell_type": "markdown",
   "metadata": {},
   "source": [
    "**3. Plot curves from file**\n",
    "\n",
    "There are four columns of data in file `plot_data.txt`. Plot four curves, one per column. Treat the numbers in a given column as the *y*-axis values for the curve. Generate your own set of values for the *x*-axis using `arange` (this should be the same for each curve). Make sure every curve is a different colour."
   ]
  },
  {
   "cell_type": "code",
   "execution_count": null,
   "metadata": {},
   "outputs": [],
   "source": [
    "%%bash\n",
    "head ../data/plot_data.txt"
   ]
  },
  {
   "cell_type": "code",
   "execution_count": 35,
   "metadata": {},
   "outputs": [],
   "source": [
    "plot_data_fname = '../data/plot_data.txt'\n"
   ]
  },
  {
   "cell_type": "markdown",
   "metadata": {},
   "source": [
    "**4. Sine wave with fills**\n",
    "\n",
    "An important part of programming is to learn how to work out the solution to a problem using techniques that are completely new to you. In that spirit: create a plot consisting of a sine wave (in black) that has alternate peaks and troughs filled in (solid) red. No hints!\n",
    "\n",
    "If that’s too easy, add axis ticks and labels."
   ]
  },
  {
   "cell_type": "code",
   "execution_count": null,
   "metadata": {},
   "outputs": [],
   "source": []
  }
 ],
 "metadata": {
  "kernelspec": {
   "display_name": "Python(Python 3)",
   "language": "python",
   "name": "python3"
  },
  "language_info": {
   "codemirror_mode": {
    "name": "ipython",
    "version": 3
   },
   "file_extension": ".py",
   "mimetype": "text/x-python",
   "name": "python",
   "nbconvert_exporter": "python",
   "pygments_lexer": "ipython3",
   "version": "3.8.5"
  }
 },
 "nbformat": 4,
 "nbformat_minor": 4
}
