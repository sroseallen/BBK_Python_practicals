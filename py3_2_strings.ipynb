{
 "cells": [
  {
   "cell_type": "markdown",
   "metadata": {},
   "source": [
    "# Working with Strings"
   ]
  },
  {
   "cell_type": "markdown",
   "metadata": {},
   "source": [
    "### Indexing, slicing\n",
    "\n",
    "just like lists, you can access the characters in a string using indices and slicesL"
   ]
  },
  {
   "cell_type": "code",
   "execution_count": 41,
   "metadata": {},
   "outputs": [],
   "source": [
    "sentence = \"thisis3asentence0.\\?:;\\\\(\\\\),\""
   ]
  },
  {
   "cell_type": "code",
   "execution_count": 2,
   "metadata": {},
   "outputs": [
    {
     "data": {
      "text/plain": [
       "'.'"
      ]
     },
     "execution_count": 2,
     "metadata": {},
     "output_type": "execute_result"
    }
   ],
   "source": [
    "sentence[-1]"
   ]
  },
  {
   "cell_type": "code",
   "execution_count": 3,
   "metadata": {},
   "outputs": [
    {
     "data": {
      "text/plain": [
       "'sentence.'"
      ]
     },
     "execution_count": 3,
     "metadata": {},
     "output_type": "execute_result"
    }
   ],
   "source": [
    "sentence[10:]"
   ]
  },
  {
   "cell_type": "markdown",
   "metadata": {},
   "source": [
    "### Operators and functions\n",
    "`min()`, `max()`, and many more can be used on strings. What they return will not always be intuitive! Redefine the sentence variable and test them."
   ]
  },
  {
   "cell_type": "code",
   "execution_count": 27,
   "metadata": {},
   "outputs": [
    {
     "data": {
      "text/plain": [
       "'.'"
      ]
     },
     "execution_count": 27,
     "metadata": {},
     "output_type": "execute_result"
    }
   ],
   "source": [
    "min(sentence)"
   ]
  },
  {
   "cell_type": "code",
   "execution_count": 19,
   "metadata": {},
   "outputs": [
    {
     "data": {
      "text/plain": [
       "'t'"
      ]
     },
     "execution_count": 19,
     "metadata": {},
     "output_type": "execute_result"
    }
   ],
   "source": [
    "max(sentence)"
   ]
  },
  {
   "cell_type": "code",
   "execution_count": 42,
   "metadata": {},
   "outputs": [
    {
     "name": "stdout",
     "output_type": "stream",
     "text": [
      "['(', ')', ',', '.', '0', '3', ':', ';', '?', '\\\\', '\\\\', '\\\\', 'a', 'c', 'e', 'e', 'e', 'h', 'i', 'i', 'n', 'n', 's', 's', 's', 't', 't']\n"
     ]
    }
   ],
   "source": [
    "print(sorted(sentence))"
   ]
  },
  {
   "cell_type": "code",
   "execution_count": 43,
   "metadata": {},
   "outputs": [
    {
     "data": {
      "text/plain": [
       "False"
      ]
     },
     "execution_count": 43,
     "metadata": {},
     "output_type": "execute_result"
    }
   ],
   "source": [
    "'u' in sentence"
   ]
  },
  {
   "cell_type": "code",
   "execution_count": 44,
   "metadata": {},
   "outputs": [
    {
     "data": {
      "text/plain": [
       "True"
      ]
     },
     "execution_count": 44,
     "metadata": {},
     "output_type": "execute_result"
    }
   ],
   "source": [
    "\"ten\" in sentence"
   ]
  },
  {
   "cell_type": "code",
   "execution_count": 45,
   "metadata": {},
   "outputs": [
    {
     "data": {
      "text/plain": [
       "False"
      ]
     },
     "execution_count": 45,
     "metadata": {},
     "output_type": "execute_result"
    }
   ],
   "source": [
    "\"abc\" == \"ABC\""
   ]
  },
  {
   "cell_type": "code",
   "execution_count": 46,
   "metadata": {},
   "outputs": [
    {
     "data": {
      "text/plain": [
       "True"
      ]
     },
     "execution_count": 46,
     "metadata": {},
     "output_type": "execute_result"
    }
   ],
   "source": [
    "\"abc\".casefold() == \"ABC\".casefold()"
   ]
  },
  {
   "cell_type": "code",
   "execution_count": 16,
   "metadata": {},
   "outputs": [
    {
     "data": {
      "text/plain": [
       "'THIS IS A SENTENCE.'"
      ]
     },
     "execution_count": 16,
     "metadata": {},
     "output_type": "execute_result"
    }
   ],
   "source": [
    "sentence.upper()"
   ]
  },
  {
   "cell_type": "code",
   "execution_count": 48,
   "metadata": {},
   "outputs": [
    {
     "data": {
      "text/plain": [
       "'thisis3asentence0.\\\\?:;\\\\(\\\\),'"
      ]
     },
     "execution_count": 48,
     "metadata": {},
     "output_type": "execute_result"
    }
   ],
   "source": [
    "sentence.replace(\"This\", \"That\")"
   ]
  },
  {
   "cell_type": "markdown",
   "metadata": {},
   "source": [
    "What happens if you use \"this\" in the line above? "
   ]
  },
  {
   "cell_type": "code",
   "execution_count": 19,
   "metadata": {},
   "outputs": [
    {
     "data": {
      "text/plain": [
       "'abcABC'"
      ]
     },
     "execution_count": 19,
     "metadata": {},
     "output_type": "execute_result"
    }
   ],
   "source": [
    "\"abc\" + \"ABC\""
   ]
  },
  {
   "cell_type": "code",
   "execution_count": 50,
   "metadata": {},
   "outputs": [
    {
     "data": {
      "text/plain": [
       "['thi', 'i', '3a', 'entence0.\\\\?:;\\\\(\\\\),']"
      ]
     },
     "execution_count": 50,
     "metadata": {},
     "output_type": "execute_result"
    }
   ],
   "source": [
    "words = sentence.split(\"s\")\n",
    "words"
   ]
  },
  {
   "cell_type": "code",
   "execution_count": 24,
   "metadata": {},
   "outputs": [
    {
     "data": {
      "text/plain": [
       "'This|_|is|_|a|_|sentence.'"
      ]
     },
     "execution_count": 24,
     "metadata": {},
     "output_type": "execute_result"
    }
   ],
   "source": [
    "'|_|'.join(words)"
   ]
  },
  {
   "cell_type": "markdown",
   "metadata": {},
   "source": [
    "## f-strings\n",
    "\n",
    "you can ask python to output a mix of variables and text, and format them a certain way, using f-strings. Note the `f` preceding the string, on the last line! This is how you tell python that the following will be a f-string, rather than a standard string."
   ]
  },
  {
   "cell_type": "code",
   "execution_count": 53,
   "metadata": {},
   "outputs": [
    {
     "data": {
      "text/plain": [
       "'We have an int: 4, and a float: 3.45.'"
      ]
     },
     "execution_count": 53,
     "metadata": {},
     "output_type": "execute_result"
    }
   ],
   "source": [
    "a_int = 4\n",
    "a_float = 3.45\n",
    "\n",
    "f\"We have an int: {a_int}, and a float: {a_float}.\""
   ]
  },
  {
   "cell_type": "code",
   "execution_count": 57,
   "metadata": {},
   "outputs": [
    {
     "data": {
      "text/plain": [
       "'We can specify how we want them formatted: 4.00000000,    3'"
      ]
     },
     "execution_count": 57,
     "metadata": {},
     "output_type": "execute_result"
    }
   ],
   "source": [
    "f\"We can specify how we want them formatted: {a_int:3.8f}, {a_float:4.0f}\""
   ]
  },
  {
   "cell_type": "markdown",
   "metadata": {},
   "source": [
    "Try changing the formatting above!"
   ]
  },
  {
   "cell_type": "markdown",
   "metadata": {},
   "source": [
    "## String methods\n",
    "Here is a rather trivial example combining four string methods: **replace()**, **strip()**, **casefold()** and **format()**. I've deliberately omitted comments &mdash; see if you can work out what is happening at each step."
   ]
  },
  {
   "cell_type": "code",
   "execution_count": 59,
   "metadata": {},
   "outputs": [
    {
     "name": "stdout",
     "output_type": "stream",
     "text": [
      "essen is the same as Eßen\n"
     ]
    }
   ],
   "source": [
    "s1 = 'a)  essen  '\n",
    "s2 = 'Eßen'\n",
    "\n",
    "s1 = s1.replace('a)', '') \n",
    "s1 = s1.strip()           \n",
    "if s1.casefold() == s2.casefold():\n",
    "    print('{} is the same as {}'.format(s1, s2))"
   ]
  },
  {
   "cell_type": "markdown",
   "metadata": {},
   "source": [
    "Here is another example using methods **count()** and **split()**:"
   ]
  },
  {
   "cell_type": "code",
   "execution_count": 60,
   "metadata": {},
   "outputs": [
    {
     "name": "stdout",
     "output_type": "stream",
     "text": [
      "Number of lysines: 2\n",
      "Total number of amino acids: 8\n"
     ]
    }
   ],
   "source": [
    "s = 'ILE TRP GLU LEU LYS LYS ASP VAL'\n",
    "\n",
    "# Count the number of occurences of LYS (lysine)\n",
    "print('Number of lysines:', s.count('LYS'))\n",
    "\n",
    "# Count the number of amino acids in the string\n",
    "aa_list = s.split()\n",
    "print('Total number of amino acids:', len(aa_list))"
   ]
  },
  {
   "cell_type": "markdown",
   "metadata": {},
   "source": [
    "Now take `aa_list` and turn it back into the original string using the **join()** method:"
   ]
  },
  {
   "cell_type": "code",
   "execution_count": 63,
   "metadata": {},
   "outputs": [
    {
     "name": "stdout",
     "output_type": "stream",
     "text": [
      "['ILE', 'TRP', 'GLU', 'LEU', 'LYS', 'LYS', 'ASP', 'VAL']\n"
     ]
    },
    {
     "data": {
      "text/plain": [
       "'ILE TRP GLU LEU LYS LYS ASP VAL'"
      ]
     },
     "execution_count": 63,
     "metadata": {},
     "output_type": "execute_result"
    }
   ],
   "source": [
    "# write your code here\n",
    "print(aa_list)\n",
    "\" \".join(aa_list)"
   ]
  },
  {
   "cell_type": "markdown",
   "metadata": {},
   "source": [
    "## String extraction\n",
    "\n",
    "A common bioinformatics task is to extract the data you want (here the species names) from the full set of data in a file. Here is the file:"
   ]
  },
  {
   "cell_type": "code",
   "execution_count": 64,
   "metadata": {},
   "outputs": [
    {
     "name": "stdout",
     "output_type": "stream",
     "text": [
      "PDB 1BRTA: Homo sapiens\n",
      "PDB 1JWQC: Mus musculus\n",
      "PDB 2SDAB: Homo sapiens\n",
      "PDB 1NRSA: Homo sapiens\n",
      "PDB 1QTZA: Homo sapiens\n",
      "PDB 1GGEA: Mus musculus\n",
      "PDB 1MNUB: Bos taurus\n",
      "PDB 1PASA: Homo sapiens\n",
      "PDB 3TEAC: Mus musculus\n",
      "PDB 1FFWA: Sus scrofa\n",
      "PDB 1JYKA: Homo sapiens\n",
      "PDB 1RELA: Homo sapiens\n"
     ]
    }
   ],
   "source": [
    "%%bash\n",
    "cat ../data/pdb_species.txt"
   ]
  },
  {
   "cell_type": "markdown",
   "metadata": {},
   "source": [
    "The following version using a **slice** only works if the position at which the species name starts is gauranteed to be fixed:    "
   ]
  },
  {
   "cell_type": "code",
   "execution_count": 65,
   "metadata": {},
   "outputs": [
    {
     "name": "stdout",
     "output_type": "stream",
     "text": [
      "['Homo sapiens', 'Mus musculus', 'Homo sapiens', 'Homo sapiens', 'Homo sapiens', 'Mus musculus', 'Bos taurus', 'Homo sapiens', 'Mus musculus', 'Sus scrofa', 'Homo sapiens', 'Homo sapiens']\n"
     ]
    }
   ],
   "source": [
    "species_fname = '../data/pdb_species.txt'\n",
    "lines = []\n",
    "with open(species_fname, 'r') as f:\n",
    "    lines = f.read().splitlines()\n",
    "\n",
    "all_species = []\n",
    "for s in lines:\n",
    "    species = s[11:]\n",
    "    all_species.append(species)\n",
    "print(all_species)"
   ]
  },
  {
   "cell_type": "markdown",
   "metadata": {},
   "source": [
    "This alternative version using **split()** only works if the name of the species is guaranteed to involve the last two words in the line:"
   ]
  },
  {
   "cell_type": "code",
   "execution_count": 66,
   "metadata": {},
   "outputs": [
    {
     "name": "stdout",
     "output_type": "stream",
     "text": [
      "['Homo sapiens', 'Mus musculus', 'Homo sapiens', 'Homo sapiens', 'Homo sapiens', 'Mus musculus', 'Bos taurus', 'Homo sapiens', 'Mus musculus', 'Sus scrofa', 'Homo sapiens', 'Homo sapiens']\n"
     ]
    }
   ],
   "source": [
    "all_species2 = []\n",
    "for s in lines:\n",
    "    tokens = s.split()\n",
    "    species = tokens[-2] + ' ' + tokens[-1]\n",
    "    all_species2.append(species)\n",
    "print(all_species2)"
   ]
  },
  {
   "cell_type": "markdown",
   "metadata": {},
   "source": [
    "To handle data with less formulaic formats, one needs to use **regular expressions**, the subject of session 5."
   ]
  },
  {
   "cell_type": "markdown",
   "metadata": {},
   "source": [
    "## Formatting numbers\n",
    "Extend this script so that it prints out the numbers in `numbers.txt` a) with a single digit after the decimal point, and b) with the floating points vertically aligned: "
   ]
  },
  {
   "cell_type": "code",
   "execution_count": 110,
   "metadata": {},
   "outputs": [
    {
     "name": "stdout",
     "output_type": "stream",
     "text": [
      "    1.6\n",
      "  -32.8\n",
      "   -4.1\n",
      "   25.3\n",
      "    8.0\n",
      "   31.3\n",
      "  780.5\n",
      " -422.3\n",
      "   87.6\n",
      "  928.7\n",
      " -187.0\n",
      " 1153.0\n",
      "    4.2\n",
      "    0.9\n",
      "    5.7\n",
      "-8205.9\n",
      "-2749.7\n",
      "    5.9\n",
      " 2347.1\n",
      "   39.2\n",
      "   61.5\n",
      "['1.63', '-32.78', '-4.1', '25.307', '8.0', '31.33333', '780.4592', '-422.343', '87.612', '928.7', '-187.0', '1153.04', '4.2', '0.932', '5.65', '-8205.9', '-2749.655', '5.912', '2347.105', '39.2', '61.5']\n"
     ]
    }
   ],
   "source": [
    "numbers_fname = '../data/numbers.txt'\n",
    "numbers = []\n",
    "with open(numbers_fname, 'r') as f:\n",
    "    numbers = f.read().splitlines()\n",
    "\n",
    "for n in numbers:\n",
    "    n = float(n)\n",
    "    print(f\"{n:7.1f}\")\n",
    "\n",
    "print(numbers)"
   ]
  },
  {
   "cell_type": "code",
   "execution_count": 83,
   "metadata": {},
   "outputs": [
    {
     "name": "stdout",
     "output_type": "stream",
     "text": [
      "Help on built-in function round in module builtins:\n",
      "\n",
      "round(number, ndigits=None)\n",
      "    Round a number to a given precision in decimal digits.\n",
      "    \n",
      "    The return value is an integer if ndigits is omitted or None.  Otherwise\n",
      "    the return value has the same type as the number.  ndigits may be negative.\n",
      "\n"
     ]
    }
   ],
   "source": [
    "help(round)"
   ]
  },
  {
   "cell_type": "markdown",
   "metadata": {},
   "source": [
    "## Strings and lists\n",
    "Given the string `Session` and a string containing session labels (`A`, `B`, `C`, etc.), can you generate a list containing the desired session titles (`Session A`, `Session B`, `Session C`, etc.) and print it out? \n",
    "\n",
    "*Hint:* use the string concatenation (`+`) operator.    "
   ]
  },
  {
   "cell_type": "code",
   "execution_count": 112,
   "metadata": {},
   "outputs": [
    {
     "data": {
      "text/plain": [
       "['ABCDEFG']"
      ]
     },
     "execution_count": 112,
     "metadata": {},
     "output_type": "execute_result"
    }
   ],
   "source": [
    "prefix = 'Session'\n",
    "session_labels = 'ABCDEFG'\n",
    "\n",
    "session_labels.split()\n"
   ]
  },
  {
   "cell_type": "markdown",
   "metadata": {},
   "source": [
    "## Working with sequences\n",
    "\n",
    "This code calculates the **sequence identity** (i.e. percentage of characters at the same positions that match) between two sequences of the same length. The **enumerate()** function arose in the section on lists, but here is applies to the characters in a string. Make sure you understand how it works."
   ]
  },
  {
   "cell_type": "code",
   "execution_count": 58,
   "metadata": {},
   "outputs": [
    {
     "name": "stdout",
     "output_type": "stream",
     "text": [
      "Sequence identity (%) = 83.78378378378379\n"
     ]
    }
   ],
   "source": [
    "seq1 = 'ACWQTEDGSSAKLCRYIPRMTASWFSERAHIKLTYRV'\n",
    "seq2 = 'ACWQTFDGDSAKLCRYIRRMTASWFSFRAHIKIYYRV'\n",
    "\n",
    "same_aa_count = 0\n",
    "if len(seq1) == len(seq2):\n",
    "    for i, aa in enumerate(seq1):\n",
    "        if aa == seq2[i]:\n",
    "            same_aa_count += 1\n",
    "    print('Sequence identity (%) =', (same_aa_count / len(seq1)) * 100)\n",
    "else:\n",
    "    print('Sequences are not the same length')"
   ]
  },
  {
   "cell_type": "code",
   "execution_count": null,
   "metadata": {},
   "outputs": [],
   "source": []
  }
 ],
 "metadata": {
  "kernelspec": {
   "display_name": "Python(Python 3)",
   "language": "python",
   "name": "python3"
  },
  "language_info": {
   "codemirror_mode": {
    "name": "ipython",
    "version": 3
   },
   "file_extension": ".py",
   "mimetype": "text/x-python",
   "name": "python",
   "nbconvert_exporter": "python",
   "pygments_lexer": "ipython3",
   "version": "3.8.5"
  }
 },
 "nbformat": 4,
 "nbformat_minor": 4
}
