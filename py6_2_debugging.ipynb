{
 "cells": [
  {
   "cell_type": "markdown",
   "metadata": {},
   "source": [
    "# Code debugging\n",
    "\n",
    "In this notebook, you will find groups of cells:\n",
    "- the first one describing the code's intended output\n",
    "- the following containing incorrect codes, that you have to fix! **every single cell is wrong somehow!**\n",
    "\n",
    "Try to solve them one at a time!"
   ]
  },
  {
   "cell_type": "markdown",
   "metadata": {},
   "source": [
    "## Problem 1: range\n",
    "This code should print numbers from 0 to 100, in increment of 5"
   ]
  },
  {
   "cell_type": "code",
   "execution_count": 4,
   "metadata": {},
   "outputs": [
    {
     "name": "stdout",
     "output_type": "stream",
     "text": [
      "0\n",
      "5\n",
      "10\n",
      "15\n",
      "20\n",
      "25\n",
      "30\n",
      "35\n",
      "40\n",
      "45\n",
      "50\n",
      "55\n",
      "60\n",
      "65\n",
      "70\n",
      "75\n",
      "80\n",
      "85\n",
      "90\n",
      "95\n"
     ]
    }
   ],
   "source": [
    "for i in range(0, 101, 5): # missed 100; adjust to 101 to include 100\n",
    "    print(i)"
   ]
  },
  {
   "cell_type": "code",
   "execution_count": 5,
   "metadata": {},
   "outputs": [
    {
     "name": "stdout",
     "output_type": "stream",
     "text": [
      "0\n",
      "5\n",
      "10\n",
      "15\n",
      "20\n",
      "25\n",
      "30\n",
      "35\n",
      "40\n",
      "45\n",
      "50\n",
      "55\n",
      "60\n",
      "65\n",
      "70\n",
      "75\n",
      "80\n",
      "85\n",
      "90\n",
      "95\n"
     ]
    }
   ],
   "source": [
    "for j in range(0, 100, 5):\n",
    "    print(j) # was i, undefined"
   ]
  },
  {
   "cell_type": "code",
   "execution_count": 6,
   "metadata": {},
   "outputs": [
    {
     "name": "stdout",
     "output_type": "stream",
     "text": [
      "0\n",
      "5\n",
      "10\n",
      "15\n",
      "20\n",
      "25\n",
      "30\n",
      "35\n",
      "40\n",
      "45\n",
      "50\n",
      "55\n",
      "60\n",
      "65\n",
      "70\n",
      "75\n",
      "80\n",
      "85\n",
      "90\n",
      "95\n"
     ]
    }
   ],
   "source": [
    "for i in range(0, 100, 5): # colon was missing\n",
    "    print(i)"
   ]
  },
  {
   "cell_type": "code",
   "execution_count": 7,
   "metadata": {},
   "outputs": [
    {
     "name": "stdout",
     "output_type": "stream",
     "text": [
      "0\n",
      "5\n",
      "10\n",
      "15\n",
      "20\n",
      "25\n",
      "30\n",
      "35\n",
      "40\n",
      "45\n",
      "50\n",
      "55\n",
      "60\n",
      "65\n",
      "70\n",
      "75\n",
      "80\n",
      "85\n",
      "90\n",
      "95\n"
     ]
    }
   ],
   "source": [
    "for i in range(0, 100, 5):\n",
    "     print(i) # indenting was missing"
   ]
  },
  {
   "cell_type": "markdown",
   "metadata": {},
   "source": [
    "## Problem 2: finding a motif\n",
    "This code should read a file, attempt to find a motif in it, then print its position, as well as 10 characters on each side"
   ]
  },
  {
   "cell_type": "code",
   "execution_count": 8,
   "metadata": {},
   "outputs": [
    {
     "name": "stdout",
     "output_type": "stream",
     "text": [
      "1377\n",
      "AICSGKLYVE\n"
     ]
    }
   ],
   "source": [
    "# define the motif\n",
    "motif = \"KLYVE\"\n",
    "# read the sequence file\n",
    "with open(\"../data/seq_long.txt\", 'r') as f:\n",
    "    lines = f.read()\n",
    "# join it all up together\n",
    "seq = \"\".join(lines.split())\n",
    "# find the start\n",
    "start = seq.find(motif)\n",
    "# print the position, and the surrounding characters\n",
    "print(start)\n",
    "print(seq[start-10:start+15]) #only printed 5 chars at the start of motif, not any after"
   ]
  },
  {
   "cell_type": "code",
   "execution_count": 17,
   "metadata": {},
   "outputs": [
    {
     "name": "stdout",
     "output_type": "stream",
     "text": [
      "1377\n",
      "NIKGNAICSGKLYVEPAAPLGAPTY\n"
     ]
    }
   ],
   "source": [
    "# define the motif\n",
    "motif = \"KLYVE\"\n",
    "# read the sequence file\n",
    "with open(\"../data/seq_long.txt\", 'r') as f: # 'r' was 'rb'\n",
    "    lines = f.read()\n",
    "# join it all up together\n",
    "seq = \"\".join(lines.split())\n",
    "# find the start\n",
    "start = seq.find(motif)\n",
    "# print the position, and the surrounding characters\n",
    "print(start)\n",
    "print(seq[start-10:start+15]) # also missed 5 chars off of the end"
   ]
  },
  {
   "cell_type": "code",
   "execution_count": 19,
   "metadata": {},
   "outputs": [
    {
     "name": "stdout",
     "output_type": "stream",
     "text": [
      "1377\n",
      "NIKGNAICSGKLYVEPAAPLGAPTY\n"
     ]
    }
   ],
   "source": [
    "# define the motif\n",
    "motif = \"KLYVE\"\n",
    "# read the sequence file\n",
    "with open(\"../data/seq_long.txt\", 'r') as f:\n",
    "    lines = f.read()\n",
    "# join it all up together\n",
    "seq = \"\".join(lines.split()) # \"/n\".join() doesn't join the strings, as it's not an /n character - its whitespace \" \".\n",
    "# find the start\n",
    "start = seq.find(motif)\n",
    "# print the position, and the surrounding characters\n",
    "print(start)\n",
    "print(seq[start-10:start+15]) # also missed 5 chars off of the end"
   ]
  },
  {
   "cell_type": "code",
   "execution_count": 21,
   "metadata": {},
   "outputs": [
    {
     "name": "stdout",
     "output_type": "stream",
     "text": [
      "1377\n",
      "NIKGNAICSGKLYVEPAAPLGAPTY\n"
     ]
    }
   ],
   "source": [
    "# define the motif\n",
    "motif = \"KLYVE\"\n",
    "# read the sequence file\n",
    "with open(\"../data/seq_long.txt\", 'r') as f: #semi-colon instead of comma\n",
    "    lines = f.read()\n",
    "# join it all up together\n",
    "seq = \"\".join(lines.split())\n",
    "# find the start\n",
    "start = seq.find(motif)\n",
    "# print the position, and the surrounding characters\n",
    "print(start)\n",
    "print(seq[start-10:start+15]) # also missed 5 chars off of the end"
   ]
  },
  {
   "cell_type": "code",
   "execution_count": 23,
   "metadata": {},
   "outputs": [
    {
     "name": "stdout",
     "output_type": "stream",
     "text": [
      "1377\n",
      "NIKGNAICSGKLYVEPAAPLGAPTY\n"
     ]
    }
   ],
   "source": [
    "# define the motif\n",
    "motif = \"KLYVE\"\n",
    "# read the sequence file\n",
    "with open(\"../data/seq_long.txt\", 'r') as f: # missed colon off the end here\n",
    "    lines = f.read()\n",
    "# join it all up together\n",
    "seq = \"\".join(lines.split())\n",
    "# find the start\n",
    "start = seq.find(motif)\n",
    "# print the position, and the surrounding characters\n",
    "print(start)\n",
    "print(seq[start-10:start+15]) # also missed 5 chars off of the end"
   ]
  },
  {
   "cell_type": "code",
   "execution_count": 25,
   "metadata": {},
   "outputs": [
    {
     "name": "stdout",
     "output_type": "stream",
     "text": [
      "1377\n",
      "NIKGNAICSGKLYVEPAAPLGAPTY\n"
     ]
    }
   ],
   "source": [
    "# define the motif\n",
    "motif = \"KLYVE\"\n",
    "# read the sequence file\n",
    "with open(\"../data/seq_long.txt\", 'r') as f:\n",
    "    lines = f.read()\n",
    "# join it all up together\n",
    "seq = \"\".join(lines.split())\n",
    "# find the start\n",
    "start = seq.find(motif) # wrong way around - motif is the argument, therefore this searched for the full sequence in the defined motif.\n",
    "# print the position, and the surrounding characters\n",
    "print(start)\n",
    "print(seq[start-10:start+15]) # also missed 5 chars off of the end"
   ]
  },
  {
   "cell_type": "code",
   "execution_count": 29,
   "metadata": {},
   "outputs": [
    {
     "name": "stdout",
     "output_type": "stream",
     "text": [
      "1377\n",
      "NIKGNAICSGKLYVEPAAPLGAPTY\n"
     ]
    }
   ],
   "source": [
    "# define the motif\n",
    "motif = \"KLYVE\"\n",
    "# read the sequence file\n",
    "with open(\"../data/seq_long.txt\", 'r') as f:\n",
    "    lines = f.read() # missed brackets off the end of .read function\n",
    "# join it all up together\n",
    "seq = \"\".join(lines.split())\n",
    "# find the start\n",
    "start = seq.find(motif) # motif also the wrong way around\n",
    "# print the position, and the surrounding characters\n",
    "print(start)\n",
    "print(seq[start-10:start+15]) # also missed 5 chars off of the end"
   ]
  },
  {
   "cell_type": "markdown",
   "metadata": {},
   "source": [
    "## Problem 3: Biopython\n",
    "This code should read an alignment from a file, then output the last 10 characters in the alignment"
   ]
  },
  {
   "cell_type": "code",
   "execution_count": 40,
   "metadata": {},
   "outputs": [
    {
     "name": "stdout",
     "output_type": "stream",
     "text": [
      "SingleLetterAlphabet() alignment with 12 rows and 10 columns\n",
      "---------- sp|P05067-2|A4_\n",
      "TYKFFEQMQN sp|P05067-10|A4\n",
      "TYKFFEQMQN sp|P05067-3|A4_\n",
      "TYKFFEQMQN sp|P05067-4|A4_\n",
      "TYKFFEQMQN sp|P05067-5|A4_\n",
      "TYKFFEQMQN sp|P05067-6|A4_\n",
      "TYKFFEQMQN sp|P05067-11|A4\n",
      "TYKFFEQMQN sp|P05067|A4_HU\n",
      "TYKFFEQMQN sp|P05067-1|A4_\n",
      "TYKFFEQMQN sp|P05067-9|A4_\n",
      "TYKFFEQMQN sp|P05067-7|A4_\n",
      "TYKFFEQMQN sp|P05067-8|A4_\n"
     ]
    }
   ],
   "source": [
    "from Bio import AlignIO\n",
    "\n",
    "hAPP_alignment = AlignIO.read(\"../data/hAPP.clustal\", \"clustal\") # file is not a phylip alignment\n",
    "print(hAPP_alignment[:, -10:])"
   ]
  },
  {
   "cell_type": "code",
   "execution_count": 39,
   "metadata": {},
   "outputs": [
    {
     "name": "stdout",
     "output_type": "stream",
     "text": [
      "SingleLetterAlphabet() alignment with 12 rows and 10 columns\n",
      "---------- sp|P05067-\n",
      "TYKFFEQMQN sp|P05067-\n",
      "TYKFFEQMQN sp|P05067-\n",
      "TYKFFEQMQN sp|P05067-\n",
      "TYKFFEQMQN sp|P05067-\n",
      "TYKFFEQMQN sp|P05067-\n",
      "TYKFFEQMQN sp|P05067-\n",
      "TYKFFEQMQN sp|P05067|\n",
      "TYKFFEQMQN sp|P05067-\n",
      "TYKFFEQMQN sp|P05067-\n",
      "TYKFFEQMQN sp|P05067-\n",
      "TYKFFEQMQN sp|P05067-\n"
     ]
    }
   ],
   "source": [
    "from Bio import AlignIO\n",
    "\n",
    "hAPP_alignment = AlignIO.read(\"../data/hAPP.phylip\", \"phylip\") # typo in format\n",
    "print(hAPP_alignment[:, -10:])"
   ]
  },
  {
   "cell_type": "code",
   "execution_count": 34,
   "metadata": {},
   "outputs": [
    {
     "name": "stdout",
     "output_type": "stream",
     "text": [
      "SingleLetterAlphabet() alignment with 12 rows and 10 columns\n",
      "---------- sp|P05067-\n",
      "TYKFFEQMQN sp|P05067-\n",
      "TYKFFEQMQN sp|P05067-\n",
      "TYKFFEQMQN sp|P05067-\n",
      "TYKFFEQMQN sp|P05067-\n",
      "TYKFFEQMQN sp|P05067-\n",
      "TYKFFEQMQN sp|P05067-\n",
      "TYKFFEQMQN sp|P05067|\n",
      "TYKFFEQMQN sp|P05067-\n",
      "TYKFFEQMQN sp|P05067-\n",
      "TYKFFEQMQN sp|P05067-\n",
      "TYKFFEQMQN sp|P05067-\n"
     ]
    }
   ],
   "source": [
    "from Bio import AlignIO\n",
    "\n",
    "hAPP_alignment = AlignIO.read(\"../data/hAPP.phylip\", \"phylip\")\n",
    "print(hAPP_alignment[:, -10:]) # position is the second argument in alignment slice, this gives you the final 10 sequences not positons"
   ]
  },
  {
   "cell_type": "code",
   "execution_count": 36,
   "metadata": {},
   "outputs": [
    {
     "name": "stdout",
     "output_type": "stream",
     "text": [
      "SingleLetterAlphabet() alignment with 12 rows and 10 columns\n",
      "---------- sp|P05067-\n",
      "TYKFFEQMQN sp|P05067-\n",
      "TYKFFEQMQN sp|P05067-\n",
      "TYKFFEQMQN sp|P05067-\n",
      "TYKFFEQMQN sp|P05067-\n",
      "TYKFFEQMQN sp|P05067-\n",
      "TYKFFEQMQN sp|P05067-\n",
      "TYKFFEQMQN sp|P05067|\n",
      "TYKFFEQMQN sp|P05067-\n",
      "TYKFFEQMQN sp|P05067-\n",
      "TYKFFEQMQN sp|P05067-\n",
      "TYKFFEQMQN sp|P05067-\n"
     ]
    }
   ],
   "source": [
    "from Bio import AlignIO\n",
    "\n",
    "hAPP_alignment = AlignIO.read(\"../data/hAPP.phylip\", \"phylip\")\n",
    "print(hAPP_alignment[:, -10:]) # this [:, 10:] is everything from position 10 onwards, not the final 10 positions"
   ]
  }
 ],
 "metadata": {
  "kernelspec": {
   "display_name": "Python(Python 3)",
   "language": "python",
   "name": "python3"
  },
  "language_info": {
   "codemirror_mode": {
    "name": "ipython",
    "version": 3
   },
   "file_extension": ".py",
   "mimetype": "text/x-python",
   "name": "python",
   "nbconvert_exporter": "python",
   "pygments_lexer": "ipython3",
   "version": "3.8.5"
  }
 },
 "nbformat": 4,
 "nbformat_minor": 4
}
