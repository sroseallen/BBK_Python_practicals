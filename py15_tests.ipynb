{
 "cells": [
  {
   "cell_type": "markdown",
   "metadata": {},
   "source": [
    "## Warning\n",
    "the default python is not the environment we use for teaching (at least not for me).\n",
    "Try running `alias python=/l_mnt/python/envs/teaching/bin/python` before any other python command at the command line"
   ]
  },
  {
   "cell_type": "markdown",
   "metadata": {},
   "source": [
    "# Practical tests\n",
    "\n",
    "Run the simple test cases from the command line:\n",
    "- `cd` to the session directory\n",
    "- run the test using `python py_test_simple.py`"
   ]
  },
  {
   "cell_type": "markdown",
   "metadata": {},
   "source": [
    "Run the pandas tests: `python py_test_pandas.py`\n",
    "\n",
    "Oh, no! The tests are failing, something is wrong with the code.\n",
    "Can you make them pass?"
   ]
  },
  {
   "cell_type": "markdown",
   "metadata": {},
   "source": [
    "---"
   ]
  },
  {
   "cell_type": "markdown",
   "metadata": {},
   "source": [
    "## The bad script\n",
    "\n",
    "Your colleague has written a small data analysis script,\n",
    "and you are in charge of the tests.\n",
    "So far you have your colleague's script (`pandas_script.py`), and a first draft of the tests (in `py_test_script.py`)\n",
    "\n",
    "- Run the tests. Are they passing?\n",
    "- can you correct the script so that the tests are passing?\n"
   ]
  },
  {
   "cell_type": "markdown",
   "metadata": {},
   "source": [
    "You are now asked to add a new functionality to the script: it should also return the smallest value in the matrix.\n",
    "\n",
    "- Can you add that functionality?\n",
    "- Can you add a test that would test this functionality ?"
   ]
  }
 ],
 "metadata": {
  "kernelspec": {
   "display_name": "Python(Python 3)",
   "language": "python",
   "name": "python3"
  },
  "language_info": {
   "codemirror_mode": {
    "name": "ipython",
    "version": 3
   },
   "file_extension": ".py",
   "mimetype": "text/x-python",
   "name": "python",
   "nbconvert_exporter": "python",
   "pygments_lexer": "ipython3",
   "version": "3.8.5"
  }
 },
 "nbformat": 4,
 "nbformat_minor": 4
}
