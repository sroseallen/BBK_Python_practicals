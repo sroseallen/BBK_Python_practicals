{
 "cells": [
  {
   "cell_type": "markdown",
   "metadata": {},
   "source": [
    "# Practical 17\n",
    "\n",
    "Scenario: You want to store some data from the EMDB (for your own research project).\n",
    "You decide to use sqlite for that.\n",
    "Do the following:\n",
    "- Decide on a search term (some possible examples: \"herpes\", \"human\", \"apoferritin\", \"ribosome\")\n",
    "- using `requests` and the emdb API, find the entries related to your search term\n",
    "- create an SQLite database, containing an \"entries\" table, with an \"id\" field, a \"title\" field, and a \"year\" field\n",
    "- `INSERT` in the \"entries\" table all the entries you found with your request to the EMDB API, with the \"title\" of the entry, and the year it was deposited\n",
    "- `SELECT` that data from the table, store it in a variable\n",
    "- store the content in a pandas dataframe, and plot the number of deposited entry as a function of the year"
   ]
  },
  {
   "cell_type": "code",
   "execution_count": 3,
   "metadata": {},
   "outputs": [
    {
     "data": {
      "text/plain": [
       "'https://www.ebi.ac.uk/emdb/api/search/mismatch'"
      ]
     },
     "execution_count": 3,
     "metadata": {},
     "output_type": "execute_result"
    }
   ],
   "source": [
    "import requests\n",
    "\n",
    "search = \"mismatch\"\n",
    "emdb_api = \"https://www.ebi.ac.uk/emdb/api\"\n",
    "request = f\"{emdb_api}/search/{search}\"\n",
    "request"
   ]
  },
  {
   "cell_type": "code",
   "execution_count": 7,
   "metadata": {},
   "outputs": [],
   "source": [
    "data = requests.get(request)\n",
    "data_json = data.json()"
   ]
  },
  {
   "cell_type": "code",
   "execution_count": 9,
   "metadata": {},
   "outputs": [
    {
     "data": {
      "text/plain": [
       "dict_keys(['_id', 'admin', 'crossreferences', 'emdb_id', 'interpretation', 'map', 'sample', 'structure_determination_list', 'version'])"
      ]
     },
     "execution_count": 9,
     "metadata": {},
     "output_type": "execute_result"
    }
   ],
   "source": [
    "data_json[0].keys()"
   ]
  },
  {
   "cell_type": "code",
   "execution_count": null,
   "metadata": {},
   "outputs": [],
   "source": [
    "import sqlite3\n",
    "db = sqlite3.connect(\"db\")\n",
    "cur = db.cursor()\n",
    "cur.execute(\"CREATE TABLE entries(id, title, year)\")"
   ]
  },
  {
   "cell_type": "code",
   "execution_count": 64,
   "metadata": {},
   "outputs": [],
   "source": [
    "data = []\n",
    "for i in data_json:\n",
    "    new_row = (i[\"emdb_id\"], i[\"admin\"][\"title\"], i[\"admin\"][\"key_dates\"][\"deposition\"][:4])\n",
    "    data.append(new_row)\n",
    "\n",
    "cur.executemany(\"INSERT INTO entries VALUES(?,?,?)\", data)\n",
    "db.commit()"
   ]
  },
  {
   "cell_type": "code",
   "execution_count": 99,
   "metadata": {},
   "outputs": [],
   "source": [
    "result_data = cur.execute(\"SELECT id, title, year FROM entries\")\n",
    "pandas_results = result_data.fetchall()\n",
    "\n",
    "import pandas as pd\n",
    "pandas_db = pd.DataFrame(\n",
    "{\n",
    "    \"id\":[i[0] for i in pandas_results],\n",
    "    \"title\":[i[1] for i in pandas_results],\n",
    "    \"year\":[i[2] for i in pandas_results]\n",
    "})"
   ]
  },
  {
   "cell_type": "code",
   "execution_count": 86,
   "metadata": {},
   "outputs": [
    {
     "data": {
      "text/html": [
       "<div>\n",
       "<style scoped>\n",
       "    .dataframe tbody tr th:only-of-type {\n",
       "        vertical-align: middle;\n",
       "    }\n",
       "\n",
       "    .dataframe tbody tr th {\n",
       "        vertical-align: top;\n",
       "    }\n",
       "\n",
       "    .dataframe thead th {\n",
       "        text-align: right;\n",
       "    }\n",
       "</style>\n",
       "<table border=\"1\" class=\"dataframe\">\n",
       "  <thead>\n",
       "    <tr style=\"text-align: right;\">\n",
       "      <th></th>\n",
       "      <th>id</th>\n",
       "      <th>title</th>\n",
       "      <th>year</th>\n",
       "    </tr>\n",
       "  </thead>\n",
       "  <tbody>\n",
       "    <tr>\n",
       "      <th>0</th>\n",
       "      <td>EMD-13074</td>\n",
       "      <td>The structure of MutS bound to one molecule of...</td>\n",
       "      <td>2021</td>\n",
       "    </tr>\n",
       "    <tr>\n",
       "      <th>1</th>\n",
       "      <td>EMD-13063</td>\n",
       "      <td>The structure of MutS bound to two molecules o...</td>\n",
       "      <td>2021</td>\n",
       "    </tr>\n",
       "    <tr>\n",
       "      <th>2</th>\n",
       "      <td>EMD-25616</td>\n",
       "      <td>Structure of the yeast clamp loader (Replicati...</td>\n",
       "      <td>2021</td>\n",
       "    </tr>\n",
       "    <tr>\n",
       "      <th>3</th>\n",
       "      <td>EMD-25614</td>\n",
       "      <td>Structure of the yeast clamp loader (Replicati...</td>\n",
       "      <td>2021</td>\n",
       "    </tr>\n",
       "    <tr>\n",
       "      <th>4</th>\n",
       "      <td>EMD-13071</td>\n",
       "      <td>The structure of MutS bound to two molecules o...</td>\n",
       "      <td>2021</td>\n",
       "    </tr>\n",
       "    <tr>\n",
       "      <th>...</th>\n",
       "      <td>...</td>\n",
       "      <td>...</td>\n",
       "      <td>...</td>\n",
       "    </tr>\n",
       "    <tr>\n",
       "      <th>106</th>\n",
       "      <td>EMD-5570</td>\n",
       "      <td>Focused asymmetric reconstruction III (map 5/8...</td>\n",
       "      <td>2013</td>\n",
       "    </tr>\n",
       "    <tr>\n",
       "      <th>107</th>\n",
       "      <td>EMD-5571</td>\n",
       "      <td>Focused asymmetric reconstruction IV (map 6/8)...</td>\n",
       "      <td>2013</td>\n",
       "    </tr>\n",
       "    <tr>\n",
       "      <th>108</th>\n",
       "      <td>EMD-5572</td>\n",
       "      <td>Focused asymmetric reconstruction V (map 7/8):...</td>\n",
       "      <td>2013</td>\n",
       "    </tr>\n",
       "    <tr>\n",
       "      <th>109</th>\n",
       "      <td>EMD-2398</td>\n",
       "      <td>MuB is an AAA+ ATPase that forms helical filam...</td>\n",
       "      <td>2013</td>\n",
       "    </tr>\n",
       "    <tr>\n",
       "      <th>110</th>\n",
       "      <td>EMD-2395</td>\n",
       "      <td>MuB is an AAA+ ATPase that forms helical filam...</td>\n",
       "      <td>2013</td>\n",
       "    </tr>\n",
       "  </tbody>\n",
       "</table>\n",
       "<p>111 rows × 3 columns</p>\n",
       "</div>"
      ],
      "text/plain": [
       "            id                                              title  year\n",
       "0    EMD-13074  The structure of MutS bound to one molecule of...  2021\n",
       "1    EMD-13063  The structure of MutS bound to two molecules o...  2021\n",
       "2    EMD-25616  Structure of the yeast clamp loader (Replicati...  2021\n",
       "3    EMD-25614  Structure of the yeast clamp loader (Replicati...  2021\n",
       "4    EMD-13071  The structure of MutS bound to two molecules o...  2021\n",
       "..         ...                                                ...   ...\n",
       "106   EMD-5570  Focused asymmetric reconstruction III (map 5/8...  2013\n",
       "107   EMD-5571  Focused asymmetric reconstruction IV (map 6/8)...  2013\n",
       "108   EMD-5572  Focused asymmetric reconstruction V (map 7/8):...  2013\n",
       "109   EMD-2398  MuB is an AAA+ ATPase that forms helical filam...  2013\n",
       "110   EMD-2395  MuB is an AAA+ ATPase that forms helical filam...  2013\n",
       "\n",
       "[111 rows x 3 columns]"
      ]
     },
     "execution_count": 86,
     "metadata": {},
     "output_type": "execute_result"
    }
   ],
   "source": [
    "pandas_db"
   ]
  },
  {
   "cell_type": "code",
   "execution_count": 101,
   "metadata": {},
   "outputs": [
    {
     "data": {
      "image/png": "[encoded data removed]",
      "text/plain": [
       "<Figure size 640x480 with 1 Axes>"
      ]
     },
     "metadata": {},
     "output_type": "display_data"
    }
   ],
   "source": [
    "import matplotlib.pyplot as plt\n",
    "\n",
    "pandas_db[\"year\"] = pandas_db[\"year\"].astype(int)\n",
    "\n",
    "pandas_db[\"year\"].plot(kind = \"hist\")\n",
    "plt.show()"
   ]
  }
 ],
 "metadata": {
  "kernelspec": {
   "display_name": "Python(Python 3)",
   "language": "python",
   "name": "python3"
  },
  "language_info": {
   "codemirror_mode": {
    "name": "ipython",
    "version": 3
   },
   "file_extension": ".py",
   "mimetype": "text/x-python",
   "name": "python",
   "nbconvert_exporter": "python",
   "pygments_lexer": "ipython3",
   "version": "3.8.5"
  }
 },
 "nbformat": 4,
 "nbformat_minor": 4
}
