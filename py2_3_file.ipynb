{
 "cells": [
  {
   "cell_type": "markdown",
   "metadata": {},
   "source": [
    "# Practicing File Input\n",
    "## Checking the contents of a file\n",
    "Sometimes it will be useful to check the contents of a file within a Jupyter Notebook. Here is a simple way of doing it (a commentary follows the code):"
   ]
  },
  {
   "cell_type": "code",
   "execution_count": 2,
   "metadata": {
    "jupyter": {
     "source_hidden": true
    }
   },
   "outputs": [
    {
     "name": "stdout",
     "output_type": "stream",
     "text": [
      "Carrion crow\n",
      "Jay\n",
      "Magpie\n",
      "Jackdaw\n",
      "Raven\n",
      "Chough\n",
      "Hooded crow\n",
      "Rook\n",
      "Clark's nutcracker\n"
     ]
    }
   ],
   "source": [
    "%%bash\n",
    "cat ../data/corvids.txt"
   ]
  },
  {
   "cell_type": "markdown",
   "metadata": {},
   "source": [
    "Note the following about the preceding code:\n",
    "1. The `%%bash` turns the Notebook cell into a Linux shell known as Bash. \n",
    "    - Linux is an operating system (you may be more familiar with the operating systems Microsoft Windows and/or MacOSX); \n",
    "    - A shell is an environment that allows you to type operating system commands at a prompt (known as the command line).\n",
    "2. Here the Bash shell is allowing you to run commands on the departmental Linux server that JupyterHub is installed on. \n",
    "3. The Linux `cat` (short for \"concatenate\") command is used here to view the contents of a file.\n",
    "\n",
    "Note: We will learn more about Bash in session 7. "
   ]
  },
  {
   "cell_type": "markdown",
   "metadata": {},
   "source": [
    "To do the same in Python, we can use open, and a for loop:"
   ]
  },
  {
   "cell_type": "code",
   "execution_count": 3,
   "metadata": {},
   "outputs": [
    {
     "name": "stdout",
     "output_type": "stream",
     "text": [
      "Carrion crow\n",
      "Jay\n",
      "Magpie\n",
      "Jackdaw\n",
      "Raven\n",
      "Chough\n",
      "Hooded crow\n",
      "Rook\n",
      "Clark's nutcracker\n"
     ]
    }
   ],
   "source": [
    "corvids_file = open('../data/corvids.txt', 'r')\n",
    "for line in corvids_file:\n",
    "    print(line, end='')\n",
    "corvids_file.close()"
   ]
  },
  {
   "cell_type": "code",
   "execution_count": 4,
   "metadata": {},
   "outputs": [
    {
     "name": "stdout",
     "output_type": "stream",
     "text": [
      "Carrion crow\n",
      "Jay\n",
      "Magpie\n",
      "Jackdaw\n",
      "Raven\n",
      "Chough\n",
      "Hooded crow\n",
      "Rook\n",
      "Clark's nutcracker\n"
     ]
    }
   ],
   "source": [
    "with open('../data/corvids.txt', 'r') as corvids_file:\n",
    "    for line in corvids_file:\n",
    "        print(line, end='')"
   ]
  },
  {
   "cell_type": "markdown",
   "metadata": {},
   "source": [
    "## Modify a for loop\n",
    "Firstly, execute the following short script. Secondly, modify it so that it prints out the count of negative numbers, rather than positive numbers:"
   ]
  },
  {
   "cell_type": "code",
   "execution_count": 4,
   "metadata": {},
   "outputs": [
    {
     "name": "stdout",
     "output_type": "stream",
     "text": [
      "Total numbers: 21\n",
      "Negative numbers: 6\n"
     ]
    }
   ],
   "source": [
    "filename = '../data/numbers.txt'\n",
    "total_numbers = 0\n",
    "total_negative_numbers = 0\n",
    "with open(filename, 'r') as f:\n",
    "    for line in f:\n",
    "        total_numbers += 1\n",
    "        if float(line) < 0:\n",
    "            total_negative_numbers += 1\n",
    "print('Total numbers:', total_numbers)\n",
    "print('Negative numbers:', total_negative_numbers)"
   ]
  },
  {
   "cell_type": "markdown",
   "metadata": {},
   "source": [
    "## Write a for loop\n",
    "Write a script that counts and prints out the number of lines in file `numbers.txt`."
   ]
  },
  {
   "cell_type": "code",
   "execution_count": 7,
   "metadata": {},
   "outputs": [
    {
     "name": "stdout",
     "output_type": "stream",
     "text": [
      "1.63\n",
      "\n",
      "-32.78\n",
      "\n",
      "-4.1\n",
      "\n",
      "25.307\n",
      "\n",
      "8.0\n",
      "\n",
      "31.33333\n",
      "\n",
      "780.4592\n",
      "\n",
      "-422.343\n",
      "\n",
      "87.612\n",
      "\n",
      "928.7\n",
      "\n",
      "-187.0\n",
      "\n",
      "1153.04\n",
      "\n",
      "4.2\n",
      "\n",
      "0.932\n",
      "\n",
      "5.65\n",
      "\n",
      "-8205.9\n",
      "\n",
      "-2749.655\n",
      "\n",
      "5.912\n",
      "\n",
      "2347.105\n",
      "\n",
      "39.2\n",
      "\n",
      "61.5\n",
      "\n",
      "Total lines:  21\n"
     ]
    }
   ],
   "source": [
    "filename = '../data/numbers.txt'\n",
    "total_numbers = 0\n",
    "with open(filename, 'r') as file:\n",
    "    for line in file:\n",
    "        print(line)\n",
    "        total_numbers += 1\n",
    "print(\"Total lines: \", total_numbers)"
   ]
  },
  {
   "cell_type": "code",
   "execution_count": null,
   "metadata": {},
   "outputs": [],
   "source": []
  }
 ],
 "metadata": {
  "kernelspec": {
   "display_name": "Python(Python 3)",
   "language": "python",
   "name": "python3"
  },
  "language_info": {
   "codemirror_mode": {
    "name": "ipython",
    "version": 3
   },
   "file_extension": ".py",
   "mimetype": "text/x-python",
   "name": "python",
   "nbconvert_exporter": "python",
   "pygments_lexer": "ipython3",
   "version": "3.8.5"
  }
 },
 "nbformat": 4,
 "nbformat_minor": 4
}
