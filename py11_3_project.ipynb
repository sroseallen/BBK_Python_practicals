{
 "cells": [
  {
   "cell_type": "markdown",
   "metadata": {},
   "source": [
    "# Creating a project structure\n",
    "\n",
    "In this notebook, we will run a script from within a folder.\n",
    "Then, you will be asked to modify the folder, and add your own code"
   ]
  },
  {
   "cell_type": "markdown",
   "metadata": {},
   "source": [
    "Open a new terminal, and navigate to the `src` folder, within the `test_project` folder"
   ]
  },
  {
   "cell_type": "markdown",
   "metadata": {},
   "source": [
    "Run the python script within:, using `python3 ./data_line_counter.py`"
   ]
  },
  {
   "cell_type": "markdown",
   "metadata": {},
   "source": [
    "Add your own data file, for example by copying it from the `biocomp-spring_2023` data folder"
   ]
  },
  {
   "cell_type": "markdown",
   "metadata": {},
   "source": [
    "Can you modify the script to run with your newly copied file? (for a more general way to do that see argparse: https://docs.python.org/3/howto/argparse.html#id1)"
   ]
  },
  {
   "cell_type": "markdown",
   "metadata": {},
   "source": [
    "Can you save the result to a file, instead of printing it?\n",
    "\n",
    "First, create a `results` subfolder within the project folder\n",
    "\n",
    "Second, modify the python file such that it saves a result file. Can you let the user customise the resulting file name?"
   ]
  },
  {
   "cell_type": "markdown",
   "metadata": {},
   "source": [
    "Write a bash script that runs the python script, and saves the results in a file name with the current time and date, within the newly-created `results` folder"
   ]
  },
  {
   "cell_type": "markdown",
   "metadata": {},
   "source": [
    "## Documentation and test\n",
    "\n",
    "Think about what would you like to see when you open such a project?\n",
    "- A `README.md` file, explaining what the project does\n",
    "- Comments in the code, to explain what each part does\n",
    "- A way to run a battery of tests, to ensure the code is performing as intended"
   ]
  },
  {
   "cell_type": "code",
   "execution_count": null,
   "metadata": {},
   "outputs": [],
   "source": []
  }
 ],
 "metadata": {
  "kernelspec": {
   "display_name": "Python(Python 3)",
   "language": "python",
   "name": "python3"
  },
  "language_info": {
   "codemirror_mode": {
    "name": "ipython",
    "version": 3
   },
   "file_extension": ".py",
   "mimetype": "text/x-python",
   "name": "python",
   "nbconvert_exporter": "python",
   "pygments_lexer": "ipython3",
   "version": "3.8.5"
  }
 },
 "nbformat": 4,
 "nbformat_minor": 4
}
