{
 "cells": [
  {
   "cell_type": "markdown",
   "metadata": {},
   "source": [
    "# Python Modules"
   ]
  },
  {
   "cell_type": "markdown",
   "metadata": {},
   "source": [
    "## The sys.path list and module names"
   ]
  },
  {
   "cell_type": "markdown",
   "metadata": {},
   "source": [
    "The list `sys.path` contains the paths of all the directories that the Python program looks in for modules you are trying to import. The first is the location of this Notebook: "
   ]
  },
  {
   "cell_type": "code",
   "execution_count": 1,
   "metadata": {},
   "outputs": [
    {
     "name": "stdout",
     "output_type": "stream",
     "text": [
      "['/d/user6/as004/biocomp-spring_2023/session08', '/l_mnt/python/envs/teaching/lib/python38.zip', '/l_mnt/python/envs/teaching/lib/python3.8', '/l_mnt/python/envs/teaching/lib/python3.8/lib-dynload', '', '/d/user6/as004/.local/lib/python3.8/site-packages', '/l_mnt/python/envs/teaching/lib/python3.8/site-packages', '/l_mnt/python/envs/teaching/lib/python3.8/site-packages/IPython/extensions', '/d/user6/as004/.ipython']\n"
     ]
    }
   ],
   "source": [
    "import sys\n",
    "print(sys.path)"
   ]
  },
  {
   "cell_type": "markdown",
   "metadata": {},
   "source": [
    "The `dir()` function returns a list of names defined by a module. The following generates the list for the `re` (regular expression module). Notice that the list starts with uppercase names (you may remember some of them as regex modifiers). This is followed by names starting with underscores that are not intended for public consumption. After that come the names of functions, some of which you will probably be familiar with. Feel free to try this out for other modules.  "
   ]
  },
  {
   "cell_type": "code",
   "execution_count": 2,
   "metadata": {},
   "outputs": [
    {
     "data": {
      "text/plain": [
       "['A',\n",
       " 'ASCII',\n",
       " 'DEBUG',\n",
       " 'DOTALL',\n",
       " 'I',\n",
       " 'IGNORECASE',\n",
       " 'L',\n",
       " 'LOCALE',\n",
       " 'M',\n",
       " 'MULTILINE',\n",
       " 'Match',\n",
       " 'Pattern',\n",
       " 'RegexFlag',\n",
       " 'S',\n",
       " 'Scanner',\n",
       " 'T',\n",
       " 'TEMPLATE',\n",
       " 'U',\n",
       " 'UNICODE',\n",
       " 'VERBOSE',\n",
       " 'X',\n",
       " '_MAXCACHE',\n",
       " '__all__',\n",
       " '__builtins__',\n",
       " '__cached__',\n",
       " '__doc__',\n",
       " '__file__',\n",
       " '__loader__',\n",
       " '__name__',\n",
       " '__package__',\n",
       " '__spec__',\n",
       " '__version__',\n",
       " '_cache',\n",
       " '_compile',\n",
       " '_compile_repl',\n",
       " '_expand',\n",
       " '_locale',\n",
       " '_pickle',\n",
       " '_special_chars_map',\n",
       " '_subx',\n",
       " 'compile',\n",
       " 'copyreg',\n",
       " 'enum',\n",
       " 'error',\n",
       " 'escape',\n",
       " 'findall',\n",
       " 'finditer',\n",
       " 'fullmatch',\n",
       " 'functools',\n",
       " 'match',\n",
       " 'purge',\n",
       " 'search',\n",
       " 'split',\n",
       " 'sre_compile',\n",
       " 'sre_parse',\n",
       " 'sub',\n",
       " 'subn',\n",
       " 'template']"
      ]
     },
     "execution_count": 2,
     "metadata": {},
     "output_type": "execute_result"
    }
   ],
   "source": [
    "import re\n",
    "dir(re)"
   ]
  },
  {
   "cell_type": "markdown",
   "metadata": {},
   "source": [
    "You can find out about any functions you are unfamiliar with like this: "
   ]
  },
  {
   "cell_type": "code",
   "execution_count": 3,
   "metadata": {},
   "outputs": [
    {
     "name": "stdout",
     "output_type": "stream",
     "text": [
      "Help on function purge in module re:\n",
      "\n",
      "purge()\n",
      "    Clear the regular expression caches\n",
      "\n"
     ]
    }
   ],
   "source": [
    "help(re.purge)"
   ]
  },
  {
   "cell_type": "markdown",
   "metadata": {},
   "source": [
    "## Creating a module"
   ]
  },
  {
   "cell_type": "markdown",
   "metadata": {},
   "source": [
    "Here are some simple sequence-related functions. Using the Jupyter text editor, save them in a sensibly-named module in the `session09` directory, then test them out in the (currently empty) cell beneath the function definitions."
   ]
  },
  {
   "cell_type": "code",
   "execution_count": 1,
   "metadata": {},
   "outputs": [],
   "source": [
    "def get_dna_base_code(name):\n",
    "    \"\"\"Return one-letter DNA base code given its name\"\"\"\n",
    "    if name.lower() == 'adenine':\n",
    "        return 'A'\n",
    "    if name.lower() == 'guanine':\n",
    "        return 'G'\n",
    "    if name.lower() == 'cytosine':\n",
    "        return 'C'\n",
    "    if name.lower() == 'thymine':\n",
    "        return 'T'\n",
    "    else:\n",
    "        return None\n",
    "\n",
    "def get_rna_base_code(name):\n",
    "    \"\"\"Return one-letter RNA base code given its name\"\"\"\n",
    "    if name.lower() == 'adenine':\n",
    "        return 'A'\n",
    "    if name.lower() == 'guanine':\n",
    "        return 'G'\n",
    "    if name.lower() == 'cytosine':\n",
    "        return 'C'\n",
    "    if name.lower() == 'uracil':\n",
    "        return 'U'\n",
    "    else:\n",
    "        return None\n",
    "\n",
    "def get_dna_base_name(letter):\n",
    "    \"\"\"Return DNA base name given its one-letter code\"\"\"\n",
    "    if letter.lower() == 'a':\n",
    "        return 'adenine'\n",
    "    if letter.lower() == 'g':\n",
    "        return 'guanine'\n",
    "    if letter.lower() == 'c':\n",
    "        return 'cytosine'\n",
    "    if letter.lower() == 't':\n",
    "        return 'thymine'\n",
    "    else:\n",
    "        return None\n",
    "    \n",
    "def get_rna_base_name(letter):\n",
    "    \"\"\"Return RNA base name given its one-letter code\"\"\"\n",
    "    if letter.lower() == 'a':\n",
    "        return 'adenine'\n",
    "    if letter.lower() == 'g':\n",
    "        return 'guanine'\n",
    "    if letter.lower() == 'c':\n",
    "        return 'cytosine'\n",
    "    if letter.lower() == 'u':\n",
    "        return 'uracil'\n",
    "    else:\n",
    "        return None\n",
    "    \n",
    "def is_subseq(s, seq):\n",
    "    \"\"\"Return True if s is a sub-sequence of seq, otherwise False.\"\"\"\n",
    "    seq = seq.lower()\n",
    "    if s.lower() in seq:\n",
    "        return True\n",
    "    return False\n"
   ]
  },
  {
   "cell_type": "code",
   "execution_count": 16,
   "metadata": {},
   "outputs": [
    {
     "name": "stdout",
     "output_type": "stream",
     "text": [
      "Help on module base_check:\n",
      "\n",
      "NAME\n",
      "    base_check\n",
      "\n",
      "FUNCTIONS\n",
      "    get_dna_base_code(name)\n",
      "        Return one-letter DNA base code given its name\n",
      "    \n",
      "    get_dna_base_name(letter)\n",
      "        Return DNA base name given its one-letter code\n",
      "    \n",
      "    get_rna_base_code(name)\n",
      "        Return one-letter RNA base code given its name\n",
      "    \n",
      "    get_rna_base_name(letter)\n",
      "        Return RNA base name given its one-letter code\n",
      "    \n",
      "    is_subseq(s, seq)\n",
      "        Return True if s is a sub-sequence of seq, otherwise False.\n",
      "\n",
      "FILE\n",
      "    /d/user6/as004/biocomp-spring_2023/session08/base_check.py\n",
      "\n",
      "\n",
      "G\n",
      "U\n",
      "False\n"
     ]
    }
   ],
   "source": [
    "import base_check\n",
    "\n",
    "help(base_check)\n",
    "dir(base_check)\n",
    "\n",
    "print(base_check.get_dna_base_code(\"guanine\"))\n",
    "print(base_check.get_rna_base_code(\"URACil\"))\n",
    "print(base_check.is_subseq(\"gtt\", \"atcattctactgtatctat\"))"
   ]
  }
 ],
 "metadata": {
  "kernelspec": {
   "display_name": "Python(Python 3)",
   "language": "python",
   "name": "python3"
  },
  "language_info": {
   "codemirror_mode": {
    "name": "ipython",
    "version": 3
   },
   "file_extension": ".py",
   "mimetype": "text/x-python",
   "name": "python",
   "nbconvert_exporter": "python",
   "pygments_lexer": "ipython3",
   "version": "3.8.5"
  }
 },
 "nbformat": 4,
 "nbformat_minor": 4
}
