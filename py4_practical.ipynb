{
 "cells": [
  {
   "cell_type": "markdown",
   "metadata": {},
   "source": [
    "# Python Practical 4: Practical"
   ]
  },
  {
   "cell_type": "markdown",
   "metadata": {},
   "source": [
    "## A) From ranges to dictionaries"
   ]
  },
  {
   "cell_type": "markdown",
   "metadata": {},
   "source": [
    "**1. A range of numbers**\n",
    "\n",
    "Use a range to print out all even numbers between `10` and `50`."
   ]
  },
  {
   "cell_type": "code",
   "execution_count": 10,
   "metadata": {},
   "outputs": [
    {
     "name": "stdout",
     "output_type": "stream",
     "text": [
      "[10, 12, 14, 16, 18, 20, 22, 24, 26, 28, 30, 32, 34, 36, 38, 40, 42, 44, 46, 48, 50]\n"
     ]
    }
   ],
   "source": [
    "numbers = list(range(10, 51, 2))\n",
    "print(numbers)\n",
    "\n",
    "# from the answers: use a for loop tp run through each n in numbers and print these to console. Gives nicer looking output."
   ]
  },
  {
   "cell_type": "code",
   "execution_count": 4,
   "metadata": {},
   "outputs": [
    {
     "name": "stdout",
     "output_type": "stream",
     "text": [
      "File aa_types.txt:\n",
      "ALA A\n",
      "ARG R\n",
      "ASN N\n",
      "ASP D\n",
      "CYS C\n",
      "GLU E\n",
      "GLN Q\n",
      "GLY G\n",
      "HIS H\n",
      "ILE I\n",
      "LEU L\n",
      "LYS K\n",
      "MET M\n",
      "PHE F\n",
      "PRO P\n",
      "SER S\n",
      "THR T\n",
      "TRP W\n",
      "TYR Y\n",
      "VAL V\n",
      "\n",
      "File seq_3code.txt:\n",
      "GLY ILE VAL GLU GLN CYS CYS THR SER ILE CYS SER LEU\n",
      "PHE VAL ASN GLN HIS LEU CYS GLY SER HIS LEU VAL GLU\n",
      "ALA LEU TYR LEU VAL CYS GLY GLU ARG GLY PHE PHE TYR\n",
      "MET ILE VAL PRO GLU SER SER ASP PRO ALA ALA LEU LYS\n",
      "ARG ALA ARG ASN THR GLU ALA ALA ARG ARG SER ARG ALA\n",
      "ARG LYS LEU GLN ARG MET LYS GLN LEU GLU ASP LYS VAL\n",
      "GLU GLU LEU LEU SER LYS ASN TYR HIS LEU GLU ASN GLU\n"
     ]
    }
   ],
   "source": [
    "%%bash\n",
    "echo \"File aa_types.txt:\"\n",
    "cat ../data/aa_types.txt\n",
    "echo\n",
    "echo \"File seq_3code.txt:\"\n",
    "cat ../data/seq_3code.txt"
   ]
  },
  {
   "cell_type": "markdown",
   "metadata": {},
   "source": [
    "**2. Amino-acid code conversion**\n",
    "\n",
    "Create a dictionary that maps 3-letter to 1-letter amino-acid codes using the file `aa_types.txt`. Use the dictionary to convert the sequence in file `seq_3code.txt` to a simple sequence (single letter codes, no gaps)."
   ]
  },
  {
   "cell_type": "code",
   "execution_count": 208,
   "metadata": {},
   "outputs": [
    {
     "name": "stdout",
     "output_type": "stream",
     "text": [
      "['G', 'I', 'V', 'E', 'Q', 'C', 'C', 'T', 'S', 'I', 'C', 'S', 'L', 'F', 'V', 'N', 'Q', 'H', 'L', 'C', 'G', 'S', 'H', 'L', 'V', 'E', 'A', 'L', 'Y', 'L', 'V', 'C', 'G', 'E', 'R', 'G', 'F', 'F', 'Y', 'M', 'I', 'V', 'P', 'E', 'S', 'S', 'D', 'P', 'A', 'A', 'L', 'K', 'R', 'A', 'R', 'N', 'T', 'E', 'A', 'A', 'R', 'R', 'S', 'R', 'A', 'R', 'K', 'L', 'Q', 'R', 'M', 'K', 'Q', 'L', 'E', 'D', 'K', 'V', 'E', 'E', 'L', 'L', 'S', 'K', 'N', 'Y', 'H', 'L', 'E', 'N', 'E']\n",
      "GIVEQCCTSICSLFVNQHLCGSHLVEALYLVCGERGFFYMIVPESSDPAALKRARNTEAARRSRARKLQRMKQLEDKVEELLSKNYHLENE\n",
      "GIVEQCCTSICSLFVNQHLCGSHLVEALYLVCGERGFFYMIVPESSDPAALKRARNTEAARRSRARKLQRMKQLEDKVEELLSKNYHLENE\n"
     ]
    }
   ],
   "source": [
    "aa_types_fname = '../data/aa_types.txt'\n",
    "seq_3code_fname = '../data/seq_3code.txt'\n",
    "\n",
    "# create the dictionary of key:value pairs\n",
    "d = {}\n",
    "with open (aa_types_fname, 'r') as codes:\n",
    "    for line in codes:\n",
    "        key_value = line.split()\n",
    "        d[key_value[0]] = key_value[1]\n",
    "\n",
    "# import and arrange sequence as list where each index = one amino acid\n",
    "with open (seq_3code_fname, 'r') as f:\n",
    "    seq = f.read().splitlines()\n",
    "    seq = \" \".join(seq)\n",
    "    seq = seq.split()\n",
    "\n",
    "# convert each amino acid in sequence to its single letter version using the dictionary\n",
    "seq_single = [] \n",
    "for aa in seq:\n",
    "    seq_single.append(d.get(aa))\n",
    "print(seq_single)\n",
    "\n",
    "# re-join sequence to make one string with no gaps\n",
    "seq_single = \"\".join(seq_single)\n",
    "print(seq_single)\n",
    "\n",
    "# note after seeing asnwers: if seq_single was a string, you could use seq_single += d[aa] to simply add each single letter code, then you don't need to re-join sequence later\n",
    "seq_single_string = ''\n",
    "for aa in seq:\n",
    "    seq_single_string += d[aa]\n",
    "print (seq_single_string)"
   ]
  },
  {
   "cell_type": "markdown",
   "metadata": {},
   "source": [
    "**3. Set difference**\n",
    "\n",
    "Print out the number of species that are in file `species1.txt`, but not\n",
    "in file `species2.txt`. And print out the number of species that are in\n",
    "file `species2.txt` but not in file `species1.txt`. Consider using sets instead of dictionaries."
   ]
  },
  {
   "cell_type": "code",
   "execution_count": 58,
   "metadata": {},
   "outputs": [
    {
     "name": "stdout",
     "output_type": "stream",
     "text": [
      "File species1.txt:\n",
      "Geotrygon versicolor\n",
      "Panyptila sanctihieronymi\n",
      "Aechmophorus clarkii\n",
      "Fulica alai\n",
      "Rallus obsoletus\n",
      "\n",
      "File species2.txt:\n",
      "Bonasa umbellus\n",
      "Patagioenas fasciata\n",
      "Lagopus muta\n",
      "Charadrius collaris\n",
      "Anas crecca\n"
     ]
    }
   ],
   "source": [
    "%%bash\n",
    "echo \"File species1.txt:\"\n",
    "head -5 ../data/species1.txt\n",
    "echo\n",
    "echo \"File species2.txt:\"\n",
    "head -5 ../data/species2.txt"
   ]
  },
  {
   "cell_type": "code",
   "execution_count": 115,
   "metadata": {},
   "outputs": [
    {
     "name": "stdout",
     "output_type": "stream",
     "text": [
      "125\n",
      "134\n"
     ]
    }
   ],
   "source": [
    "species1_fname = '../data/species1.txt'\n",
    "species2_fname = '../data/species2.txt'\n",
    "\n",
    "species1 = set()\n",
    "species2 = set()\n",
    "with open (species1_fname, 'r') as file:\n",
    "    species1.update (file.read().splitlines())\n",
    "with open (species2_fname, 'r') as file:\n",
    "    species2.update (file.read().splitlines())\n",
    "\n",
    "species1_only = species1.difference(species2)\n",
    "species2_only = species2.difference(species1)\n",
    "print (len(species1_only))\n",
    "print (len(species2_only))\n",
    "\n"
   ]
  },
  {
   "cell_type": "code",
   "execution_count": 94,
   "metadata": {},
   "outputs": [
    {
     "name": "stdout",
     "output_type": "stream",
     "text": [
      "Help on class set in module builtins:\n",
      "\n",
      "class set(object)\n",
      " |  set() -> new empty set object\n",
      " |  set(iterable) -> new set object\n",
      " |  \n",
      " |  Build an unordered collection of unique elements.\n",
      " |  \n",
      " |  Methods defined here:\n",
      " |  \n",
      " |  __and__(self, value, /)\n",
      " |      Return self&value.\n",
      " |  \n",
      " |  __contains__(...)\n",
      " |      x.__contains__(y) <==> y in x.\n",
      " |  \n",
      " |  __eq__(self, value, /)\n",
      " |      Return self==value.\n",
      " |  \n",
      " |  __ge__(self, value, /)\n",
      " |      Return self>=value.\n",
      " |  \n",
      " |  __getattribute__(self, name, /)\n",
      " |      Return getattr(self, name).\n",
      " |  \n",
      " |  __gt__(self, value, /)\n",
      " |      Return self>value.\n",
      " |  \n",
      " |  __iand__(self, value, /)\n",
      " |      Return self&=value.\n",
      " |  \n",
      " |  __init__(self, /, *args, **kwargs)\n",
      " |      Initialize self.  See help(type(self)) for accurate signature.\n",
      " |  \n",
      " |  __ior__(self, value, /)\n",
      " |      Return self|=value.\n",
      " |  \n",
      " |  __isub__(self, value, /)\n",
      " |      Return self-=value.\n",
      " |  \n",
      " |  __iter__(self, /)\n",
      " |      Implement iter(self).\n",
      " |  \n",
      " |  __ixor__(self, value, /)\n",
      " |      Return self^=value.\n",
      " |  \n",
      " |  __le__(self, value, /)\n",
      " |      Return self<=value.\n",
      " |  \n",
      " |  __len__(self, /)\n",
      " |      Return len(self).\n",
      " |  \n",
      " |  __lt__(self, value, /)\n",
      " |      Return self<value.\n",
      " |  \n",
      " |  __ne__(self, value, /)\n",
      " |      Return self!=value.\n",
      " |  \n",
      " |  __or__(self, value, /)\n",
      " |      Return self|value.\n",
      " |  \n",
      " |  __rand__(self, value, /)\n",
      " |      Return value&self.\n",
      " |  \n",
      " |  __reduce__(...)\n",
      " |      Return state information for pickling.\n",
      " |  \n",
      " |  __repr__(self, /)\n",
      " |      Return repr(self).\n",
      " |  \n",
      " |  __ror__(self, value, /)\n",
      " |      Return value|self.\n",
      " |  \n",
      " |  __rsub__(self, value, /)\n",
      " |      Return value-self.\n",
      " |  \n",
      " |  __rxor__(self, value, /)\n",
      " |      Return value^self.\n",
      " |  \n",
      " |  __sizeof__(...)\n",
      " |      S.__sizeof__() -> size of S in memory, in bytes\n",
      " |  \n",
      " |  __sub__(self, value, /)\n",
      " |      Return self-value.\n",
      " |  \n",
      " |  __xor__(self, value, /)\n",
      " |      Return self^value.\n",
      " |  \n",
      " |  add(...)\n",
      " |      Add an element to a set.\n",
      " |      \n",
      " |      This has no effect if the element is already present.\n",
      " |  \n",
      " |  clear(...)\n",
      " |      Remove all elements from this set.\n",
      " |  \n",
      " |  copy(...)\n",
      " |      Return a shallow copy of a set.\n",
      " |  \n",
      " |  difference(...)\n",
      " |      Return the difference of two or more sets as a new set.\n",
      " |      \n",
      " |      (i.e. all elements that are in this set but not the others.)\n",
      " |  \n",
      " |  difference_update(...)\n",
      " |      Remove all elements of another set from this set.\n",
      " |  \n",
      " |  discard(...)\n",
      " |      Remove an element from a set if it is a member.\n",
      " |      \n",
      " |      If the element is not a member, do nothing.\n",
      " |  \n",
      " |  intersection(...)\n",
      " |      Return the intersection of two sets as a new set.\n",
      " |      \n",
      " |      (i.e. all elements that are in both sets.)\n",
      " |  \n",
      " |  intersection_update(...)\n",
      " |      Update a set with the intersection of itself and another.\n",
      " |  \n",
      " |  isdisjoint(...)\n",
      " |      Return True if two sets have a null intersection.\n",
      " |  \n",
      " |  issubset(...)\n",
      " |      Report whether another set contains this set.\n",
      " |  \n",
      " |  issuperset(...)\n",
      " |      Report whether this set contains another set.\n",
      " |  \n",
      " |  pop(...)\n",
      " |      Remove and return an arbitrary set element.\n",
      " |      Raises KeyError if the set is empty.\n",
      " |  \n",
      " |  remove(...)\n",
      " |      Remove an element from a set; it must be a member.\n",
      " |      \n",
      " |      If the element is not a member, raise a KeyError.\n",
      " |  \n",
      " |  symmetric_difference(...)\n",
      " |      Return the symmetric difference of two sets as a new set.\n",
      " |      \n",
      " |      (i.e. all elements that are in exactly one of the sets.)\n",
      " |  \n",
      " |  symmetric_difference_update(...)\n",
      " |      Update a set with the symmetric difference of itself and another.\n",
      " |  \n",
      " |  union(...)\n",
      " |      Return the union of sets as a new set.\n",
      " |      \n",
      " |      (i.e. all elements that are in either set.)\n",
      " |  \n",
      " |  update(...)\n",
      " |      Update a set with the union of itself and others.\n",
      " |  \n",
      " |  ----------------------------------------------------------------------\n",
      " |  Static methods defined here:\n",
      " |  \n",
      " |  __new__(*args, **kwargs) from builtins.type\n",
      " |      Create and return a new object.  See help(type) for accurate signature.\n",
      " |  \n",
      " |  ----------------------------------------------------------------------\n",
      " |  Data and other attributes defined here:\n",
      " |  \n",
      " |  __hash__ = None\n",
      "\n"
     ]
    }
   ],
   "source": [
    "help(set)"
   ]
  },
  {
   "cell_type": "markdown",
   "metadata": {},
   "source": [
    "## B) Something A Bit More Challenging…"
   ]
  },
  {
   "cell_type": "markdown",
   "metadata": {},
   "source": [
    "**1. Intersection**\n",
    "\n",
    "Each of the files named in file `filenames.txt` contains a list of\n",
    "words. Write a script that opens each of the files listed in file\n",
    "`filenames.txt`, reads in the words, and prints out (in no particular\n",
    "order) any words that occur in all of the files. Write the code so that it\n",
    "will work if I add another file to `filenames.txt`. Here are the contents of `filenames.txt`:"
   ]
  },
  {
   "cell_type": "code",
   "execution_count": 116,
   "metadata": {},
   "outputs": [
    {
     "name": "stdout",
     "output_type": "stream",
     "text": [
      "File filenames.txt:\n",
      "../data/names1.txt\n",
      "../data/names2.txt\n",
      "../data/names3.txt\n",
      "../data/names4.txt\n",
      "\n",
      "First names file:\n",
      "Jack\n",
      "Oliver\n",
      "Charlie\n",
      "Harry\n",
      "Jacob\n"
     ]
    }
   ],
   "source": [
    "%%bash\n",
    "echo \"File filenames.txt:\"\n",
    "cat ../data/filenames.txt\n",
    "echo\n",
    "echo \"First names file:\"\n",
    "head -5 ../data/names1.txt"
   ]
  },
  {
   "cell_type": "code",
   "execution_count": 210,
   "metadata": {},
   "outputs": [
    {
     "name": "stdout",
     "output_type": "stream",
     "text": [
      "['Jack', 'Oliver', 'Charlie', 'Harry', 'Jacob', 'Alfie', 'Noah', 'Oscar', 'George', 'James', 'Thomas', 'Leo', 'William', 'Joshua', 'Logan', 'Freddie', 'Archie', 'Max', 'Henry']\n",
      "['Jack', 'Oliver', 'Charlie', 'Ethan', 'Mason', 'Lucas', 'Riley', 'Daniel', 'Joseph', 'Jake', 'Harrison', 'Theo', 'Alexander', 'Samuel', 'Isaac', 'Dylan', 'Finley', 'Edward', 'Adam', 'Benjamin', 'Lewis', 'Harley', 'Tyler', 'Sebastian']\n",
      "['Luke', 'Toby', 'Jayden', 'Kian', 'Tommy', 'Alex', 'Ollie', 'Harvey', 'Charlie', 'Matthew', 'Blake', 'Frankie', 'Nathan', 'Jenson', 'Ryan', 'Oliver', 'Teddy', 'Zachary', 'Arthur', 'Luca', 'David', 'Kai', 'Liam', 'Jack', 'Bobby', 'Micheal', 'Jude', 'Connor', 'Jamie', 'Callum', 'Stanley', 'Louis', 'Finlay']\n",
      "['Louie', 'Aaron', 'Jack', 'Dexter', 'Elijah', 'Hugo', 'Rory', 'Ben', 'Leon', 'Oliver', 'Elliott', 'Sam', 'Elliot', 'Ronnie', 'Kayden', 'Reuben', 'Jackson', 'Seth', 'Charlie', 'Evan', 'Joey', 'Caleb', 'Aiden', 'Cameron', 'Carter', 'Owen', 'Mohammed', 'Austin', 'Cody', 'Zac', 'Bailey']\n",
      "Jack\n",
      "Oliver\n",
      "Charlie\n"
     ]
    }
   ],
   "source": [
    "from collections import defaultdict\n",
    "\n",
    "filenames_file = '../data/filenames.txt'\n",
    "\n",
    "with open (filenames_file, 'r') as f:\n",
    "    files = f.read().splitlines()\n",
    "    list_length = int(len(files))\n",
    "    \n",
    "union = list()\n",
    "d = defaultdict(int)\n",
    "\n",
    "# reads in every file in filenames.txt and creates dictionary with count of each name\n",
    "for f in files:\n",
    "    with open (f, 'r') as a:\n",
    "        new_data = a.read().splitlines()\n",
    "        print(new_data)\n",
    "        for name in new_data:\n",
    "            d[name] += 1\n",
    "\n",
    "# prints out the key (name) of any entry that appears in all files (given by list length of filenames.txt)\n",
    "for k, v in d.items():\n",
    "    if v == list_length:\n",
    "        print(k)"
   ]
  },
  {
   "cell_type": "code",
   "execution_count": 162,
   "metadata": {},
   "outputs": [
    {
     "name": "stdout",
     "output_type": "stream",
     "text": [
      "Help on class list in module builtins:\n",
      "\n",
      "class list(object)\n",
      " |  list(iterable=(), /)\n",
      " |  \n",
      " |  Built-in mutable sequence.\n",
      " |  \n",
      " |  If no argument is given, the constructor creates a new empty list.\n",
      " |  The argument must be an iterable if specified.\n",
      " |  \n",
      " |  Methods defined here:\n",
      " |  \n",
      " |  __add__(self, value, /)\n",
      " |      Return self+value.\n",
      " |  \n",
      " |  __contains__(self, key, /)\n",
      " |      Return key in self.\n",
      " |  \n",
      " |  __delitem__(self, key, /)\n",
      " |      Delete self[key].\n",
      " |  \n",
      " |  __eq__(self, value, /)\n",
      " |      Return self==value.\n",
      " |  \n",
      " |  __ge__(self, value, /)\n",
      " |      Return self>=value.\n",
      " |  \n",
      " |  __getattribute__(self, name, /)\n",
      " |      Return getattr(self, name).\n",
      " |  \n",
      " |  __getitem__(...)\n",
      " |      x.__getitem__(y) <==> x[y]\n",
      " |  \n",
      " |  __gt__(self, value, /)\n",
      " |      Return self>value.\n",
      " |  \n",
      " |  __iadd__(self, value, /)\n",
      " |      Implement self+=value.\n",
      " |  \n",
      " |  __imul__(self, value, /)\n",
      " |      Implement self*=value.\n",
      " |  \n",
      " |  __init__(self, /, *args, **kwargs)\n",
      " |      Initialize self.  See help(type(self)) for accurate signature.\n",
      " |  \n",
      " |  __iter__(self, /)\n",
      " |      Implement iter(self).\n",
      " |  \n",
      " |  __le__(self, value, /)\n",
      " |      Return self<=value.\n",
      " |  \n",
      " |  __len__(self, /)\n",
      " |      Return len(self).\n",
      " |  \n",
      " |  __lt__(self, value, /)\n",
      " |      Return self<value.\n",
      " |  \n",
      " |  __mul__(self, value, /)\n",
      " |      Return self*value.\n",
      " |  \n",
      " |  __ne__(self, value, /)\n",
      " |      Return self!=value.\n",
      " |  \n",
      " |  __repr__(self, /)\n",
      " |      Return repr(self).\n",
      " |  \n",
      " |  __reversed__(self, /)\n",
      " |      Return a reverse iterator over the list.\n",
      " |  \n",
      " |  __rmul__(self, value, /)\n",
      " |      Return value*self.\n",
      " |  \n",
      " |  __setitem__(self, key, value, /)\n",
      " |      Set self[key] to value.\n",
      " |  \n",
      " |  __sizeof__(self, /)\n",
      " |      Return the size of the list in memory, in bytes.\n",
      " |  \n",
      " |  append(self, object, /)\n",
      " |      Append object to the end of the list.\n",
      " |  \n",
      " |  clear(self, /)\n",
      " |      Remove all items from list.\n",
      " |  \n",
      " |  copy(self, /)\n",
      " |      Return a shallow copy of the list.\n",
      " |  \n",
      " |  count(self, value, /)\n",
      " |      Return number of occurrences of value.\n",
      " |  \n",
      " |  extend(self, iterable, /)\n",
      " |      Extend list by appending elements from the iterable.\n",
      " |  \n",
      " |  index(self, value, start=0, stop=9223372036854775807, /)\n",
      " |      Return first index of value.\n",
      " |      \n",
      " |      Raises ValueError if the value is not present.\n",
      " |  \n",
      " |  insert(self, index, object, /)\n",
      " |      Insert object before index.\n",
      " |  \n",
      " |  pop(self, index=-1, /)\n",
      " |      Remove and return item at index (default last).\n",
      " |      \n",
      " |      Raises IndexError if list is empty or index is out of range.\n",
      " |  \n",
      " |  remove(self, value, /)\n",
      " |      Remove first occurrence of value.\n",
      " |      \n",
      " |      Raises ValueError if the value is not present.\n",
      " |  \n",
      " |  reverse(self, /)\n",
      " |      Reverse *IN PLACE*.\n",
      " |  \n",
      " |  sort(self, /, *, key=None, reverse=False)\n",
      " |      Sort the list in ascending order and return None.\n",
      " |      \n",
      " |      The sort is in-place (i.e. the list itself is modified) and stable (i.e. the\n",
      " |      order of two equal elements is maintained).\n",
      " |      \n",
      " |      If a key function is given, apply it once to each list item and sort them,\n",
      " |      ascending or descending, according to their function values.\n",
      " |      \n",
      " |      The reverse flag can be set to sort in descending order.\n",
      " |  \n",
      " |  ----------------------------------------------------------------------\n",
      " |  Static methods defined here:\n",
      " |  \n",
      " |  __new__(*args, **kwargs) from builtins.type\n",
      " |      Create and return a new object.  See help(type) for accurate signature.\n",
      " |  \n",
      " |  ----------------------------------------------------------------------\n",
      " |  Data and other attributes defined here:\n",
      " |  \n",
      " |  __hash__ = None\n",
      "\n"
     ]
    }
   ],
   "source": [
    "help(list)"
   ]
  },
  {
   "cell_type": "markdown",
   "metadata": {},
   "source": [
    "**2. Amino-acid frequencies**\n",
    "\n",
    "Count the number of each amino-acid type occurring within the\n",
    "sequence stored in file `seq_long.txt`. Print out a list of the amino\n",
    "acids and corresponding counts in descending order of frequency."
   ]
  },
  {
   "cell_type": "code",
   "execution_count": null,
   "metadata": {},
   "outputs": [],
   "source": [
    "%%bash\n",
    "head -10 ../data/seq_long.txt"
   ]
  },
  {
   "cell_type": "code",
   "execution_count": 9,
   "metadata": {},
   "outputs": [],
   "source": [
    "seq_long_fname = '../data/seq_long.txt'\n"
   ]
  },
  {
   "cell_type": "markdown",
   "metadata": {},
   "source": [
    "**3. PDB codes and chain IDs**\n",
    "\n",
    "A PDB chain ID consist of five characters (e.g. `1fb1A`): a 4-character\n",
    "identifier for a protein (here `1fb1`), and a one-character chain identifier\n",
    "(here `A`). Read in the 5-character PDB chain IDs from file\n",
    "`chain_ids.txt` &mdash; you can see the format below:"
   ]
  },
  {
   "cell_type": "code",
   "execution_count": null,
   "metadata": {},
   "outputs": [],
   "source": [
    "%%bash\n",
    "head -10 ../data/chain_ids.txt"
   ]
  },
  {
   "cell_type": "markdown",
   "metadata": {},
   "source": [
    "Use a dictionary to store a) PDB codes (the\n",
    "keys) and b) a list of the single-character chain identifiers associated with\n",
    "that PDB code (the values). Print them out in the following format, i.e.\n",
    "sorted alphabetically by PDB code and with chain letters also sorted:\n",
    "<pre>\n",
    "1aoc: A B\n",
    "1aoe: A B\n",
    "1aof: A B\n",
    "1b0c: A B C D E\n",
    "1cij: A\n",
    "1cik: A\n",
    "1der: A B C D E F G H I J K L M N\n",
    "1dfj: I\n",
    "1dfk: A Y Z\n",
    "...\n",
    "</pre>"
   ]
  },
  {
   "cell_type": "code",
   "execution_count": null,
   "metadata": {},
   "outputs": [],
   "source": [
    "chain_ids_fname = '../data/chain_ids.txt'\n"
   ]
  }
 ],
 "metadata": {
  "kernelspec": {
   "display_name": "Python(Python 3)",
   "language": "python",
   "name": "python3"
  },
  "language_info": {
   "codemirror_mode": {
    "name": "ipython",
    "version": 3
   },
   "file_extension": ".py",
   "mimetype": "text/x-python",
   "name": "python",
   "nbconvert_exporter": "python",
   "pygments_lexer": "ipython3",
   "version": "3.8.5"
  }
 },
 "nbformat": 4,
 "nbformat_minor": 4
}
