{
 "cells": [
  {
   "cell_type": "markdown",
   "metadata": {},
   "source": [
    "# Python Assessed Practical 1"
   ]
  },
  {
   "cell_type": "markdown",
   "metadata": {},
   "source": [
    "**1.** Write a script that reads in two integers (e.g. `-5` and `3`) from the keyboard and prints them out in descending numerical order."
   ]
  },
  {
   "cell_type": "markdown",
   "metadata": {},
   "source": [
    "**2.** File `multi_seqs.txt` contains several amino-acid sequences, one per line. Write a script that prints out the average length of the sequences in file `multi_seqs.txt`.\n",
    "\n",
    "**Note:** You can assume that every line in `multi_seqs.txt` contains a single sequence."
   ]
  },
  {
   "cell_type": "code",
   "execution_count": 56,
   "metadata": {},
   "outputs": [
    {
     "name": "stdout",
     "output_type": "stream",
     "text": [
      "MTTQAPTFTQPLQSVVVLEGSTATFEAHISGFPVPEVSWFRDGQVIST\n",
      "STLPGVQISFSDGRAKLTIPAVTKANSGRYSLKATNGSGQATSTAELLVKAETAPPN\n",
      "FVQRLQSMTVRQGSQVRLQVRVTGIPTPVVKFYRDGAEIQS\n",
      "SLDFQISQEGDLYSLLIAEAYPEDSGTYSVNATN\n",
      "SVGRATSTAELLVQGEEEVPAKKTKTIVSTAQISESRQTRIEKKIEAH\n"
     ]
    }
   ],
   "source": [
    "%%bash\n",
    "head -5 ../data/multi_seqs.txt"
   ]
  },
  {
   "cell_type": "markdown",
   "metadata": {},
   "source": [
    "**3.** Write a script that works out whether a genus has multiple species in a file such as `species1.txt`. For a genus with at least 4 listed species, print out the name of the genus followed by the number of species in that genus. The output should be sorted in descending order of species frequency, hence:\n",
    "\n",
    "`\n",
    "Anas = 10\n",
    "Amazilia = 9\n",
    "Coccyzus = 9\n",
    "Patagioenas = 8\n",
    "Charadrius = 8\n",
    "`\n",
    "\n",
    "etc."
   ]
  },
  {
   "cell_type": "code",
   "execution_count": null,
   "metadata": {},
   "outputs": [],
   "source": []
  }
 ],
 "metadata": {
  "kernelspec": {
   "display_name": "Python(Python 3)",
   "language": "python",
   "name": "python3"
  },
  "language_info": {
   "codemirror_mode": {
    "name": "ipython",
    "version": 3
   },
   "file_extension": ".py",
   "mimetype": "text/x-python",
   "name": "python",
   "nbconvert_exporter": "python",
   "pygments_lexer": "ipython3",
   "version": "3.8.5"
  }
 },
 "nbformat": 4,
 "nbformat_minor": 4
}
