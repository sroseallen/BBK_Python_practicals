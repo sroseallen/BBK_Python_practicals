{
 "cells": [
  {
   "cell_type": "markdown",
   "metadata": {},
   "source": [
    "Read the `ICTV2015.csv` spreadsheet using pandas."
   ]
  },
  {
   "cell_type": "code",
   "execution_count": 4,
   "metadata": {},
   "outputs": [
    {
     "data": {
      "text/html": [
       "<div>\n",
       "<style scoped>\n",
       "    .dataframe tbody tr th:only-of-type {\n",
       "        vertical-align: middle;\n",
       "    }\n",
       "\n",
       "    .dataframe tbody tr th {\n",
       "        vertical-align: top;\n",
       "    }\n",
       "\n",
       "    .dataframe thead th {\n",
       "        text-align: right;\n",
       "    }\n",
       "</style>\n",
       "<table border=\"1\" class=\"dataframe\">\n",
       "  <thead>\n",
       "    <tr style=\"text-align: right;\">\n",
       "      <th></th>\n",
       "      <th>Order</th>\n",
       "      <th>Family</th>\n",
       "      <th>Subfamily</th>\n",
       "      <th>Genus</th>\n",
       "      <th>Species</th>\n",
       "      <th>Type Species</th>\n",
       "      <th>Exemplar Accession Number</th>\n",
       "      <th>Exemplar Isolate</th>\n",
       "      <th>Genome Composition</th>\n",
       "      <th>Last Change</th>\n",
       "      <th>MSL of Last Change</th>\n",
       "      <th>Proposal</th>\n",
       "      <th>Taxon History URL</th>\n",
       "    </tr>\n",
       "  </thead>\n",
       "  <tbody>\n",
       "    <tr>\n",
       "      <th>0</th>\n",
       "      <td>Caudovirales</td>\n",
       "      <td>Myoviridae</td>\n",
       "      <td>Eucampyvirinae</td>\n",
       "      <td>Cp220virus</td>\n",
       "      <td>Campylobacter virus CP21</td>\n",
       "      <td>0</td>\n",
       "      <td>HE815464</td>\n",
       "      <td>NaN</td>\n",
       "      <td>dsDNA</td>\n",
       "      <td>Renamed,Moved,</td>\n",
       "      <td>30</td>\n",
       "      <td>2015.025aB.A.v4.phagesp_ren</td>\n",
       "      <td>ICTVonline=20150005</td>\n",
       "    </tr>\n",
       "    <tr>\n",
       "      <th>1</th>\n",
       "      <td>Caudovirales</td>\n",
       "      <td>Myoviridae</td>\n",
       "      <td>Eucampyvirinae</td>\n",
       "      <td>Cp220virus</td>\n",
       "      <td>Campylobacter virus CP220</td>\n",
       "      <td>1</td>\n",
       "      <td>FN667788</td>\n",
       "      <td>NaN</td>\n",
       "      <td>dsDNA</td>\n",
       "      <td>Renamed,Moved,</td>\n",
       "      <td>30</td>\n",
       "      <td>2015.025aB.A.v4.phagesp_ren</td>\n",
       "      <td>ICTVonline=20150006</td>\n",
       "    </tr>\n",
       "    <tr>\n",
       "      <th>2</th>\n",
       "      <td>Caudovirales</td>\n",
       "      <td>Myoviridae</td>\n",
       "      <td>Eucampyvirinae</td>\n",
       "      <td>Cp220virus</td>\n",
       "      <td>Campylobacter virus CPt10</td>\n",
       "      <td>0</td>\n",
       "      <td>FN667789</td>\n",
       "      <td>NaN</td>\n",
       "      <td>dsDNA</td>\n",
       "      <td>Renamed,Moved,</td>\n",
       "      <td>30</td>\n",
       "      <td>2015.025aB.A.v4.phagesp_ren</td>\n",
       "      <td>ICTVonline=20150007</td>\n",
       "    </tr>\n",
       "    <tr>\n",
       "      <th>3</th>\n",
       "      <td>Caudovirales</td>\n",
       "      <td>Myoviridae</td>\n",
       "      <td>Eucampyvirinae</td>\n",
       "      <td>Cp220virus</td>\n",
       "      <td>Campylobacter virus IBB35</td>\n",
       "      <td>0</td>\n",
       "      <td>HM246720</td>\n",
       "      <td>NaN</td>\n",
       "      <td>dsDNA</td>\n",
       "      <td>Renamed,Moved,</td>\n",
       "      <td>30</td>\n",
       "      <td>2015.025aB.A.v4.phagesp_ren</td>\n",
       "      <td>ICTVonline=20150008</td>\n",
       "    </tr>\n",
       "    <tr>\n",
       "      <th>4</th>\n",
       "      <td>Caudovirales</td>\n",
       "      <td>Myoviridae</td>\n",
       "      <td>Eucampyvirinae</td>\n",
       "      <td>Cp8virus</td>\n",
       "      <td>Campylobacter virus CP81</td>\n",
       "      <td>1</td>\n",
       "      <td>FR823450</td>\n",
       "      <td>NaN</td>\n",
       "      <td>dsDNA</td>\n",
       "      <td>Renamed,Moved,</td>\n",
       "      <td>30</td>\n",
       "      <td>2015.025aB.A.v4.phagesp_ren</td>\n",
       "      <td>ICTVonline=20150010</td>\n",
       "    </tr>\n",
       "    <tr>\n",
       "      <th>...</th>\n",
       "      <td>...</td>\n",
       "      <td>...</td>\n",
       "      <td>...</td>\n",
       "      <td>...</td>\n",
       "      <td>...</td>\n",
       "      <td>...</td>\n",
       "      <td>...</td>\n",
       "      <td>...</td>\n",
       "      <td>...</td>\n",
       "      <td>...</td>\n",
       "      <td>...</td>\n",
       "      <td>...</td>\n",
       "      <td>...</td>\n",
       "    </tr>\n",
       "    <tr>\n",
       "      <th>3699</th>\n",
       "      <td>Unassigned</td>\n",
       "      <td>Virgaviridae</td>\n",
       "      <td>NaN</td>\n",
       "      <td>Tobamovirus</td>\n",
       "      <td>Youcai mosaic virus</td>\n",
       "      <td>0</td>\n",
       "      <td>U30944</td>\n",
       "      <td>OSRMV</td>\n",
       "      <td>ssRNA(+)</td>\n",
       "      <td>Moved,</td>\n",
       "      <td>25</td>\n",
       "      <td>2007.036-8P.Virgaviridae</td>\n",
       "      <td>ICTVonline=20154604</td>\n",
       "    </tr>\n",
       "    <tr>\n",
       "      <th>3700</th>\n",
       "      <td>Unassigned</td>\n",
       "      <td>Virgaviridae</td>\n",
       "      <td>NaN</td>\n",
       "      <td>Tobamovirus</td>\n",
       "      <td>Zucchini green mottle mosaic virus</td>\n",
       "      <td>0</td>\n",
       "      <td>AJ295949</td>\n",
       "      <td>Type strain K</td>\n",
       "      <td>ssRNA(+)</td>\n",
       "      <td>Moved,</td>\n",
       "      <td>25</td>\n",
       "      <td>2007.036-8P.Virgaviridae</td>\n",
       "      <td>ICTVonline=20154605</td>\n",
       "    </tr>\n",
       "    <tr>\n",
       "      <th>3701</th>\n",
       "      <td>Unassigned</td>\n",
       "      <td>Virgaviridae</td>\n",
       "      <td>NaN</td>\n",
       "      <td>Tobravirus</td>\n",
       "      <td>Pea early-browning virus</td>\n",
       "      <td>0</td>\n",
       "      <td>RNA1 X14006, RNA2 X51828</td>\n",
       "      <td>SP5</td>\n",
       "      <td>ssRNA(+)</td>\n",
       "      <td>Moved,</td>\n",
       "      <td>25</td>\n",
       "      <td>2007.036-8P.Virgaviridae</td>\n",
       "      <td>ICTVonline=20154607</td>\n",
       "    </tr>\n",
       "    <tr>\n",
       "      <th>3702</th>\n",
       "      <td>Unassigned</td>\n",
       "      <td>Virgaviridae</td>\n",
       "      <td>NaN</td>\n",
       "      <td>Tobravirus</td>\n",
       "      <td>Pepper ringspot virus</td>\n",
       "      <td>0</td>\n",
       "      <td>RNA1 L23972, RNA2 X03241</td>\n",
       "      <td>CAM</td>\n",
       "      <td>ssRNA(+)</td>\n",
       "      <td>Moved,</td>\n",
       "      <td>25</td>\n",
       "      <td>2007.036-8P.Virgaviridae</td>\n",
       "      <td>ICTVonline=20154608</td>\n",
       "    </tr>\n",
       "    <tr>\n",
       "      <th>3703</th>\n",
       "      <td>Unassigned</td>\n",
       "      <td>Virgaviridae</td>\n",
       "      <td>NaN</td>\n",
       "      <td>Tobravirus</td>\n",
       "      <td>Tobacco rattle virus</td>\n",
       "      <td>1</td>\n",
       "      <td>RNA1 AF166084, RNA2 Z36974</td>\n",
       "      <td>PpK20</td>\n",
       "      <td>ssRNA(+)</td>\n",
       "      <td>Moved,</td>\n",
       "      <td>25</td>\n",
       "      <td>2007.036-8P.Virgaviridae</td>\n",
       "      <td>ICTVonline=20154609</td>\n",
       "    </tr>\n",
       "  </tbody>\n",
       "</table>\n",
       "<p>3704 rows × 13 columns</p>\n",
       "</div>"
      ],
      "text/plain": [
       "             Order        Family       Subfamily        Genus  \\\n",
       "0     Caudovirales    Myoviridae  Eucampyvirinae   Cp220virus   \n",
       "1     Caudovirales    Myoviridae  Eucampyvirinae   Cp220virus   \n",
       "2     Caudovirales    Myoviridae  Eucampyvirinae   Cp220virus   \n",
       "3     Caudovirales    Myoviridae  Eucampyvirinae   Cp220virus   \n",
       "4     Caudovirales    Myoviridae  Eucampyvirinae     Cp8virus   \n",
       "...            ...           ...             ...          ...   \n",
       "3699    Unassigned  Virgaviridae             NaN  Tobamovirus   \n",
       "3700    Unassigned  Virgaviridae             NaN  Tobamovirus   \n",
       "3701    Unassigned  Virgaviridae             NaN   Tobravirus   \n",
       "3702    Unassigned  Virgaviridae             NaN   Tobravirus   \n",
       "3703    Unassigned  Virgaviridae             NaN   Tobravirus   \n",
       "\n",
       "                                 Species  Type Species  \\\n",
       "0               Campylobacter virus CP21             0   \n",
       "1              Campylobacter virus CP220             1   \n",
       "2              Campylobacter virus CPt10             0   \n",
       "3              Campylobacter virus IBB35             0   \n",
       "4               Campylobacter virus CP81             1   \n",
       "...                                  ...           ...   \n",
       "3699                 Youcai mosaic virus             0   \n",
       "3700  Zucchini green mottle mosaic virus             0   \n",
       "3701            Pea early-browning virus             0   \n",
       "3702               Pepper ringspot virus             0   \n",
       "3703                Tobacco rattle virus             1   \n",
       "\n",
       "       Exemplar Accession Number Exemplar Isolate Genome Composition  \\\n",
       "0                       HE815464              NaN              dsDNA   \n",
       "1                       FN667788              NaN              dsDNA   \n",
       "2                       FN667789              NaN              dsDNA   \n",
       "3                       HM246720              NaN              dsDNA   \n",
       "4                       FR823450              NaN              dsDNA   \n",
       "...                          ...              ...                ...   \n",
       "3699                      U30944            OSRMV           ssRNA(+)   \n",
       "3700                    AJ295949    Type strain K           ssRNA(+)   \n",
       "3701    RNA1 X14006, RNA2 X51828              SP5           ssRNA(+)   \n",
       "3702    RNA1 L23972, RNA2 X03241              CAM           ssRNA(+)   \n",
       "3703  RNA1 AF166084, RNA2 Z36974            PpK20           ssRNA(+)   \n",
       "\n",
       "         Last Change  MSL of Last Change                     Proposal  \\\n",
       "0     Renamed,Moved,                  30  2015.025aB.A.v4.phagesp_ren   \n",
       "1     Renamed,Moved,                  30  2015.025aB.A.v4.phagesp_ren   \n",
       "2     Renamed,Moved,                  30  2015.025aB.A.v4.phagesp_ren   \n",
       "3     Renamed,Moved,                  30  2015.025aB.A.v4.phagesp_ren   \n",
       "4     Renamed,Moved,                  30  2015.025aB.A.v4.phagesp_ren   \n",
       "...              ...                 ...                          ...   \n",
       "3699          Moved,                  25     2007.036-8P.Virgaviridae   \n",
       "3700          Moved,                  25     2007.036-8P.Virgaviridae   \n",
       "3701          Moved,                  25     2007.036-8P.Virgaviridae   \n",
       "3702          Moved,                  25     2007.036-8P.Virgaviridae   \n",
       "3703          Moved,                  25     2007.036-8P.Virgaviridae   \n",
       "\n",
       "        Taxon History URL  \n",
       "0     ICTVonline=20150005  \n",
       "1     ICTVonline=20150006  \n",
       "2     ICTVonline=20150007  \n",
       "3     ICTVonline=20150008  \n",
       "4     ICTVonline=20150010  \n",
       "...                   ...  \n",
       "3699  ICTVonline=20154604  \n",
       "3700  ICTVonline=20154605  \n",
       "3701  ICTVonline=20154607  \n",
       "3702  ICTVonline=20154608  \n",
       "3703  ICTVonline=20154609  \n",
       "\n",
       "[3704 rows x 13 columns]"
      ]
     },
     "execution_count": 4,
     "metadata": {},
     "output_type": "execute_result"
    }
   ],
   "source": [
    "import pandas as pd\n",
    "fname = \"../data/ICTV2015.csv\"\n",
    "\n",
    "df = pd.read_csv(fname)\n",
    "df"
   ]
  },
  {
   "cell_type": "markdown",
   "metadata": {},
   "source": [
    "What columns do you see in the data?\n",
    "How many rows are present ?\n",
    "Using a pandas dataframe, output this information:"
   ]
  },
  {
   "cell_type": "code",
   "execution_count": 13,
   "metadata": {},
   "outputs": [
    {
     "name": "stdout",
     "output_type": "stream",
     "text": [
      "<class 'pandas.core.frame.DataFrame'>\n",
      "RangeIndex: 3704 entries, 0 to 3703\n",
      "Data columns (total 13 columns):\n",
      " #   Column                     Non-Null Count  Dtype \n",
      "---  ------                     --------------  ----- \n",
      " 0   Order                      3704 non-null   object\n",
      " 1   Family                     3704 non-null   object\n",
      " 2   Subfamily                  724 non-null    object\n",
      " 3   Genus                      3704 non-null   object\n",
      " 4   Species                    3704 non-null   object\n",
      " 5   Type Species               3704 non-null   int64 \n",
      " 6   Exemplar Accession Number  1749 non-null   object\n",
      " 7   Exemplar Isolate           1474 non-null   object\n",
      " 8   Genome Composition         3704 non-null   object\n",
      " 9   Last Change                3704 non-null   object\n",
      " 10  MSL of Last Change         3704 non-null   int64 \n",
      " 11  Proposal                   3704 non-null   object\n",
      " 12  Taxon History URL          3704 non-null   object\n",
      "dtypes: int64(2), object(11)\n",
      "memory usage: 376.3+ KB\n"
     ]
    }
   ],
   "source": [
    "df.info()"
   ]
  },
  {
   "cell_type": "markdown",
   "metadata": {},
   "source": [
    "Can you plot the distribution MSL of last change ?"
   ]
  },
  {
   "cell_type": "code",
   "execution_count": 16,
   "metadata": {},
   "outputs": [
    {
     "data": {
      "image/png": "[encoded data removed]",
      "text/plain": [
       "<Figure size 640x480 with 1 Axes>"
      ]
     },
     "metadata": {},
     "output_type": "display_data"
    }
   ],
   "source": [
    "import matplotlib.pyplot as plt\n",
    "df[\"MSL of Last Change\"].plot(kind=\"density\")\n",
    "plt.show()"
   ]
  },
  {
   "cell_type": "markdown",
   "metadata": {},
   "source": [
    "Let's now look at `PDB_data.csv`, containing the number of solved structure by macromolecular type and experimental method: https://www.rcsb.org/stats"
   ]
  },
  {
   "cell_type": "code",
   "execution_count": 250,
   "metadata": {},
   "outputs": [
    {
     "data": {
      "text/html": [
       "<div>\n",
       "<style scoped>\n",
       "    .dataframe tbody tr th:only-of-type {\n",
       "        vertical-align: middle;\n",
       "    }\n",
       "\n",
       "    .dataframe tbody tr th {\n",
       "        vertical-align: top;\n",
       "    }\n",
       "\n",
       "    .dataframe thead th {\n",
       "        text-align: right;\n",
       "    }\n",
       "</style>\n",
       "<table border=\"1\" class=\"dataframe\">\n",
       "  <thead>\n",
       "    <tr style=\"text-align: right;\">\n",
       "      <th></th>\n",
       "      <th>Molecular Type</th>\n",
       "      <th>X-ray</th>\n",
       "      <th>NMR</th>\n",
       "      <th>EM</th>\n",
       "      <th>Multiple methods</th>\n",
       "      <th>Neutron</th>\n",
       "      <th>Other</th>\n",
       "      <th>Total</th>\n",
       "    </tr>\n",
       "  </thead>\n",
       "  <tbody>\n",
       "    <tr>\n",
       "      <th>0</th>\n",
       "      <td>Protein (only)</td>\n",
       "      <td>151210</td>\n",
       "      <td>12068</td>\n",
       "      <td>8791</td>\n",
       "      <td>189</td>\n",
       "      <td>72</td>\n",
       "      <td>32</td>\n",
       "      <td>172362</td>\n",
       "    </tr>\n",
       "    <tr>\n",
       "      <th>1</th>\n",
       "      <td>Protein/Oligosaccharide</td>\n",
       "      <td>8896</td>\n",
       "      <td>32</td>\n",
       "      <td>1575</td>\n",
       "      <td>6</td>\n",
       "      <td>0</td>\n",
       "      <td>0</td>\n",
       "      <td>10509</td>\n",
       "    </tr>\n",
       "    <tr>\n",
       "      <th>2</th>\n",
       "      <td>Protein/NA</td>\n",
       "      <td>7974</td>\n",
       "      <td>280</td>\n",
       "      <td>2774</td>\n",
       "      <td>6</td>\n",
       "      <td>0</td>\n",
       "      <td>0</td>\n",
       "      <td>11034</td>\n",
       "    </tr>\n",
       "    <tr>\n",
       "      <th>3</th>\n",
       "      <td>Nucleic acid (only)</td>\n",
       "      <td>2524</td>\n",
       "      <td>1431</td>\n",
       "      <td>74</td>\n",
       "      <td>13</td>\n",
       "      <td>2</td>\n",
       "      <td>1</td>\n",
       "      <td>4045</td>\n",
       "    </tr>\n",
       "    <tr>\n",
       "      <th>4</th>\n",
       "      <td>Other</td>\n",
       "      <td>154</td>\n",
       "      <td>31</td>\n",
       "      <td>8</td>\n",
       "      <td>0</td>\n",
       "      <td>0</td>\n",
       "      <td>0</td>\n",
       "      <td>193</td>\n",
       "    </tr>\n",
       "    <tr>\n",
       "      <th>5</th>\n",
       "      <td>Oligosaccharide (only)</td>\n",
       "      <td>11</td>\n",
       "      <td>6</td>\n",
       "      <td>0</td>\n",
       "      <td>1</td>\n",
       "      <td>0</td>\n",
       "      <td>4</td>\n",
       "      <td>22</td>\n",
       "    </tr>\n",
       "  </tbody>\n",
       "</table>\n",
       "</div>"
      ],
      "text/plain": [
       "            Molecular Type   X-ray    NMR    EM  Multiple methods  Neutron  \\\n",
       "0           Protein (only)  151210  12068  8791               189       72   \n",
       "1  Protein/Oligosaccharide    8896     32  1575                 6        0   \n",
       "2               Protein/NA    7974    280  2774                 6        0   \n",
       "3      Nucleic acid (only)    2524   1431    74                13        2   \n",
       "4                    Other     154     31     8                 0        0   \n",
       "5   Oligosaccharide (only)      11      6     0                 1        0   \n",
       "\n",
       "   Other   Total  \n",
       "0     32  172362  \n",
       "1      0   10509  \n",
       "2      0   11034  \n",
       "3      1    4045  \n",
       "4      0     193  \n",
       "5      4      22  "
      ]
     },
     "execution_count": 250,
     "metadata": {},
     "output_type": "execute_result"
    }
   ],
   "source": [
    "fname = \"../data/PDB_data.csv\"\n",
    "df = pd.read_csv(fname, thousands=',')\n",
    "df"
   ]
  },
  {
   "cell_type": "markdown",
   "metadata": {},
   "source": [
    "Can you compute the total number of deposited structures for each method?"
   ]
  },
  {
   "cell_type": "code",
   "execution_count": 270,
   "metadata": {},
   "outputs": [
    {
     "data": {
      "text/html": [
       "<div>\n",
       "<style scoped>\n",
       "    .dataframe tbody tr th:only-of-type {\n",
       "        vertical-align: middle;\n",
       "    }\n",
       "\n",
       "    .dataframe tbody tr th {\n",
       "        vertical-align: top;\n",
       "    }\n",
       "\n",
       "    .dataframe thead th {\n",
       "        text-align: right;\n",
       "    }\n",
       "</style>\n",
       "<table border=\"1\" class=\"dataframe\">\n",
       "  <thead>\n",
       "    <tr style=\"text-align: right;\">\n",
       "      <th>Molecular Type</th>\n",
       "      <th>Protein (only)</th>\n",
       "      <th>Protein/Oligosaccharide</th>\n",
       "      <th>Protein/NA</th>\n",
       "      <th>Nucleic acid (only)</th>\n",
       "      <th>Other</th>\n",
       "      <th>Oligosaccharide (only)</th>\n",
       "      <th>Method total</th>\n",
       "    </tr>\n",
       "  </thead>\n",
       "  <tbody>\n",
       "    <tr>\n",
       "      <th>X-ray</th>\n",
       "      <td>151210</td>\n",
       "      <td>8896</td>\n",
       "      <td>7974</td>\n",
       "      <td>2524</td>\n",
       "      <td>154</td>\n",
       "      <td>11</td>\n",
       "      <td>170769</td>\n",
       "    </tr>\n",
       "    <tr>\n",
       "      <th>NMR</th>\n",
       "      <td>12068</td>\n",
       "      <td>32</td>\n",
       "      <td>280</td>\n",
       "      <td>1431</td>\n",
       "      <td>31</td>\n",
       "      <td>6</td>\n",
       "      <td>13848</td>\n",
       "    </tr>\n",
       "    <tr>\n",
       "      <th>EM</th>\n",
       "      <td>8791</td>\n",
       "      <td>1575</td>\n",
       "      <td>2774</td>\n",
       "      <td>74</td>\n",
       "      <td>8</td>\n",
       "      <td>0</td>\n",
       "      <td>13222</td>\n",
       "    </tr>\n",
       "    <tr>\n",
       "      <th>Multiple methods</th>\n",
       "      <td>189</td>\n",
       "      <td>6</td>\n",
       "      <td>6</td>\n",
       "      <td>13</td>\n",
       "      <td>0</td>\n",
       "      <td>1</td>\n",
       "      <td>215</td>\n",
       "    </tr>\n",
       "    <tr>\n",
       "      <th>Neutron</th>\n",
       "      <td>72</td>\n",
       "      <td>0</td>\n",
       "      <td>0</td>\n",
       "      <td>2</td>\n",
       "      <td>0</td>\n",
       "      <td>0</td>\n",
       "      <td>74</td>\n",
       "    </tr>\n",
       "    <tr>\n",
       "      <th>Other</th>\n",
       "      <td>32</td>\n",
       "      <td>0</td>\n",
       "      <td>0</td>\n",
       "      <td>1</td>\n",
       "      <td>0</td>\n",
       "      <td>4</td>\n",
       "      <td>37</td>\n",
       "    </tr>\n",
       "    <tr>\n",
       "      <th>Total</th>\n",
       "      <td>172362</td>\n",
       "      <td>10509</td>\n",
       "      <td>11034</td>\n",
       "      <td>4045</td>\n",
       "      <td>193</td>\n",
       "      <td>22</td>\n",
       "      <td>198165</td>\n",
       "    </tr>\n",
       "  </tbody>\n",
       "</table>\n",
       "</div>"
      ],
      "text/plain": [
       "Molecular Type   Protein (only) Protein/Oligosaccharide Protein/NA  \\\n",
       "X-ray                    151210                    8896       7974   \n",
       "NMR                       12068                      32        280   \n",
       "EM                         8791                    1575       2774   \n",
       "Multiple methods            189                       6          6   \n",
       "Neutron                      72                       0          0   \n",
       "Other                        32                       0          0   \n",
       "Total                    172362                   10509      11034   \n",
       "\n",
       "Molecular Type   Nucleic acid (only) Other Oligosaccharide (only)  \\\n",
       "X-ray                           2524   154                     11   \n",
       "NMR                             1431    31                      6   \n",
       "EM                                74     8                      0   \n",
       "Multiple methods                  13     0                      1   \n",
       "Neutron                            2     0                      0   \n",
       "Other                              1     0                      4   \n",
       "Total                           4045   193                     22   \n",
       "\n",
       "Molecular Type    Method total  \n",
       "X-ray                   170769  \n",
       "NMR                      13848  \n",
       "EM                       13222  \n",
       "Multiple methods           215  \n",
       "Neutron                     74  \n",
       "Other                       37  \n",
       "Total                   198165  "
      ]
     },
     "execution_count": 270,
     "metadata": {},
     "output_type": "execute_result"
    }
   ],
   "source": [
    "# transposes so each row is a unique method, sets data to integer format (transposing makes all cols 'objects')\n",
    "df2 = df.T.iloc[1:]\n",
    "df2.loc[:, 0:5] = df2.loc[:, 0:5].astype(int)\n",
    "\n",
    "# saves Molecular type as the column headers\n",
    "types = df[\"Molecular Type\"]\n",
    "df2.columns = types\n",
    "\n",
    "# creates a sum total column for each method and \n",
    "for i in df2.index:\n",
    "    df2.loc[i, \"Method total\"] = sum(df2.loc[i, \"Protein (only)\":\"Oligosaccharide (only)\"])\n",
    "\n",
    "df2[\"Method total\"] = df2[\"Method total\"].astype(int)\n",
    "df2"
   ]
  },
  {
   "cell_type": "markdown",
   "metadata": {},
   "source": [
    "What is the total number of deposited structures?"
   ]
  },
  {
   "cell_type": "code",
   "execution_count": 271,
   "metadata": {},
   "outputs": [
    {
     "name": "stdout",
     "output_type": "stream",
     "text": [
      "Total number of structures desposited: 198165\n"
     ]
    }
   ],
   "source": [
    "print (\"Total number of structures desposited:\", df2.loc[\"Total\", \"Method total\"])"
   ]
  },
  {
   "cell_type": "markdown",
   "metadata": {},
   "source": [
    "Now let's look at the growth in structures per year and per method, as listed in `PDB_growth.csv`:"
   ]
  },
  {
   "cell_type": "code",
   "execution_count": 407,
   "metadata": {},
   "outputs": [
    {
     "name": "stdout",
     "output_type": "stream",
     "text": [
      "<class 'pandas.core.frame.DataFrame'>\n",
      "RangeIndex: 47 entries, 0 to 46\n",
      "Data columns (total 5 columns):\n",
      " #   Column            Non-Null Count  Dtype  \n",
      "---  ------            --------------  -----  \n",
      " 0   Year              47 non-null     int64  \n",
      " 1   X-Ray             47 non-null     int64  \n",
      " 2   NMR               47 non-null     float64\n",
      " 3   EM                47 non-null     float64\n",
      " 4   Multiple Methods  47 non-null     float64\n",
      "dtypes: float64(3), int64(2)\n",
      "memory usage: 2.0 KB\n"
     ]
    }
   ],
   "source": [
    "fname = \"../data/PDB_growth.csv\"\n",
    "df = pd.read_csv(fname, thousands=',')\n",
    "df.fillna(0, inplace=True)\n",
    "df.info()"
   ]
  },
  {
   "cell_type": "markdown",
   "metadata": {},
   "source": [
    "Can you plot the number of structures deposited per year, for each method? (N.B.: just experimental method, not molecular type, since `PDB_growth.csv` does not contain that information)"
   ]
  },
  {
   "cell_type": "code",
   "execution_count": 316,
   "metadata": {},
   "outputs": [
    {
     "data": {
      "image/png": "[encoded data removed]",
      "text/plain": [
       "<Figure size 640x480 with 1 Axes>"
      ]
     },
     "metadata": {},
     "output_type": "display_data"
    }
   ],
   "source": [
    "fig, axes = plt.subplots(sharex=True, sharey=True)\n",
    "\n",
    "axes.plot(df[\"Year\"], df[\"X-Ray\"])\n",
    "axes.plot(df[\"Year\"], df[\"NMR\"])\n",
    "axes.plot(df[\"Year\"], df[\"EM\"])\n",
    "axes.plot(df[\"Year\"], df[\"Multiple Methods\"])\n",
    "axes.legend((\"X-Ray\", \"NMR\", \"EM\", \"Multiple Methods\"))\n",
    "axes.set_xlabel(\"Year of deposit\")\n",
    "axes.set_ylabel(\"Number of structures desposited\")\n",
    "axes.grid()\n",
    "plt.show()"
   ]
  },
  {
   "cell_type": "markdown",
   "metadata": {},
   "source": [
    "Can you plot the number of structures deposited per year, for each method, but only up to year 2012?"
   ]
  },
  {
   "cell_type": "code",
   "execution_count": 317,
   "metadata": {},
   "outputs": [
    {
     "data": {
      "image/png": "[encoded data removed]",
      "text/plain": [
       "<Figure size 640x480 with 1 Axes>"
      ]
     },
     "metadata": {},
     "output_type": "display_data"
    }
   ],
   "source": [
    "df2 = df[1:]\n",
    "for i in df2.loc[:, \"Year\"]:\n",
    "    if i > 2012:\n",
    "        df2 = df2[1:]\n",
    "    else:\n",
    "        break\n",
    "\n",
    "fig, axes = plt.subplots(sharex=True, sharey=True)\n",
    "\n",
    "axes.plot(df2[\"Year\"], df2[\"X-Ray\"])\n",
    "axes.plot(df2[\"Year\"], df2[\"NMR\"])\n",
    "axes.plot(df2[\"Year\"], df2[\"EM\"])\n",
    "axes.plot(df2[\"Year\"], df2[\"Multiple Methods\"])\n",
    "axes.legend((\"X-Ray\", \"NMR\", \"EM\", \"Multiple Methods\"))\n",
    "axes.set_xlabel(\"Year of deposit\")\n",
    "axes.set_ylabel(\"Number of structures desposited\")\n",
    "axes.grid()\n",
    "plt.show()"
   ]
  },
  {
   "cell_type": "markdown",
   "metadata": {},
   "source": [
    "What method has had the greatest *increase* in deposited models over the last 10 years ? The previous 10 years ?"
   ]
  },
  {
   "cell_type": "code",
   "execution_count": 403,
   "metadata": {},
   "outputs": [],
   "source": [
    "def increase_calc(df: pd.DataFrame, decade_start: int) -> str:\n",
    "    \"\"\"\n",
    "    Returns the method which had the greatest increase in models deposited in the decade since the specified year.\n",
    "    \"\"\"\n",
    "    # identifies the decade end year and filters dataframe to contain only years in that decade\n",
    "    try:\n",
    "        decade_end = decade_start + 10\n",
    "    except:\n",
    "        raise ValueError (\"Please enter a valid year\")\n",
    "    else:\n",
    "        df = df[(df[\"Year\"] >= decade_start) & (df[\"Year\"] <= decade_end)]\n",
    "\n",
    "    # save the difference in models deposited as dictionary (keys = method, values = increase)\n",
    "    methods = {}\n",
    "    methods[\"X_Ray\"]    = df.iloc[0, 1] - df.iloc[10, 1]\n",
    "    methods[\"NMR\"]      = df.iloc[0, 2] - df.iloc[10, 2]\n",
    "    methods[\"EM\"]       = df.iloc[0, 3] - df.iloc[10, 3]\n",
    "    methods[\"Multiple\"] = df.iloc[0, 4] - df.iloc[10, 4]\n",
    "    \n",
    "    return f\"Greatest Increase in deposits for {decade_start} to {decade_end}\", max(methods, key = methods.get)"
   ]
  },
  {
   "cell_type": "code",
   "execution_count": 409,
   "metadata": {},
   "outputs": [
    {
     "data": {
      "text/plain": [
       "('Greatest Increase in deposits for 2012 to 2022', 'EM')"
      ]
     },
     "execution_count": 409,
     "metadata": {},
     "output_type": "execute_result"
    }
   ],
   "source": [
    "increase_calc(df, 2012)"
   ]
  },
  {
   "cell_type": "code",
   "execution_count": 406,
   "metadata": {},
   "outputs": [
    {
     "data": {
      "text/plain": [
       "('Greatest Increase in deposits for 2002 to 2012', 'X_Ray')"
      ]
     },
     "execution_count": 406,
     "metadata": {},
     "output_type": "execute_result"
    }
   ],
   "source": [
    "increase_calc(df, 2002)"
   ]
  }
 ],
 "metadata": {
  "kernelspec": {
   "display_name": "Python(Python 3)",
   "language": "python",
   "name": "python3"
  },
  "language_info": {
   "codemirror_mode": {
    "name": "ipython",
    "version": 3
   },
   "file_extension": ".py",
   "mimetype": "text/x-python",
   "name": "python",
   "nbconvert_exporter": "python",
   "pygments_lexer": "ipython3",
   "version": "3.8.5"
  }
 },
 "nbformat": 4,
 "nbformat_minor": 4
}
