{
 "cells": [
  {
   "cell_type": "markdown",
   "metadata": {},
   "source": [
    "# Linux commands with bash\n",
    "\n",
    "**Note:** I would encourage you to try out at least some of these commands at the Linux command line using a Juypter terminal. There are instructions for accessing the terminal at the end of the video/ slides associated with this Notebook. The only thing to ensure is that you are in an appropriate subdirectory (that, in itself, is good practice!)."
   ]
  },
  {
   "cell_type": "markdown",
   "metadata": {},
   "source": [
    "## Moving and listing\n",
    "Our first 3 Linux commands are `pwd` (print working directory), `cd` (change directory) and `ls` (list directory contents), as well as `echo`, which we are familiar with: "
   ]
  },
  {
   "cell_type": "code",
   "execution_count": 1,
   "metadata": {},
   "outputs": [
    {
     "name": "stdout",
     "output_type": "stream",
     "text": [
      "current directory:\n",
      "/d/user6/as004/biocomp-spring_2023/session11\n",
      "\n",
      "home directory:\n",
      "/d/user6/as004\n",
      "\n",
      "data directory:\n",
      "/d/user6/as004/biocomp1-2022/data\n",
      "\n",
      "Contents of data directory:\n",
      "12e8.h\n",
      "1CS4.npz\n",
      "A0A0G2RR03.fasta\n",
      "A0A0G2RZ64.fasta\n",
      "aa_types.txt\n",
      "add.txt\n",
      "AF316817.gb\n",
      "atoms.txt\n",
      "bacteria.txt\n",
      "bubbles.txt\n",
      "chain_ids.txt\n",
      "chain_ids_with_errors.txt\n",
      "clever_birds.txt\n",
      "codons.txt\n",
      "common_scientific.txt\n",
      "common.txt\n",
      "corvids.txt\n",
      "dna_adj.csv\n",
      "dna.txt\n",
      "emdb.db\n",
      "FA8_HUMAN.fasta\n",
      "filenames.txt\n",
      "garden_birds.txt\n",
      "genes.gb\n",
      "hAPP.clustal\n",
      "hAPP.phylip\n",
      "HLA-B1542.txt\n",
      "HLA-B1550.txt\n",
      "ICTV2015.csv\n",
      "integers.txt\n",
      "multi_seqs.txt\n",
      "names1.txt\n",
      "names2.txt\n",
      "names3.txt\n",
      "names4.txt\n",
      "number_rows.txt\n",
      "numbers.txt\n",
      "numbers_with_errors.txt\n",
      "P00451_1.gb\n",
      "P03437.fasta\n",
      "pdb3vun.ent\n",
      "pdb_chains2.txt\n",
      "pdb_chains.txt\n",
      "pdb_counts.txt\n",
      "PDB_data.csv\n",
      "PDB_growth.csv\n",
      "pdb_species2.txt\n",
      "pdb_species.txt\n",
      "penguinpox.fasta\n",
      "plot_data.txt\n",
      "s1.txt\n",
      "sample1.txt\n",
      "sample2.txt\n",
      "seq1.txt\n",
      "seq2.txt\n",
      "seq_3code.txt\n",
      "seq_long.txt\n",
      "seq_n.txt\n",
      "seq_ss_n2.txt\n",
      "seq_ss_n.txt\n",
      "seq_ss.txt\n",
      "seqs_with_ids.txt\n",
      "species1.txt\n",
      "species2.txt\n",
      "sub.txt\n",
      "taxonomy.txt\n",
      "words1.txt\n",
      "words2.txt\n",
      "words3.txt\n",
      "WormNet.v3.benchmark.txt\n"
     ]
    }
   ],
   "source": [
    "%%bash\n",
    "echo 'current directory:'\n",
    "pwd\n",
    "echo\n",
    "echo 'home directory:'\n",
    "cd\n",
    "pwd\n",
    "echo\n",
    "echo 'data directory:'\n",
    "cd biocomp1-2022/data/\n",
    "pwd\n",
    "echo\n",
    "echo 'Contents of data directory:'\n",
    "ls"
   ]
  },
  {
   "cell_type": "markdown",
   "metadata": {},
   "source": [
    "Next, `ls` is invoked with different parameters:\n",
    "- `ls -aC` (list all [`a`] entries in columns [`C`]) \n",
    "- `ls -ltr` (long listing [`l`] sorted by modification time [`t`] reversed [`r`] &mdash; hence most recent last)\n",
    "- `ls -lShrF` (long listing [`l`] sorted by size [`S`] human readable [`h`] and reversed [`r`] with formatting [`F`])\n",
    "\n",
    "The `-a` flag is only worth using if you are intested in files that start with a dot, as these are usually hidden (certain system configuration files such as `.cshrc` are like that). The `-h` flag is useful if you have big files in the directory you are listing. For example, `7111680` (bytes) becomes `6.8M` (megabytes)."
   ]
  },
  {
   "cell_type": "code",
   "execution_count": 2,
   "metadata": {},
   "outputs": [
    {
     "name": "stdout",
     "output_type": "stream",
     "text": [
      "ls -aC:\n",
      ".\t\t\t   genes.gb\t\t    pdb_species2.txt\n",
      "..\t\t\t   hAPP.clustal\t\t    pdb_species.txt\n",
      "12e8.h\t\t\t   hAPP.phylip\t\t    penguinpox.fasta\n",
      "1CS4.npz\t\t   HLA-B1542.txt\t    plot_data.txt\n",
      "A0A0G2RR03.fasta\t   HLA-B1550.txt\t    Q8WZ42.fasta\n",
      "A0A0G2RZ64.fasta\t   ICTV2015.csv\t\t    s1.txt\n",
      "aa_types.txt\t\t   integers.txt\t\t    sample1.txt\n",
      "add.txt\t\t\t   .ipynb_checkpoints\t    sample2.txt\n",
      "AF316817.gb\t\t   multi_seqs.txt\t    seq1.txt\n",
      "atoms.txt\t\t   names1.txt\t\t    seq2.txt\n",
      "bacteria.txt\t\t   names2.txt\t\t    seq_3code.txt\n",
      "bubbles.txt\t\t   names3.txt\t\t    seq_long.txt\n",
      "chain_ids.txt\t\t   names4.txt\t\t    seq_n.txt\n",
      "chain_ids_with_errors.txt  number_rows.txt\t    seq_ss_n2.txt\n",
      "clever_birds.txt\t   numbers.txt\t\t    seq_ss_n.txt\n",
      "codons.txt\t\t   numbers_with_errors.txt  seq_ss.txt\n",
      "common_scientific.txt\t   P00451_1.gb\t\t    seqs_with_ids.txt\n",
      "common.txt\t\t   P03437.fasta\t\t    species1.txt\n",
      "corvids.txt\t\t   P42858.fasta\t\t    species2.txt\n",
      "dna_adj.csv\t\t   pdb3vun.ent\t\t    sub.txt\n",
      "dna.txt\t\t\t   pdb_chains2.txt\t    taxonomy.txt\n",
      "emdb.db\t\t\t   pdb_chains.txt\t    words1.txt\n",
      "FA8_HUMAN.fasta\t\t   pdb_counts.txt\t    words2.txt\n",
      "filenames.txt\t\t   PDB_data.csv\t\t    words3.txt\n",
      "garden_birds.txt\t   PDB_growth.csv\t    WormNet.v3.benchmark.txt\n",
      "\n",
      "ls -ltr *.fasta:\n",
      "-rw-r--r-- 1 as004 msbinf22 34993 Feb 21 18:55 Q8WZ42.fasta\n",
      "-rw-r--r-- 1 as004 msbinf22 95699 Feb 21 18:55 penguinpox.fasta\n",
      "-rw-r--r-- 1 as004 msbinf22  3267 Feb 21 18:55 P42858.fasta\n",
      "-rw-r--r-- 1 as004 msbinf22   677 Feb 21 18:55 P03437.fasta\n",
      "-rw-r--r-- 1 as004 msbinf22  2467 Feb 21 18:55 FA8_HUMAN.fasta\n",
      "-rw-r--r-- 1 as004 msbinf22   706 Feb 21 18:55 A0A0G2RZ64.fasta\n",
      "-rw-r--r-- 1 as004 msbinf22   510 Feb 21 18:55 A0A0G2RR03.fasta\n",
      "\n",
      "ls -lShrF:\n",
      "total 5.5M\n",
      "-rw-r--r-- 1 as004 msbinf22   19 Feb 21 18:55 sub.txt\n",
      "-rw-r--r-- 1 as004 msbinf22   31 Feb 21 18:55 add.txt\n",
      "-rw-r--r-- 1 as004 msbinf22   42 Feb 21 18:55 HLA-B1550.txt\n",
      "-rw-r--r-- 1 as004 msbinf22   44 Feb 21 18:55 words1.txt\n",
      "-rw-r--r-- 1 as004 msbinf22   48 Feb 21 18:55 HLA-B1542.txt\n",
      "-rw-r--r-- 1 as004 msbinf22   49 Feb 21 18:55 words3.txt\n",
      "-rw-r--r-- 1 as004 msbinf22   50 Feb 21 18:55 words2.txt\n",
      "-rw-r--r-- 1 as004 msbinf22   61 Feb 21 18:55 clever_birds.txt\n",
      "-rw-r--r-- 1 as004 msbinf22   62 Feb 21 18:55 integers.txt\n",
      "-rw-r--r-- 1 as004 msbinf22   76 Feb 21 18:55 filenames.txt\n",
      "-rw-r--r-- 1 as004 msbinf22   80 Feb 21 18:55 garden_birds.txt\n",
      "-rw-r--r-- 1 as004 msbinf22   81 Feb 21 18:55 corvids.txt\n",
      "-rw-r--r-- 1 as004 msbinf22   97 Feb 21 18:55 numbers_with_errors.txt\n",
      "-rw-r--r-- 1 as004 msbinf22  119 Feb 21 18:55 number_rows.txt\n",
      "-rw-r--r-- 1 as004 msbinf22  119 Feb 21 18:55 names1.txt\n",
      "-rw-r--r-- 1 as004 msbinf22  120 Feb 21 18:55 aa_types.txt\n",
      "-rw-r--r-- 1 as004 msbinf22  141 Feb 21 18:55 numbers.txt\n",
      "-rw-r--r-- 1 as004 msbinf22  163 Feb 21 18:55 names2.txt\n",
      "-rw-r--r-- 1 as004 msbinf22  178 Feb 21 18:55 seq2.txt\n",
      "-rw-r--r-- 1 as004 msbinf22  182 Feb 21 18:55 seq1.txt\n",
      "-rw-r--r-- 1 as004 msbinf22  187 Feb 21 18:55 pdb_counts.txt\n",
      "-rw-r--r-- 1 as004 msbinf22  192 Feb 21 18:55 names4.txt\n",
      "-rw-r--r-- 1 as004 msbinf22  208 Feb 21 18:55 names3.txt\n",
      "-rw-r--r-- 1 as004 msbinf22  252 Feb 21 18:55 bubbles.txt\n",
      "-rw-r--r-- 1 as004 msbinf22  255 Feb 21 18:55 common.txt\n",
      "-rw-r--r-- 1 as004 msbinf22  278 Feb 21 18:55 seq_n.txt\n",
      "-rw-r--r-- 1 as004 msbinf22  284 Feb 21 18:55 pdb_species.txt\n",
      "-rw-r--r-- 1 as004 msbinf22  332 Feb 21 18:55 pdb_species2.txt\n",
      "-rw-r--r-- 1 as004 msbinf22  333 Feb 21 18:55 codons.txt\n",
      "-rw-r--r-- 1 as004 msbinf22  364 Feb 21 18:55 seq_3code.txt\n",
      "-rw-r--r-- 1 as004 msbinf22  383 Feb 21 18:55 sample1.txt\n",
      "-rw-r--r-- 1 as004 msbinf22  386 Feb 21 18:55 sample2.txt\n",
      "-rw-r--r-- 1 as004 msbinf22  434 Feb 21 18:55 PDB_data.csv\n",
      "-rw-r--r-- 1 as004 msbinf22  508 Feb 21 18:55 seq_ss.txt\n",
      "-rw-r--r-- 1 as004 msbinf22  510 Feb 21 18:55 A0A0G2RR03.fasta\n",
      "-rw-r--r-- 1 as004 msbinf22  557 Feb 21 18:55 seq_ss_n.txt\n",
      "-rw-r--r-- 1 as004 msbinf22  567 Feb 21 18:55 seq_ss_n2.txt\n",
      "-rw-r--r-- 1 as004 msbinf22  677 Feb 21 18:55 P03437.fasta\n",
      "-rw-r--r-- 1 as004 msbinf22  681 Feb 21 18:55 atoms.txt\n",
      "-rw-r--r-- 1 as004 msbinf22  684 Feb 21 18:55 chain_ids.txt\n",
      "-rw-r--r-- 1 as004 msbinf22  706 Feb 21 18:55 A0A0G2RZ64.fasta\n",
      "-rw-r--r-- 1 as004 msbinf22  894 Feb 21 18:55 chain_ids_with_errors.txt\n",
      "-rw-r--r-- 1 as004 msbinf22 1.3K Feb 21 18:55 PDB_growth.csv\n",
      "-rw-r--r-- 1 as004 msbinf22 1.6K Feb 21 18:55 bacteria.txt\n",
      "-rw-r--r-- 1 as004 msbinf22 2.1K Feb 21 18:55 dna.txt\n",
      "-rw-r--r-- 1 as004 msbinf22 2.3K Feb 21 18:55 multi_seqs.txt\n",
      "-rw-r--r-- 1 as004 msbinf22 2.4K Feb 21 18:55 s1.txt\n",
      "-rw-r--r-- 1 as004 msbinf22 2.5K Feb 21 18:55 FA8_HUMAN.fasta\n",
      "-rw-r--r-- 1 as004 msbinf22 2.5K Feb 21 18:55 common_scientific.txt\n",
      "-rw-r--r-- 1 as004 msbinf22 2.7K Feb 21 18:55 seqs_with_ids.txt\n",
      "-rw-r--r-- 1 as004 msbinf22 3.2K Feb 21 18:55 P42858.fasta\n",
      "-rw-r--r-- 1 as004 msbinf22 3.7K Feb 21 18:55 AF316817.gb\n",
      "-rw-r--r-- 1 as004 msbinf22 3.7K Feb 21 18:55 seq_long.txt\n",
      "-rw-r--r-- 1 as004 msbinf22 4.5K Feb 21 18:55 pdb_chains2.txt\n",
      "-rw-r--r-- 1 as004 msbinf22 4.7K Feb 21 18:55 species1.txt\n",
      "-rw-r--r-- 1 as004 msbinf22 4.9K Feb 21 18:55 species2.txt\n",
      "-rw-r--r-- 1 as004 msbinf22 5.0K Feb 21 18:55 taxonomy.txt\n",
      "-rw-r--r-- 1 as004 msbinf22 5.4K Feb 21 18:55 plot_data.txt\n",
      "-rw-r--r-- 1 as004 msbinf22  12K Feb 21 18:55 hAPP.phylip\n",
      "-rw-r--r-- 1 as004 msbinf22  12K Feb 21 18:55 pdb_chains.txt\n",
      "-rw-r--r-- 1 as004 msbinf22  13K Feb 21 18:55 hAPP.clustal\n",
      "-rw-r--r-- 1 as004 msbinf22  17K Feb 21 18:55 dna_adj.csv\n",
      "-rw-r--r-- 1 as004 msbinf22  28K Feb 21 18:55 12e8.h\n",
      "-rw-r--r-- 1 as004 msbinf22  35K Feb 21 18:55 Q8WZ42.fasta\n",
      "-rw-r--r-- 1 as004 msbinf22  46K Feb 21 18:55 1CS4.npz\n",
      "-rw-r--r-- 1 as004 msbinf22  94K Feb 21 18:55 penguinpox.fasta\n",
      "-rw-r--r-- 1 as004 msbinf22 108K Feb 21 18:55 genes.gb\n",
      "-rw-r--r-- 1 as004 msbinf22 292K Feb 21 18:55 P00451_1.gb\n",
      "-rw-r--r-- 1 as004 msbinf22 570K Feb 21 18:55 ICTV2015.csv\n",
      "-rw-r--r-- 1 as004 msbinf22 752K Feb 21 18:55 emdb.db\n",
      "-rw-r--r-- 1 as004 msbinf22 1.3M Feb 21 18:55 WormNet.v3.benchmark.txt\n",
      "-rw-r--r-- 1 as004 msbinf22 2.0M Feb 21 18:55 pdb3vun.ent\n"
     ]
    }
   ],
   "source": [
    "%%bash\n",
    "cd ../data/\n",
    "echo 'ls -aC:'\n",
    "ls -aC\n",
    "echo\n",
    "echo 'ls -ltr *.fasta:'\n",
    "ls -ltr *.fasta\n",
    "echo\n",
    "echo 'ls -lShrF:'\n",
    "ls -lShrF"
   ]
  },
  {
   "cell_type": "markdown",
   "metadata": {},
   "source": [
    "## Working with files\n",
    "\n",
    "There are 2 files in the `data` directory called `sample1.txt` and `sample2.txt`. Both contain **different versions** of the *Lorem Ipsum* dummy text (the standard dummy text of the printing and typesetting industry since the 1500s!). Here `diff` is used to print out the differences. The `|| true` is a way of ensuring that a zero is returned; without it, `diff` returns a non-zero status (because the files are different), and Jupyter doesn't like this, so flags a `CalledProcessError`."
   ]
  },
  {
   "cell_type": "code",
   "execution_count": 3,
   "metadata": {},
   "outputs": [
    {
     "name": "stdout",
     "output_type": "stream",
     "text": [
      "/d/user6/as004/biocomp-spring_2023/session11\n",
      "2c2\n",
      "< sed do eiusmod tempor incididunt ut labor et dolore magna aliqua. \n",
      "---\n",
      "> sed do eiusmod tempor incididunt ut labore et dolore magna aliqua. \n",
      "3a4\n",
      "> nisi ut aliquip ex ea commodo consequat. Duis aute irure dolor in \n",
      "5d5\n",
      "< nulla pariatur. Excepteur sint occaecat cupidatat non proident, \n"
     ]
    }
   ],
   "source": [
    "%%bash\n",
    "pwd\n",
    "cd ../data\n",
    "diff sample1.txt sample2.txt || true"
   ]
  },
  {
   "cell_type": "markdown",
   "metadata": {},
   "source": [
    "The following command uses `grep` to find **all occurences of the string \"flu\"** (both upper- and lowercase) in files within the `data` subdirectory. To see the same output with syntax highlighting, copy and paste the command into a Jupyter terminal."
   ]
  },
  {
   "cell_type": "code",
   "execution_count": 4,
   "metadata": {},
   "outputs": [
    {
     "name": "stdout",
     "output_type": "stream",
     "text": [
      "../data/A0A0G2RR03.fasta:>tr|A0A0G2RR03|A0A0G2RR03_9INFA Hemagglutinin (Fragment) OS=Influenza A virus (A/Pusan/22/2002(H1N1)) OX=232836 GN=HA PE=3 SV=1\n",
      "../data/A0A0G2RZ64.fasta:>tr|A0A0G2RZ64|A0A0G2RZ64_9INFA Hemagglutinin (Fragment) OS=Influenza A virus (A/Indiana/07/2010(H3N2)) OX=1318026 GN=HA PE=3 SV=1\n",
      "../data/AF316817.gb:DEFINITION  Influenza A virus (A/Athens/2/98 (H3N2)) hemagglutinin gene,\n",
      "../data/AF316817.gb:SOURCE      Influenza A virus (A/Athens/2/1998(H3N2))\n",
      "../data/AF316817.gb:  ORGANISM  Influenza A virus (A/Athens/2/1998(H3N2))\n",
      "../data/AF316817.gb:            Orthomyxoviridae; Influenzavirus A.\n",
      "../data/AF316817.gb:            neuraminidase sequences from recent human influenza type A (H3N2)\n",
      "../data/AF316817.gb:                     /organism=\"Influenza A virus (A/Athens/2/1998(H3N2))\"\n",
      "../data/AF316817.gb:                     /note=\"H3N2; similar to influenza A virus (A/South\n",
      "../data/common_scientific.txt:European perch: Perca fluviatilis\n",
      "Binary file ../data/emdb.db matches\n",
      "../data/ICTV2015.csv:Mononegavirales,Paramyxoviridae,,Respirovirus,Bovine parainfluenza virus 3,0,,,ssRNA(-),\"Moved,\",30,2015.011a-iM.A.v2.Pneumoviridae,ICTVonline=20151050\n",
      "../data/ICTV2015.csv:Mononegavirales,Paramyxoviridae,,Respirovirus,Human parainfluenza virus 1,0,,,ssRNA(-),\"Moved,\",30,2015.011a-iM.A.v2.Pneumoviridae,ICTVonline=20151051\n",
      "../data/ICTV2015.csv:Mononegavirales,Paramyxoviridae,,Respirovirus,Human parainfluenza virus 3,0,,,ssRNA(-),\"Moved,\",30,2015.011a-iM.A.v2.Pneumoviridae,ICTVonline=20151052\n",
      "../data/ICTV2015.csv:Mononegavirales,Paramyxoviridae,,Respirovirus,Porcine parainfluenza virus 1,0,JX857409,porcine parainfluenza virus 1 strain S206N,ssRNA(-),\"New,\",30,2015.017aM.A.v1.Respirovirus_sp,ICTVonline=20151055\n",
      "../data/ICTV2015.csv:Mononegavirales,Paramyxoviridae,,Rubulavirus,Human parainfluenza virus 2,0,,,ssRNA(-),\"Moved,\",30,2015.011a-iM.A.v2.Pneumoviridae,ICTVonline=20151057\n",
      "../data/ICTV2015.csv:Mononegavirales,Paramyxoviridae,,Rubulavirus,Human parainfluenza virus 4,0,,,ssRNA(-),\"Moved,\",30,2015.011a-iM.A.v2.Pneumoviridae,ICTVonline=20151058\n",
      "../data/ICTV2015.csv:Mononegavirales,Paramyxoviridae,,Rubulavirus,Parainfluenza virus 5,0,,,ssRNA(-),\"Moved,\",30,2015.011a-iM.A.v2.Pneumoviridae,ICTVonline=20151061\n",
      "../data/ICTV2015.csv:Unassigned,Orthomyxoviridae,,Influenzavirus A,Influenza A virus,1,,,ssRNA(-),\"Moved,\",15,Ratification_1996,ICTVonline=20153227\n",
      "../data/ICTV2015.csv:Unassigned,Orthomyxoviridae,,Influenzavirus B,Influenza B virus,1,,,ssRNA(-),\"Moved,Assigned as Type Species,\",15,Ratification_1996,ICTVonline=20153229\n",
      "../data/ICTV2015.csv:Unassigned,Orthomyxoviridae,,Influenzavirus C,Influenza C virus,1,,,ssRNA(-),\"Moved,\",15,Ratification_1996,ICTVonline=20153231\n",
      "../data/P00451_1.gb:  TITLE     Fluorescent chemical cleavage of mismatches for efficient screening\n",
      "../data/P00451_1.gb:            patients by solid phase fluorescent chemical cleavage of mismatch.\n",
      "../data/P03437.fasta:>sp|P03437|HEMA_I68A0 Hemagglutinin OS=Influenza A virus (strain A/Aichi/2/1968 H3N2) GN=HA PE=1 SV=1\n",
      "../data/pdb3vun.ent:TITLE     CRYSTAL STRUCTURE OF A INFLUENZA A VIRUS (A/AICHI/2/1968 H3N2)        \n",
      "../data/pdb3vun.ent:SOURCE   2 ORGANISM_SCIENTIFIC: INFLUENZA A VIRUS;                              \n",
      "../data/pdb3vun.ent:SOURCE   8 ORGANISM_SCIENTIFIC: INFLUENZA A VIRUS;                              \n",
      "../data/pdb3vun.ent:JRNL        TITL   CRYSTAL STRUCTURE OF A INFLUENZA A VIRUS (A/AICHI/2/1968     \n",
      "../data/taxonomy.txt:species|Suillus fluryi | genus|Suillus | family|Boletaceae | order|Boletales | subclass|Hymenomycetidae | class|Hymenomycetes | phylum|Basidiomycota | kingdom|Fungi | no rank|Fungi/Metazoa group | superkingdom|Eukaryota | no rank|cellular organisms | no rank|root || \n"
     ]
    }
   ],
   "source": [
    "%%bash\n",
    "grep -i flu ../data/*"
   ]
  },
  {
   "cell_type": "markdown",
   "metadata": {},
   "source": [
    "Write a single line of Linux that prints out the **first 3 lines** of all `.fasta` files in subdirectory `biocomp1/data` using the `head` command:"
   ]
  },
  {
   "cell_type": "code",
   "execution_count": 9,
   "metadata": {},
   "outputs": [
    {
     "name": "stdout",
     "output_type": "stream",
     "text": [
      "==> ../data/A0A0G2RR03.fasta <==\n",
      ">tr|A0A0G2RR03|A0A0G2RR03_9INFA Hemagglutinin (Fragment) OS=Influenza A virus (A/Pusan/22/2002(H1N1)) OX=232836 GN=HA PE=3 SV=1\n",
      "MKAKLLVLLCTFTATYADTICIGYHANNSTDTVDTVLEKNVTVTHSVNLLEDSHNGKLCL\n",
      "LKGIAPLQLGNCSVAGWILGNPECELLISKESWSYIVETPNPENGTCYPGYFADYEELRE\n",
      "\n",
      "==> ../data/A0A0G2RZ64.fasta <==\n",
      ">tr|A0A0G2RZ64|A0A0G2RZ64_9INFA Hemagglutinin (Fragment) OS=Influenza A virus (A/Indiana/07/2010(H3N2)) OX=1318026 GN=HA PE=3 SV=1\n",
      "MKTIIALSYILCLVFAQKLPGNDNSTATLCLGHHAVPNGTIVKTITNDQIEVTNATELVQ\n",
      "SSSTGEICDSPHQILDGKNCTLIDALLGDPQCDGFQNKKWDLFVERSKAYSNCYPYDVPD\n",
      "\n",
      "==> ../data/FA8_HUMAN.fasta <==\n",
      ">sp|P00451|FA8_HUMAN Coagulation factor VIII OS=Homo sapiens GN=F8 PE=1 SV=1\n",
      "MQIELSTCFFLCLLRFCFSATRRYYLGAVELSWDYMQSDLGELPVDARFPPRVPKSFPFN\n",
      "TSVVYKKTLFVEFTDHLFNIAKPRPPWMGLLGPTIQAEVYDTVVITLKNMASHPVSLHAV\n",
      "\n",
      "==> ../data/P03437.fasta <==\n",
      ">sp|P03437|HEMA_I68A0 Hemagglutinin OS=Influenza A virus (strain A/Aichi/2/1968 H3N2) GN=HA PE=1 SV=1\n",
      "MKTIIALSYIFCLALGQDLPGNDNSTATLCLGHHAVPNGTLVKTITDDQIEVTNATELVQ\n",
      "SSSTGKICNNPHRILDGIDCTLIDALLGDPHCDVFQNETWDLFVERSKAFSNCYPYDVPD\n",
      "\n",
      "==> ../data/P42858.fasta <==\n",
      ">sp|P42858|HD_HUMAN Huntingtin OS=Homo sapiens OX=9606 GN=HTT PE=1 SV=2\n",
      "MATLEKLMKAFESLKSFQQQQQQQQQQQQQQQQQQQQQPPPPPPPPPPPQLPQPPPQAQP\n",
      "LLPQPQPPPPPPPPPPGPAVAEEPLHRPKKELSATKKDRVNHCLTICENIVAQSVRNSPE\n",
      "\n",
      "==> ../data/penguinpox.fasta <==\n",
      ">NC_024446.1 Penguinpox virus isolate PSan92, complete genome\n",
      "TAGAAGATATTACCAATCTACAGGAGAAATATGTTTTGACGGAATGTGTGTTAGAAGTCTACAATATCTC\n",
      "ACAGCTGAATTTAACTACTCAAAATATTCTTGTGAATCTAAAGGTTTAAGAATACCTAACGATAAGGATA\n",
      "\n",
      "==> ../data/Q8WZ42.fasta <==\n",
      ">sp|Q8WZ42|TITIN_HUMAN Titin OS=Homo sapiens OX=9606 GN=TTN PE=1 SV=4\n",
      "MTTQAPTFTQPLQSVVVLEGSTATFEAHISGFPVPEVSWFRDGQVISTSTLPGVQISFSD\n",
      "GRAKLTIPAVTKANSGRYSLKATNGSGQATSTAELLVKAETAPPNFVQRLQSMTVRQGSQ\n"
     ]
    }
   ],
   "source": [
    "%%bash\n",
    "head -n 3 ../data/*.fasta "
   ]
  },
  {
   "cell_type": "markdown",
   "metadata": {},
   "source": [
    "## Sorting the contents of files\n",
    "\n",
    "Here `sort` is used to print out the contents of a file **sorted alphabetically**:"
   ]
  },
  {
   "cell_type": "code",
   "execution_count": 10,
   "metadata": {},
   "outputs": [
    {
     "name": "stdout",
     "output_type": "stream",
     "text": [
      "0.932\n",
      "1153.04\n",
      "1.63\n",
      "-187.0\n",
      "2347.105\n",
      "25.307\n",
      "-2749.655\n",
      "31.33333\n",
      "-32.78\n",
      "39.2\n",
      "-4.1\n",
      "4.2\n",
      "-422.343\n",
      "5.65\n",
      "5.912\n",
      "61.5\n",
      "780.4592\n",
      "8.0\n",
      "-8205.9\n",
      "87.612\n",
      "928.7\n"
     ]
    }
   ],
   "source": [
    "%%bash\n",
    "sort ../data/numbers.txt"
   ]
  },
  {
   "cell_type": "markdown",
   "metadata": {},
   "source": [
    "Here the task is to modify the previous command so that it prints out the file in **reverse numerical order**. We will do this in two stages. Firstly, we will consult the manual (using the `man` command in combination with `grep`) to find out how to perform a reverse numerical sort: "
   ]
  },
  {
   "cell_type": "code",
   "execution_count": 11,
   "metadata": {},
   "outputs": [
    {
     "name": "stdout",
     "output_type": "stream",
     "text": [
      "       -r, --reverse\n",
      "              reverse the result of comparisons\n",
      "              consider only blanks and alphanumeric characters\n",
      "       -g, --general-numeric-sort\n",
      "              compare according to general numerical value\n",
      "       -h, --human-numeric-sort\n",
      "       -n, --numeric-sort\n",
      "              compare according to string numerical value\n",
      "              sort according to WORD: general-numeric  -g,  human-numeric  -h,\n",
      "              month -M, numeric -n, random -R, version -V\n"
     ]
    }
   ],
   "source": [
    "%%bash\n",
    "man sort | grep reverse\n",
    "man sort | grep numeric"
   ]
  },
  {
   "cell_type": "markdown",
   "metadata": {},
   "source": [
    "Secondly, we will perform the sort: "
   ]
  },
  {
   "cell_type": "code",
   "execution_count": 12,
   "metadata": {},
   "outputs": [
    {
     "name": "stdout",
     "output_type": "stream",
     "text": [
      "2347.105\n",
      "1153.04\n",
      "928.7\n",
      "780.4592\n",
      "87.612\n",
      "61.5\n",
      "39.2\n",
      "31.33333\n",
      "25.307\n",
      "8.0\n",
      "5.912\n",
      "5.65\n",
      "4.2\n",
      "1.63\n",
      "0.932\n",
      "-4.1\n",
      "-32.78\n",
      "-187.0\n",
      "-422.343\n",
      "-2749.655\n",
      "-8205.9\n"
     ]
    }
   ],
   "source": [
    "%%bash\n",
    "sort -rn ../data/numbers.txt"
   ]
  },
  {
   "cell_type": "markdown",
   "metadata": {},
   "source": [
    "## Putting it all together\n",
    "\n",
    "Finally (if you have time), **write five Linux commands** that:\n",
    "- Perform an ascending numerical sort on file `~/biocomp1/data/numbers.txt`\n",
    "- Redirect the sorted output to a file called `sorted_tmp.txt` in the current working directory\n",
    "- Prints out the last 3 lines of `sorted_tmp.txt`\n",
    "- Prints out the text `Line count:` followed by the number of lines in file `sorted_tmp.txt` (not necessarily on the same line)\n",
    "- Deletes file `sorted_tmp.txt`."
   ]
  },
  {
   "cell_type": "code",
   "execution_count": 34,
   "metadata": {},
   "outputs": [
    {
     "name": "stdout",
     "output_type": "stream",
     "text": [
      "928.7\n",
      "1153.04\n",
      "2347.105\n",
      "Line count:\n",
      "21 sorted_temp.txt\n"
     ]
    }
   ],
   "source": [
    "%%bash\n",
    "sort -n ../data/numbers.txt > sorted_temp.txt\n",
    "tail -n 3 sorted_temp.txt\n",
    "echo \"Line count:\"\n",
    "wc -l sorted_temp.txt\n",
    "rm sorted_temp.txt"
   ]
  }
 ],
 "metadata": {
  "kernelspec": {
   "display_name": "Python(Python 3)",
   "language": "python",
   "name": "python3"
  },
  "language_info": {
   "codemirror_mode": {
    "name": "ipython",
    "version": 3
   },
   "file_extension": ".py",
   "mimetype": "text/x-python",
   "name": "python",
   "nbconvert_exporter": "python",
   "pygments_lexer": "ipython3",
   "version": "3.8.5"
  }
 },
 "nbformat": 4,
 "nbformat_minor": 4
}
