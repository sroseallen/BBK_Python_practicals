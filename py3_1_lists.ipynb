{
 "cells": [
  {
   "cell_type": "markdown",
   "metadata": {},
   "source": [
    "# Using Lists"
   ]
  },
  {
   "cell_type": "markdown",
   "metadata": {},
   "source": [
    "## Creating a list\n",
    "Here are a few ways of creating a list:"
   ]
  },
  {
   "cell_type": "code",
   "execution_count": 4,
   "metadata": {},
   "outputs": [
    {
     "name": "stdout",
     "output_type": "stream",
     "text": [
      "[]\n",
      "[]\n",
      "['apple', 'bananas', 'carrots']\n",
      "[1, 'apples', True]\n"
     ]
    }
   ],
   "source": [
    "a_list = list() # empty list!\n",
    "print(a_list)\n",
    "a_list = [] # Similar. Note the use of square brackets\n",
    "print(a_list)\n",
    "a_list = ['apple', 'bananas', 'carrots']\n",
    "print(a_list)\n",
    "a_list = [1, \"apples\", True] # heterogeneous types are OK!\n",
    "print(a_list)"
   ]
  },
  {
   "cell_type": "markdown",
   "metadata": {},
   "source": [
    "# Adding and removing items"
   ]
  },
  {
   "cell_type": "code",
   "execution_count": 7,
   "metadata": {},
   "outputs": [
    {
     "data": {
      "text/plain": [
       "['a', 'b', 'c', 'd']"
      ]
     },
     "execution_count": 7,
     "metadata": {},
     "output_type": "execute_result"
    }
   ],
   "source": [
    "a = ['a', 'b', 'c']\n",
    "a.append('d')\n",
    "a"
   ]
  },
  {
   "cell_type": "code",
   "execution_count": 9,
   "metadata": {},
   "outputs": [
    {
     "data": {
      "text/plain": [
       "['a', 'b', 'E', 'c', 'd']"
      ]
     },
     "execution_count": 9,
     "metadata": {},
     "output_type": "execute_result"
    }
   ],
   "source": [
    "a.insert(2, 'E')\n",
    "a"
   ]
  },
  {
   "cell_type": "code",
   "execution_count": 18,
   "metadata": {},
   "outputs": [
    {
     "data": {
      "text/plain": [
       "'d'"
      ]
     },
     "execution_count": 18,
     "metadata": {},
     "output_type": "execute_result"
    }
   ],
   "source": [
    "a.pop()"
   ]
  },
  {
   "cell_type": "code",
   "execution_count": 19,
   "metadata": {},
   "outputs": [
    {
     "name": "stdout",
     "output_type": "stream",
     "text": [
      "['a', 'b', 'c']\n"
     ]
    }
   ],
   "source": [
    "print(a)"
   ]
  },
  {
   "cell_type": "markdown",
   "metadata": {},
   "source": [
    "## for loop\n",
    "\n",
    "we have previously seen how to write for loops, iterating over items:"
   ]
  },
  {
   "cell_type": "code",
   "execution_count": 13,
   "metadata": {},
   "outputs": [
    {
     "name": "stdout",
     "output_type": "stream",
     "text": [
      "2\n",
      "4\n",
      "6\n"
     ]
    }
   ],
   "source": [
    "number_list = [1, 2, 3]\n",
    "for number in number_list:\n",
    "    print(number*2)"
   ]
  },
  {
   "cell_type": "markdown",
   "metadata": {},
   "source": [
    "### List comprehension\n",
    "\n",
    "With list comprehensions, we can directly create a list out of the elements returned by a for loop, with the following syntax:"
   ]
  },
  {
   "cell_type": "code",
   "execution_count": 14,
   "metadata": {},
   "outputs": [
    {
     "data": {
      "text/plain": [
       "[2, 4, 6]"
      ]
     },
     "execution_count": 14,
     "metadata": {},
     "output_type": "execute_result"
    }
   ],
   "source": [
    "doubled_list = [number*2 for number in number_list]\n",
    "doubled_list"
   ]
  },
  {
   "cell_type": "markdown",
   "metadata": {},
   "source": [
    "### Accessing items\n",
    "\n",
    "Note that in python, the first element is number 0! This is a common convention in programming (C, Fortran, Rust all use zero indexing)."
   ]
  },
  {
   "cell_type": "code",
   "execution_count": 7,
   "metadata": {},
   "outputs": [
    {
     "data": {
      "text/plain": [
       "'b'"
      ]
     },
     "execution_count": 7,
     "metadata": {},
     "output_type": "execute_result"
    }
   ],
   "source": [
    "a = ['a', 'b', 'c', 'd']\n",
    "a[1]"
   ]
  },
  {
   "cell_type": "markdown",
   "metadata": {},
   "source": [
    "We can also access the elements starting from the last, using a minus sign: -1 will access the last, -2 the second last, etc..."
   ]
  },
  {
   "cell_type": "code",
   "execution_count": 8,
   "metadata": {},
   "outputs": [
    {
     "data": {
      "text/plain": [
       "'d'"
      ]
     },
     "execution_count": 8,
     "metadata": {},
     "output_type": "execute_result"
    }
   ],
   "source": [
    "a[-1]"
   ]
  },
  {
   "cell_type": "markdown",
   "metadata": {},
   "source": [
    "How to access the third-to-last element?"
   ]
  },
  {
   "cell_type": "code",
   "execution_count": 13,
   "metadata": {},
   "outputs": [
    {
     "data": {
      "text/plain": [
       "'b'"
      ]
     },
     "execution_count": 13,
     "metadata": {},
     "output_type": "execute_result"
    }
   ],
   "source": [
    "a[2] # show 'c'\n",
    "a[-3] # shows 'b' - the third to last element"
   ]
  },
  {
   "cell_type": "markdown",
   "metadata": {},
   "source": [
    "## List slicing\n",
    "Here are several ways of slicing a single list. Try to change the indexes to see what impact it has! "
   ]
  },
  {
   "cell_type": "code",
   "execution_count": 16,
   "metadata": {},
   "outputs": [
    {
     "name": "stdout",
     "output_type": "stream",
     "text": [
      "Start: [1, 2, 3, 4]\n",
      "End: [4, 5, 6, 7, 8]\n",
      "Middle: [3, 4, 5]\n",
      "Alternate: [1, 3, 5, 7]\n",
      "Reverse: [8, 7, 6, 5, 4, 3, 2, 1]\n"
     ]
    }
   ],
   "source": [
    "original = [1, 2, 3, 4, 5, 6, 7, 8]\n",
    "start = original[:4]\n",
    "end = original[3:]\n",
    "middle = original[2:5]\n",
    "alternate = original[::2]\n",
    "reverse = original[::-1]\n",
    "print('Start:', start)\n",
    "print('End:', end)\n",
    "print('Middle:', middle)\n",
    "print('Alternate:', alternate)\n",
    "print('Reverse:', reverse)"
   ]
  },
  {
   "cell_type": "markdown",
   "metadata": {},
   "source": [
    "### Operators\n",
    "\n",
    "When you have a sequence (a list, tuple, set, dictionary, or other sequential type), you may be interesting in testing whether a specific value is in that sequence.\n",
    "Rather than code it yourself, python provides the `in` opeartor."
   ]
  },
  {
   "cell_type": "code",
   "execution_count": 20,
   "metadata": {},
   "outputs": [
    {
     "data": {
      "text/plain": [
       "True"
      ]
     },
     "execution_count": 20,
     "metadata": {},
     "output_type": "execute_result"
    }
   ],
   "source": [
    "2 in original"
   ]
  },
  {
   "cell_type": "markdown",
   "metadata": {},
   "source": [
    "using `not`, you can also check if a value is not in the list:"
   ]
  },
  {
   "cell_type": "code",
   "execution_count": 21,
   "metadata": {},
   "outputs": [
    {
     "data": {
      "text/plain": [
       "True"
      ]
     },
     "execution_count": 21,
     "metadata": {},
     "output_type": "execute_result"
    }
   ],
   "source": [
    "\"a\" not in original"
   ]
  },
  {
   "cell_type": "code",
   "execution_count": 22,
   "metadata": {},
   "outputs": [
    {
     "data": {
      "text/plain": [
       "[1, 2, 3, 4, 5, 6, 7, 8, 8, 7, 6, 5, 4, 3, 2, 1]"
      ]
     },
     "execution_count": 22,
     "metadata": {},
     "output_type": "execute_result"
    }
   ],
   "source": [
    "original + reverse"
   ]
  },
  {
   "cell_type": "markdown",
   "metadata": {},
   "source": [
    "## List operation examples\n",
    "The aim of this section of the Notebook it to give examples of how many of the operators, functions and methods can be used in practice. \n",
    "\n",
    "First **create a list** from a file containing numbers: "
   ]
  },
  {
   "cell_type": "code",
   "execution_count": 37,
   "metadata": {},
   "outputs": [
    {
     "name": "stdout",
     "output_type": "stream",
     "text": [
      "[1.63, -32.78, -4.1, 25.307, 8.0, 31.33333, 780.4592, -422.343, 87.612, 928.7, -187.0, 1153.04, 4.2, 0.932, 5.65, -8205.9, -2749.655, 5.912, 2347.105, 39.2, 61.5]\n"
     ]
    }
   ],
   "source": [
    "numbers = []\n",
    "with open('../data/numbers.txt', 'r') as f:\n",
    "    numbers = f.readlines()\n",
    "numbers = [float(n) for n in numbers]\n",
    "print(numbers)"
   ]
  },
  {
   "cell_type": "markdown",
   "metadata": {},
   "source": [
    "Next apply **numeric functions** that work on sequences (including lists):"
   ]
  },
  {
   "cell_type": "code",
   "execution_count": 25,
   "metadata": {},
   "outputs": [
    {
     "name": "stdout",
     "output_type": "stream",
     "text": [
      "Minimum: -8205.9\n",
      "Maximum: 2347.105\n",
      "Sum: -6121.19747\n"
     ]
    }
   ],
   "source": [
    "print('Minimum:', min(numbers))\n",
    "print('Maximum:', max(numbers))\n",
    "print('Sum:', sum(numbers))"
   ]
  },
  {
   "cell_type": "markdown",
   "metadata": {},
   "source": [
    "Next use **enumerate()** to iterate over the list and modify its contents: "
   ]
  },
  {
   "cell_type": "code",
   "execution_count": 53,
   "metadata": {},
   "outputs": [
    {
     "name": "stdout",
     "output_type": "stream",
     "text": [
      "[1.63, 0, 0, 25.307, 8.0, 31.33333, 780.4592, 0, 87.612, 928.7, 0, 1153.04, 4.2, 0.932, 5.65, 0, 0, 5.912, 2347.105, 39.2, 61.5]\n"
     ]
    }
   ],
   "source": [
    "# replace any negative numbers with zeros\n",
    "for i, n in enumerate(numbers, start=6):\n",
    "    if n < 0:\n",
    "        numbers[i] = 0\n",
    "print(numbers)"
   ]
  },
  {
   "cell_type": "code",
   "execution_count": 43,
   "metadata": {},
   "outputs": [
    {
     "name": "stdout",
     "output_type": "stream",
     "text": [
      "Help on class enumerate in module builtins:\n",
      "\n",
      "class enumerate(object)\n",
      " |  enumerate(iterable, start=0)\n",
      " |  \n",
      " |  Return an enumerate object.\n",
      " |  \n",
      " |    iterable\n",
      " |      an object supporting iteration\n",
      " |  \n",
      " |  The enumerate object yields pairs containing a count (from start, which\n",
      " |  defaults to zero) and a value yielded by the iterable argument.\n",
      " |  \n",
      " |  enumerate is useful for obtaining an indexed list:\n",
      " |      (0, seq[0]), (1, seq[1]), (2, seq[2]), ...\n",
      " |  \n",
      " |  Methods defined here:\n",
      " |  \n",
      " |  __getattribute__(self, name, /)\n",
      " |      Return getattr(self, name).\n",
      " |  \n",
      " |  __iter__(self, /)\n",
      " |      Implement iter(self).\n",
      " |  \n",
      " |  __next__(self, /)\n",
      " |      Implement next(self).\n",
      " |  \n",
      " |  __reduce__(...)\n",
      " |      Return state information for pickling.\n",
      " |  \n",
      " |  ----------------------------------------------------------------------\n",
      " |  Static methods defined here:\n",
      " |  \n",
      " |  __new__(*args, **kwargs) from builtins.type\n",
      " |      Create and return a new object.  See help(type) for accurate signature.\n",
      "\n"
     ]
    }
   ],
   "source": [
    "help(enumerate)"
   ]
  },
  {
   "cell_type": "markdown",
   "metadata": {},
   "source": [
    "Next: Use the **insert()** method. \n",
    "\n",
    "**Question:** Why am I using floor division here? (*Hint:* try it with regular division to see why!)"
   ]
  },
  {
   "cell_type": "code",
   "execution_count": 56,
   "metadata": {},
   "outputs": [
    {
     "name": "stdout",
     "output_type": "stream",
     "text": [
      "[1.63, 0, 0, 25.307, 8.0, 31.33333, 780.4592, 0, 87.612, 928.7, '*', '*', 0, 1153.04, 4.2, 0.932, 5.65, 0, 0, 5.912, 2347.105, 39.2, 61.5]\n"
     ]
    }
   ],
   "source": [
    "# insert a star as middle element of list\n",
    "middle_index = len(numbers) // 2\n",
    "numbers.insert(middle_index, '*')\n",
    "print(numbers)"
   ]
  },
  {
   "cell_type": "markdown",
   "metadata": {},
   "source": [
    "Finally, make a **reversed copy** of the list and **concatenate** the two lists together:"
   ]
  },
  {
   "cell_type": "code",
   "execution_count": 27,
   "metadata": {},
   "outputs": [
    {
     "name": "stdout",
     "output_type": "stream",
     "text": [
      "[1.63, 0, 0, 25.307, 8.0, 31.33333, 780.4592, 0, 87.612, 928.7, '*', 0, 1153.04, 4.2, 0.932, 5.65, 0, 0, 5.912, 2347.105, 39.2, 61.5, 61.5, 39.2, 2347.105, 5.912, 0, 0, 5.65, 0.932, 4.2, 1153.04, 0, '*', 928.7, 87.612, 0, 780.4592, 31.33333, 8.0, 25.307, 0, 0, 1.63]\n"
     ]
    }
   ],
   "source": [
    "# create a reverse copy of the list and add it to the end\n",
    "reversed_numbers = list(reversed(numbers))\n",
    "numbers = numbers + reversed_numbers\n",
    "print(numbers)"
   ]
  },
  {
   "cell_type": "code",
   "execution_count": 57,
   "metadata": {},
   "outputs": [
    {
     "name": "stdout",
     "output_type": "stream",
     "text": [
      "Help on class reversed in module builtins:\n",
      "\n",
      "class reversed(object)\n",
      " |  reversed(sequence, /)\n",
      " |  \n",
      " |  Return a reverse iterator over the values of the given sequence.\n",
      " |  \n",
      " |  Methods defined here:\n",
      " |  \n",
      " |  __getattribute__(self, name, /)\n",
      " |      Return getattr(self, name).\n",
      " |  \n",
      " |  __iter__(self, /)\n",
      " |      Implement iter(self).\n",
      " |  \n",
      " |  __length_hint__(...)\n",
      " |      Private method returning an estimate of len(list(it)).\n",
      " |  \n",
      " |  __next__(self, /)\n",
      " |      Implement next(self).\n",
      " |  \n",
      " |  __reduce__(...)\n",
      " |      Return state information for pickling.\n",
      " |  \n",
      " |  __setstate__(...)\n",
      " |      Set state information for unpickling.\n",
      " |  \n",
      " |  ----------------------------------------------------------------------\n",
      " |  Static methods defined here:\n",
      " |  \n",
      " |  __new__(*args, **kwargs) from builtins.type\n",
      " |      Create and return a new object.  See help(type) for accurate signature.\n",
      "\n"
     ]
    }
   ],
   "source": [
    "help(reversed)"
   ]
  },
  {
   "cell_type": "markdown",
   "metadata": {},
   "source": [
    "## Comparing lists\n",
    "The following examples use two files, `words1.txt` and `word2.txt`; neither file contains any duplicates (you can rely on that property in what follows). Let's examine their contents before we start. This can be done at the Linux command-line as follows:"
   ]
  },
  {
   "cell_type": "code",
   "execution_count": 62,
   "metadata": {},
   "outputs": [
    {
     "name": "stdout",
     "output_type": "stream",
     "text": [
      "words1.txt:\n",
      "flycatcher\n",
      "gnatcatcher\n",
      "bee-eater\n",
      "kingfisher\n",
      "\n",
      "words2.txt:\n",
      "flycatcher\n",
      "warbler\n",
      "kingfisher\n",
      "thrush\n",
      "sparrow\n",
      "hawk\n"
     ]
    }
   ],
   "source": [
    "%%bash\n",
    "echo \"words1.txt:\"\n",
    "cat ../data/words1.txt\n",
    "echo\n",
    "echo \"words2.txt:\"\n",
    "cat ../data/words2.txt"
   ]
  },
  {
   "cell_type": "markdown",
   "metadata": {},
   "source": [
    "The following script uses iteration and the `list.append()` method to answer the question: How many words are in both `words1.txt` and  `words2.txt`? "
   ]
  },
  {
   "cell_type": "code",
   "execution_count": 67,
   "metadata": {},
   "outputs": [
    {
     "name": "stdout",
     "output_type": "stream",
     "text": [
      "2\n"
     ]
    }
   ],
   "source": [
    "words1 = []\n",
    "with open('../data/words1.txt', 'r') as f:\n",
    "    words1 = f.read().splitlines()\n",
    "\n",
    "words2 = []\n",
    "with open('../data/words2.txt', 'r') as f:\n",
    "    words2 = f.read().splitlines()\n",
    "\n",
    "# create a list containing words in both lists\n",
    "# and print out its length\n",
    "words_in_both = []\n",
    "for w in words1:\n",
    "    if w in words2:\n",
    "        words_in_both.append(w)\n",
    "print(len(words_in_both))"
   ]
  },
  {
   "cell_type": "code",
   "execution_count": 66,
   "metadata": {},
   "outputs": [
    {
     "name": "stdout",
     "output_type": "stream",
     "text": [
      "['flycatcher\\n', 'gnatcatcher\\n', 'bee-eater\\n', 'kingfisher\\n']\n"
     ]
    }
   ],
   "source": [
    "words1 = []\n",
    "with open('../data/words1.txt', 'r') as f:\n",
    "    words1 = f.readlines()\n",
    "print(words1)"
   ]
  },
  {
   "cell_type": "markdown",
   "metadata": {},
   "source": [
    "In the cell below, write a script that:\n",
    "- prints out the words exclusive to list `words2.txt`\n",
    "- prints out the total number of unique words in lists `words1.txt` and `words2.txt` (remembering that neither file on its own contains any duplicates). "
   ]
  },
  {
   "cell_type": "code",
   "execution_count": 108,
   "metadata": {},
   "outputs": [
    {
     "name": "stdout",
     "output_type": "stream",
     "text": [
      "['warbler', 'thrush', 'sparrow', 'hawk']\n",
      "['flycatcher', 'gnatcatcher', 'bee-eater', 'kingfisher', 'flycatcher', 'warbler', 'kingfisher', 'thrush', 'sparrow', 'hawk']\n",
      "There are 6 unique words\n"
     ]
    }
   ],
   "source": [
    "# NOTE: lists words1 and words2 are still available from the\n",
    "# previous script (i.e. you don't need to reopen the files)\n",
    "words2_exclusive = []\n",
    "\n",
    "for w in words2:\n",
    "    if w not in words1:\n",
    "        words2_exclusive.append(w)\n",
    "print(words2_exclusive)\n",
    "\n",
    "words_all = words1 + words2\n",
    "print(words_all)\n",
    "unique_words = 0\n",
    "for n in words_all:\n",
    "    if words_all.count(n) == 1:\n",
    "        unique_words += 1\n",
    "        \n",
    "print(\"There are\", unique_words, \"unique words\")"
   ]
  },
  {
   "cell_type": "markdown",
   "metadata": {},
   "source": [
    "Extend the following script so that it removes any item from list `words2` that is in list `word1` and prints out words2. *Hint:* use the `list.remove()` method."
   ]
  },
  {
   "cell_type": "code",
   "execution_count": 110,
   "metadata": {},
   "outputs": [
    {
     "name": "stdout",
     "output_type": "stream",
     "text": [
      "['warbler', 'thrush', 'sparrow', 'hawk']\n"
     ]
    }
   ],
   "source": [
    "# NOTE: Assuming you didn't modify either list words1 or words2,\n",
    "# you can use them again here (i.e. no need to reopen the files)\n",
    "\n",
    "for w in words2:\n",
    "    if w not in words2_exclusive:\n",
    "        words2.remove(w)\n",
    "print(words2)"
   ]
  },
  {
   "cell_type": "markdown",
   "metadata": {},
   "source": [
    "## Sorting lists\n",
    "Look at the output from the following code to confirm that it is *not* sorting the lists numerically (hence `82` comes before `9`). \n",
    "\n",
    "Modify the following code so that it does a **numerical** sort of the list in **descending order**:"
   ]
  },
  {
   "cell_type": "code",
   "execution_count": 116,
   "metadata": {},
   "outputs": [
    {
     "name": "stdout",
     "output_type": "stream",
     "text": [
      "Using sorted():\n",
      " [92, 82, 41, 34, 25, 17, 13, 11, 9, 8, 8, 7, 5, 5, 1, 0, 0, 0, 0, 0, 0, 0, -3, -4, -32]\n",
      "Using list.sort():\n",
      " [92, 82, 41, 34, 25, 17, 13, 11, 9, 8, 8, 7, 5, 5, 1, 0, 0, 0, 0, 0, 0, 0, -3, -4, -32]\n"
     ]
    }
   ],
   "source": [
    "numbers = []\n",
    "with open('../data/integers.txt', 'r') as f:\n",
    "    numbers = f.read().splitlines()\n",
    "\n",
    "# There are two sorting alternatives:\n",
    "# a) Here list itself is not sorted\n",
    "numbers = [int(n) for n in numbers]\n",
    "print('Using sorted():\\n', sorted(numbers, reverse = True))\n",
    "# b) this time list is sorted\n",
    "numbers.sort(reverse = True)\n",
    "print('Using list.sort():\\n', numbers)"
   ]
  },
  {
   "cell_type": "code",
   "execution_count": 94,
   "metadata": {},
   "outputs": [
    {
     "name": "stdout",
     "output_type": "stream",
     "text": [
      "Help on method_descriptor:\n",
      "\n",
      "sort(self, /, *, key=None, reverse=False)\n",
      "    Sort the list in ascending order and return None.\n",
      "    \n",
      "    The sort is in-place (i.e. the list itself is modified) and stable (i.e. the\n",
      "    order of two equal elements is maintained).\n",
      "    \n",
      "    If a key function is given, apply it once to each list item and sort them,\n",
      "    ascending or descending, according to their function values.\n",
      "    \n",
      "    The reverse flag can be set to sort in descending order.\n",
      "\n"
     ]
    }
   ],
   "source": [
    "help(list.sort)"
   ]
  },
  {
   "cell_type": "code",
   "execution_count": 112,
   "metadata": {},
   "outputs": [
    {
     "name": "stdout",
     "output_type": "stream",
     "text": [
      "Help on built-in function sorted in module builtins:\n",
      "\n",
      "sorted(iterable, /, *, key=None, reverse=False)\n",
      "    Return a new list containing all items from the iterable in ascending order.\n",
      "    \n",
      "    A custom key function can be supplied to customize the sort order, and the\n",
      "    reverse flag can be set to request the result in descending order.\n",
      "\n"
     ]
    }
   ],
   "source": [
    "help(sorted)"
   ]
  }
 ],
 "metadata": {
  "kernelspec": {
   "display_name": "Python(Python 3)",
   "language": "python",
   "name": "python3"
  },
  "language_info": {
   "codemirror_mode": {
    "name": "ipython",
    "version": 3
   },
   "file_extension": ".py",
   "mimetype": "text/x-python",
   "name": "python",
   "nbconvert_exporter": "python",
   "pygments_lexer": "ipython3",
   "version": "3.8.5"
  }
 },
 "nbformat": 4,
 "nbformat_minor": 4
}
