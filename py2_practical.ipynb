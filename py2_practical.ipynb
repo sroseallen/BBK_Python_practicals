{
 "cells": [
  {
   "cell_type": "markdown",
   "metadata": {},
   "source": [
    "# Python Practical 2: Practical"
   ]
  },
  {
   "cell_type": "markdown",
   "metadata": {},
   "source": [
    "## A) Arithmetic and control"
   ]
  },
  {
   "cell_type": "markdown",
   "metadata": {},
   "source": [
    "**1. Pythagoras’ theorem**\n",
    "\n",
    "Write a script that:\n",
    "- Reads two numbers from the keyboard representing the two shortest sides of a right-angled triangle.\n",
    "- Calculate and print out the length of the hypotenuse using Pythagoras’ theorem. "
   ]
  },
  {
   "cell_type": "code",
   "execution_count": 77,
   "metadata": {},
   "outputs": [
    {
     "name": "stdin",
     "output_type": "stream",
     "text": [
      "Short side 1:  3\n",
      "Short side 2:  4\n"
     ]
    },
    {
     "name": "stdout",
     "output_type": "stream",
     "text": [
      "5.0\n"
     ]
    }
   ],
   "source": [
    "side_1 = int(input(\"Short side 1: \"))\n",
    "side_2 = int(input(\"Short side 2: \"))\n",
    "\n",
    "import math \n",
    "def hypoteneuse (s1, s2):\n",
    "    return (math.sqrt((s1 ** 2) + (s2 ** 2)))\n",
    "\n",
    "print(hypoteneuse (side_1, side_2))"
   ]
  },
  {
   "cell_type": "markdown",
   "metadata": {},
   "source": [
    "**2. Alternate lines**\n",
    "\n",
    "Write a script that prints out alternate lines from file `numbers.txt`."
   ]
  },
  {
   "cell_type": "code",
   "execution_count": 80,
   "metadata": {},
   "outputs": [
    {
     "name": "stdout",
     "output_type": "stream",
     "text": [
      "1.63\n",
      "\n",
      "-4.1\n",
      "\n",
      "8.0\n",
      "\n",
      "780.4592\n",
      "\n",
      "87.612\n",
      "\n",
      "-187.0\n",
      "\n",
      "4.2\n",
      "\n",
      "5.65\n",
      "\n",
      "-2749.655\n",
      "\n",
      "2347.105\n",
      "\n",
      "61.5\n",
      "\n"
     ]
    }
   ],
   "source": [
    "filename = '../data/numbers.txt'\n",
    "line_number = 1\n",
    "with open(filename, 'r') as file:\n",
    "    for line in file:\n",
    "        if line_number % 2 != 0:\n",
    "            print(line)\n",
    "            line_number += 1\n",
    "        else:\n",
    "            line_number += 1"
   ]
  },
  {
   "cell_type": "markdown",
   "metadata": {},
   "source": [
    "3. Average\n",
    "\n",
    "Write a script that calculates the average of the numbers in file numbers.txt.\n"
   ]
  },
  {
   "cell_type": "code",
   "execution_count": 43,
   "metadata": {},
   "outputs": [
    {
     "name": "stdout",
     "output_type": "stream",
     "text": [
      "Average is: -291.48559380952383\n"
     ]
    }
   ],
   "source": [
    "filename = '../data/numbers.txt'\n",
    "numbers = []\n",
    "\n",
    "with open(filename, 'r') as file:\n",
    "    for line in file:\n",
    "        numbers += [float(line[:-1])]\n",
    "\n",
    "average = sum(numbers)/len(numbers)\n",
    "print(\"Average is:\", average)"
   ]
  },
  {
   "cell_type": "markdown",
   "metadata": {},
   "source": [
    "**4. Minimum and maximum**\n",
    "\n",
    "Write a script that prints out the minimum and maximum numbers in\n",
    "file `numbers.txt`. Consider writing two versions – one that uses\n",
    "comparison operators, one that uses the `min()` and `max()` functions. "
   ]
  },
  {
   "cell_type": "code",
   "execution_count": 44,
   "metadata": {},
   "outputs": [
    {
     "name": "stdout",
     "output_type": "stream",
     "text": [
      "The lowest is: -8205.9\n",
      "The highest is: 2347.105\n"
     ]
    }
   ],
   "source": [
    "filename = '../data/numbers.txt'\n",
    "lowest = 0\n",
    "highest = 0\n",
    "current = 0\n",
    "\n",
    "with open (filename, 'r') as file:\n",
    "    for line in file:\n",
    "        current = float(line)\n",
    "        if current > highest:\n",
    "            highest = current\n",
    "        elif current < lowest:\n",
    "            lowest = current\n",
    "        else:\n",
    "            next\n",
    "            \n",
    "print (\"The lowest is:\", lowest)\n",
    "print (\"The highest is:\", highest)"
   ]
  },
  {
   "cell_type": "code",
   "execution_count": 45,
   "metadata": {},
   "outputs": [
    {
     "name": "stdout",
     "output_type": "stream",
     "text": [
      "The lowest is: -8205.9\n",
      "The highest is: 2347.105\n"
     ]
    }
   ],
   "source": [
    "# version using min() and max()\n",
    "filename = '../data/numbers.txt'\n",
    "numbers = []\n",
    "\n",
    "with open (filename, 'r') as file:\n",
    "    for line in file:\n",
    "        numbers += [float(line[:-1])]\n",
    "        \n",
    "print (\"The lowest is:\", min (numbers))\n",
    "print (\"The highest is:\", max (numbers))"
   ]
  },
  {
   "cell_type": "markdown",
   "metadata": {},
   "source": [
    "## B) Something A Bit More Challenging…"
   ]
  },
  {
   "cell_type": "markdown",
   "metadata": {},
   "source": [
    "**1. Guessing an integer**\n",
    "\n",
    "Write a script that generates a random integer between 0 and 1000\n",
    "using the following code:\n",
    "<pre>\n",
    "import random\n",
    "rand = random.randint(0, 1000)</pre>\n",
    "Using a `while` loop, repeatedly prompt the user to guess what the\n",
    "random integer is. If the current guess is closer than the previous one, print “hotter”; if it is further away than the previous one, print “colder”. When the guess is correct, print “Found!” and terminate. If you have time, amend your code so that it gives a hint about how much hotter or colder the guess was!"
   ]
  },
  {
   "cell_type": "code",
   "execution_count": 73,
   "metadata": {},
   "outputs": [
    {
     "name": "stdin",
     "output_type": "stream",
     "text": [
      "My guess is:  600\n"
     ]
    },
    {
     "name": "stdout",
     "output_type": "stream",
     "text": [
      "Nice try, but not quite! Try again :)\n"
     ]
    },
    {
     "name": "stdin",
     "output_type": "stream",
     "text": [
      "My guess is:  400\n"
     ]
    },
    {
     "name": "stdout",
     "output_type": "stream",
     "text": [
      "Colder, keep trying...\n"
     ]
    },
    {
     "name": "stdin",
     "output_type": "stream",
     "text": [
      "My guess is:  700\n"
     ]
    },
    {
     "name": "stdout",
     "output_type": "stream",
     "text": [
      "Hotter, keep trying...\n"
     ]
    },
    {
     "name": "stdin",
     "output_type": "stream",
     "text": [
      "My guess is:  800\n"
     ]
    },
    {
     "name": "stdout",
     "output_type": "stream",
     "text": [
      "Colder, keep trying...\n"
     ]
    },
    {
     "name": "stdin",
     "output_type": "stream",
     "text": [
      "My guess is:  750\n"
     ]
    },
    {
     "name": "stdout",
     "output_type": "stream",
     "text": [
      "Hotter, keep trying...\n"
     ]
    },
    {
     "name": "stdin",
     "output_type": "stream",
     "text": [
      "My guess is:  725\n"
     ]
    },
    {
     "name": "stdout",
     "output_type": "stream",
     "text": [
      "Hotter, keep trying...\n"
     ]
    },
    {
     "name": "stdin",
     "output_type": "stream",
     "text": [
      "My guess is:  720\n"
     ]
    },
    {
     "name": "stdout",
     "output_type": "stream",
     "text": [
      "Hotter, keep trying...\n"
     ]
    },
    {
     "name": "stdin",
     "output_type": "stream",
     "text": [
      "My guess is:  715\n"
     ]
    },
    {
     "name": "stdout",
     "output_type": "stream",
     "text": [
      "Hotter, keep trying...\n"
     ]
    },
    {
     "name": "stdin",
     "output_type": "stream",
     "text": [
      "My guess is:  710\n"
     ]
    },
    {
     "name": "stdout",
     "output_type": "stream",
     "text": [
      "Hotter, keep trying...\n"
     ]
    },
    {
     "name": "stdin",
     "output_type": "stream",
     "text": [
      "My guess is:  650\n"
     ]
    },
    {
     "name": "stdout",
     "output_type": "stream",
     "text": [
      "Hotter, keep trying...\n"
     ]
    },
    {
     "name": "stdin",
     "output_type": "stream",
     "text": [
      "My guess is:  625\n"
     ]
    },
    {
     "name": "stdout",
     "output_type": "stream",
     "text": [
      "Hotter, keep trying...\n"
     ]
    },
    {
     "name": "stdin",
     "output_type": "stream",
     "text": [
      "My guess is:  615\n"
     ]
    },
    {
     "name": "stdout",
     "output_type": "stream",
     "text": [
      "Hotter, keep trying...\n"
     ]
    },
    {
     "name": "stdin",
     "output_type": "stream",
     "text": [
      "My guess is:  605\n"
     ]
    },
    {
     "name": "stdout",
     "output_type": "stream",
     "text": [
      "Hotter, keep trying...\n"
     ]
    },
    {
     "name": "stdin",
     "output_type": "stream",
     "text": [
      "My guess is:  600\n"
     ]
    },
    {
     "name": "stdout",
     "output_type": "stream",
     "text": [
      "Hotter, not far off, less than 50 away...\n"
     ]
    },
    {
     "name": "stdin",
     "output_type": "stream",
     "text": [
      "My guess is:  590\n"
     ]
    },
    {
     "name": "stdout",
     "output_type": "stream",
     "text": [
      "Hotter, not far off, less than 50 away...\n"
     ]
    },
    {
     "name": "stdin",
     "output_type": "stream",
     "text": [
      "My guess is:  550\n"
     ]
    },
    {
     "name": "stdout",
     "output_type": "stream",
     "text": [
      "Hotter, very close! Less than 10 away!\n"
     ]
    },
    {
     "name": "stdin",
     "output_type": "stream",
     "text": [
      "My guess is:  545\n"
     ]
    },
    {
     "name": "stdout",
     "output_type": "stream",
     "text": [
      "Colder, very close! Less than 10 away!\n"
     ]
    },
    {
     "name": "stdin",
     "output_type": "stream",
     "text": [
      "My guess is:  548\n"
     ]
    },
    {
     "name": "stdout",
     "output_type": "stream",
     "text": [
      "Hotter, very close! Less than 10 away!\n"
     ]
    },
    {
     "name": "stdin",
     "output_type": "stream",
     "text": [
      "My guess is:  549\n"
     ]
    },
    {
     "name": "stdout",
     "output_type": "stream",
     "text": [
      "Hotter, very close! Less than 10 away!\n"
     ]
    },
    {
     "name": "stdin",
     "output_type": "stream",
     "text": [
      "My guess is:  550\n"
     ]
    },
    {
     "name": "stdout",
     "output_type": "stream",
     "text": [
      "Hotter, very close! Less than 10 away!\n"
     ]
    },
    {
     "name": "stdin",
     "output_type": "stream",
     "text": [
      "My guess is:  552\n"
     ]
    },
    {
     "name": "stdout",
     "output_type": "stream",
     "text": [
      "Hotter, very close! Less than 10 away!\n"
     ]
    },
    {
     "name": "stdin",
     "output_type": "stream",
     "text": [
      "My guess is:  555\n"
     ]
    },
    {
     "name": "stdout",
     "output_type": "stream",
     "text": [
      "Colder, very close! Less than 10 away!\n"
     ]
    },
    {
     "name": "stdin",
     "output_type": "stream",
     "text": [
      "My guess is:  554\n"
     ]
    },
    {
     "name": "stdout",
     "output_type": "stream",
     "text": [
      "Hotter, very close! Less than 10 away!\n"
     ]
    },
    {
     "name": "stdin",
     "output_type": "stream",
     "text": [
      "My guess is:  553\n"
     ]
    },
    {
     "name": "stdout",
     "output_type": "stream",
     "text": [
      "That's correct!\n"
     ]
    }
   ],
   "source": [
    "import random\n",
    "rand = random.randint(0, 1000)\n",
    "guess = 0\n",
    "prev_closeness = False # Previous value of how close the guess was\n",
    "hint = \"\"\n",
    "\n",
    "# Function to define a hint for the guesser\n",
    "def how_far (current):\n",
    "    if (current < 10):\n",
    "        return \"very close! Less than 10 away!\"\n",
    "    elif (50 > current > 10):\n",
    "        return \"not far off, less than 50 away...\"\n",
    "    else:\n",
    "        return \"keep trying...\"\n",
    "\n",
    "# Game loop:\n",
    "while guess != rand:\n",
    "    guess = int(input(\"My guess is: \"))\n",
    "    \n",
    "    # First turn, wrong guess\n",
    "    if (guess != rand) and (prev_closeness == False):\n",
    "        print (\"Nice try, but not quite! Try again :)\")\n",
    "        current_closeness = abs(rand - guess)\n",
    "        prev_closeness = current_closeness \n",
    "        \n",
    "    # Any subsequent turn, wrong guess\n",
    "    elif guess != rand:\n",
    "        current_closeness = abs(rand - guess)\n",
    "        hint = how_far(current_closeness)\n",
    "        if (current_closeness < prev_closeness):\n",
    "            print(\"Hotter,\", hint)\n",
    "        elif (current_closeness > prev_closeness):\n",
    "            print(\"Colder,\", hint)\n",
    "        prev_closeness = current_closeness \n",
    "        \n",
    "    # Any turn, correct guess\n",
    "    else:\n",
    "        print (\"That's correct!\")"
   ]
  },
  {
   "cell_type": "markdown",
   "metadata": {},
   "source": [
    "**2. Smallest number of steps…**\n",
    "\n",
    "Imagine that you have £1 and that you are allowed, at each step, to either double your money or add £1 to it. Think of a strategy for taking the smallest number of steps to get from £1 to exactly £200, and write a Python script that calculates the number of steps. (Note: no formal proof that you have indeed taken the smallest possible number of steps is expected here!)\n",
    "\n",
    "**Hint:** You might want to try tackling the problem backwards..."
   ]
  },
  {
   "cell_type": "code",
   "execution_count": 71,
   "metadata": {},
   "outputs": [
    {
     "name": "stdin",
     "output_type": "stream",
     "text": [
      "Target cash:  200\n"
     ]
    },
    {
     "name": "stdout",
     "output_type": "stream",
     "text": [
      "Least number of steps: 9\n",
      "Double, Add 1, Double, Double, Double, Add 1, Double, Double, Double\n"
     ]
    }
   ],
   "source": [
    "# 200 / 2 = 100\n",
    "# 100 / 2 = 50\n",
    "# 50 / 2 = 25 (cannot halve anymore without using spare change, need to find quickest way to 25 from 1, then +3 steps to get to 200)\n",
    "# if odd, -1, then divide by 2 until odd again, repeat until you reach 1? \n",
    "\n",
    "target = int(input(\"Target cash: \"))\n",
    "starting = 1\n",
    "steps = 0\n",
    "order_of_steps = []\n",
    "\n",
    "# \"While\" statement starts with the target and works backwards until it reaches 1\n",
    "while target != starting:\n",
    "    \n",
    "    # Contingency in case 0 is entered\n",
    "    if target == 0:\n",
    "        order_of_steps += [\"Spend your money to reach the target!\"]\n",
    "        break\n",
    "    \n",
    "    # Contingency in case a negative integer is entered\n",
    "    elif target < 0:\n",
    "        order_of_steps += [\"Why would you want to be in debt??\"]\n",
    "        break\n",
    "    \n",
    "    # Starting from the target, if the target goal is even, divide by 2 (represent \"doubling\" your cash) until you can't anymore without needing change\n",
    "    elif target % 2 == 0: \n",
    "        target /= 2\n",
    "        steps += 1\n",
    "        order_of_steps += [\"Double\"]\n",
    "    \n",
    "    # Once the target is an odd number, take away 1 (represents \"adding 1 pound\"), then return to the previous \"if\" statement\n",
    "    elif target % 2 != 0:\n",
    "        steps += 1\n",
    "        target -= 1\n",
    "        order_of_steps += [\"Add 1\"]\n",
    "\n",
    "# Reverses list order, as while loop determines steps from 200 to 1 rather than from 1 to 200.\n",
    "order_of_steps = order_of_steps[::-1]  \n",
    "        \n",
    "print (\"Least number of steps:\", steps)\n",
    "print (*order_of_steps, sep = \", \")  # Provides instructions for reaching your target as fast as possible!"
   ]
  },
  {
   "cell_type": "code",
   "execution_count": null,
   "metadata": {},
   "outputs": [],
   "source": []
  }
 ],
 "metadata": {
  "kernelspec": {
   "display_name": "Python(Python 3)",
   "language": "python",
   "name": "python3"
  },
  "language_info": {
   "codemirror_mode": {
    "name": "ipython",
    "version": 3
   },
   "file_extension": ".py",
   "mimetype": "text/x-python",
   "name": "python",
   "nbconvert_exporter": "python",
   "pygments_lexer": "ipython3",
   "version": "3.8.5"
  }
 },
 "nbformat": 4,
 "nbformat_minor": 4
}
