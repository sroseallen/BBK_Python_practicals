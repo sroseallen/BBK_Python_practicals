{
 "cells": [
  {
   "cell_type": "markdown",
   "metadata": {},
   "source": [
    "# Python Practical 3: Practical"
   ]
  },
  {
   "cell_type": "markdown",
   "metadata": {},
   "source": [
    "## A) Lists and bio-sequences"
   ]
  },
  {
   "cell_type": "markdown",
   "metadata": {},
   "source": [
    "**1. Read, sort, print**\n",
    "\n",
    "Read in the numbers from file `numbers.txt` and print them out in\n",
    "reverse sorted order."
   ]
  },
  {
   "cell_type": "code",
   "execution_count": 19,
   "metadata": {},
   "outputs": [
    {
     "name": "stdout",
     "output_type": "stream",
     "text": [
      "[2347.105, 1153.04, 928.7, 780.4592, 87.612, 61.5, 39.2, 31.33333, 25.307, 8.0, 5.912, 5.65, 4.2, 1.63, 0.932, -4.1, -32.78, -187.0, -422.343, -2749.655, -8205.9]\n"
     ]
    }
   ],
   "source": [
    "numbers_fname = '../data/numbers.txt'\n",
    "\n",
    "with open(numbers_fname, 'r') as file:\n",
    "    numbers = file.read().splitlines()\n",
    "\n",
    "numbers = [float(n) for n in numbers]\n",
    "print(sorted(numbers, reverse = True))"
   ]
  },
  {
   "cell_type": "markdown",
   "metadata": {},
   "source": [
    "**2. Bio-sequence length: task 1**\n",
    "\n",
    "Write a program that will calculate and print out the length of a protein sequence stored in 3-letter amino-acid code format, such as file `seq_3code.txt`. (As you will see from the model answers, there are several ways of doing this!)"
   ]
  },
  {
   "cell_type": "code",
   "execution_count": 7,
   "metadata": {},
   "outputs": [
    {
     "name": "stdout",
     "output_type": "stream",
     "text": [
      "GLY ILE VAL GLU GLN CYS CYS THR SER ILE CYS SER LEU\n",
      "PHE VAL ASN GLN HIS LEU CYS GLY SER HIS LEU VAL GLU\n",
      "ALA LEU TYR LEU VAL CYS GLY GLU ARG GLY PHE PHE TYR\n",
      "MET ILE VAL PRO GLU SER SER ASP PRO ALA ALA LEU LYS\n",
      "ARG ALA ARG ASN THR GLU ALA ALA ARG ARG SER ARG ALA\n",
      "ARG LYS LEU GLN ARG MET LYS GLN LEU GLU ASP LYS VAL\n",
      "GLU GLU LEU LEU SER LYS ASN TYR HIS LEU GLU ASN GLU\n"
     ]
    }
   ],
   "source": [
    "%%bash\n",
    "cat ../data/seq_3code.txt"
   ]
  },
  {
   "cell_type": "code",
   "execution_count": 32,
   "metadata": {},
   "outputs": [
    {
     "name": "stdout",
     "output_type": "stream",
     "text": [
      "The sequence length of this protein is: 91\n"
     ]
    }
   ],
   "source": [
    "seq_3code_fname = '../data/seq_3code.txt'\n",
    "\n",
    "with open (seq_3code_fname, 'r') as file:\n",
    "    amino_acids = file.read().splitlines()\n",
    "\n",
    "# joins the 7 rows together, all amino acid codes in one string\n",
    "amino_acids = \" \".join(amino_acids)\n",
    "# splits each amino acid into different list indices (one index = 1 amino acid)\n",
    "split = amino_acids.split()\n",
    "\n",
    "# length of list 'split' is the number of amino acids in sequence\n",
    "print(\"The sequence length of this protein is:\", (len(split)))"
   ]
  },
  {
   "cell_type": "markdown",
   "metadata": {},
   "source": [
    "**3. Bio-sequence length: task 2**\n",
    "\n",
    "Write a program that will calculate and print out the length of the protein sequence stored in file `seq_ss.txt`. (Underneath each sequence line is a line containing the corresponding secondary structure). "
   ]
  },
  {
   "cell_type": "code",
   "execution_count": 2,
   "metadata": {},
   "outputs": [
    {
     "name": "stdout",
     "output_type": "stream",
     "text": [
      "APRKFFVGGNWKMNGKRKSLGELIHTLDGAKLSADTEVVCGAPSIYLDFA\n",
      "     EEEEE  S   HHHHHHHHHHHHH    SS EEEEE  HHHHHHH\n",
      "\n",
      "RQKLDAKIGVAAQNCYKVPKGAFTGEISPAMIKDIGAAWVILGHSERRHV\n",
      "HHHS TTEEEEEE   SSSS S SS   HHHHHHHT  EEEE  HHHHHH\n",
      "\n",
      "FGESDELIGQKVAHALAEGLGVIACIGEKLDEREAGITEKVVFQETKAIA\n",
      "T   HHHHHHHHHHHHHTT  EEEEEEE HHHHHHTTHHHHHHHHHHHHH\n",
      "\n",
      "DNVKDWSKVVLAYEPVWAIGTGKTATPQQAQEVHEKLRGWLKTHVSDAVA\n",
      "HH    TTEEEEEEE TTSSSSS   HHHHHHHHHHHHHHHHHHHTHHHH\n",
      "\n",
      "VQSRIIYGGSVTGGNCKELASQHDVDGFLVGGASLKPEFVDIINAKH\n",
      "HHSEEEE S   TTHHHHHHTSSS  EEEESGGGGTTHHHHHHT   \n"
     ]
    }
   ],
   "source": [
    "%%bash\n",
    "cat ../data/seq_ss.txt"
   ]
  },
  {
   "cell_type": "code",
   "execution_count": 44,
   "metadata": {},
   "outputs": [
    {
     "name": "stdout",
     "output_type": "stream",
     "text": [
      "The length of this protein is 247 amino acids\n"
     ]
    }
   ],
   "source": [
    "seq_ss_fname = '../data/seq_ss.txt'\n",
    "\n",
    "with open (seq_ss_fname, 'r') as file:\n",
    "    sequence = file.read().splitlines()\n",
    "\n",
    "#removes strings relating to secondary structure (keeps every third entry) \n",
    "sequence = sequence[::3]\n",
    "sequence = \"\".join(sequence)\n",
    "print(\"The length of this protein is\", len(sequence), \"amino acids\")"
   ]
  },
  {
   "cell_type": "markdown",
   "metadata": {},
   "source": [
    "**4. Bio-sequence length: task 3**\n",
    "\n",
    "Write a program that will calculate and print out the length of the protein sequence stored in file `seq_ss_n.txt`. This differs from `seq_ss.txt` in that it has a number at the start of the sequence line.\n",
    "\n",
    "*Hint:* Consider using a slice to extract the part of the line you want."
   ]
  },
  {
   "cell_type": "code",
   "execution_count": 4,
   "metadata": {},
   "outputs": [
    {
     "name": "stdout",
     "output_type": "stream",
     "text": [
      "   1 APRKFFVGGNWKMNGKRKSLGELIHTLDGAKLSADTEVVCGAPSIYLDFA\n",
      "          EEEEE  S   HHHHHHHHHHHHH    SS EEEEE  HHHHHHH\n",
      "\n",
      "  51 RQKLDAKIGVAAQNCYKVPKGAFTGEISPAMIKDIGAAWVILGHSERRHV\n",
      "     HHHS TTEEEEEE   SSSS S SS   HHHHHHHT  EEEE  HHHHHH\n",
      "\n",
      " 101 FGESDELIGQKVAHALAEGLGVIACIGEKLDEREAGITEKVVFQETKAIA\n",
      "     T   HHHHHHHHHHHHHTT  EEEEEEE HHHHHHTTHHHHHHHHHHHHH\n",
      "\n",
      " 151 DNVKDWSKVVLAYEPVWAIGTGKTATPQQAQEVHEKLRGWLKTHVSDAVA\n",
      "     HH    TTEEEEEEE TTSSSSS   HHHHHHHHHHHHHHHHHHHTHHHH\n",
      "\n",
      " 201 VQSRIIYGGSVTGGNCKELASQHDVDGFLVGGASLKPEFVDIINAKH\n",
      "     HHSEEEE S   TTHHHHHHTSSS  EEEESGGGGTTHHHHHHT  \n"
     ]
    }
   ],
   "source": [
    "%%bash\n",
    "cat ../data/seq_ss_n.txt"
   ]
  },
  {
   "cell_type": "code",
   "execution_count": 59,
   "metadata": {},
   "outputs": [
    {
     "name": "stdout",
     "output_type": "stream",
     "text": [
      "APRKFFVGGNWKMNGKRKSLGELIHTLDGAKLSADTEVVCGAPSIYLDFARQKLDAKIGVAAQNCYKVPKGAFTGEISPAMIKDIGAAWVILGHSERRHVFGESDELIGQKVAHALAEGLGVIACIGEKLDEREAGITEKVVFQETKAIADNVKDWSKVVLAYEPVWAIGTGKTATPQQAQEVHEKLRGWLKTHVSDAVAVQSRIIYGGSVTGGNCKELASQHDVDGFLVGGASLKPEFVDIINAKH\n",
      "The length of this protein is 247 amino acids\n"
     ]
    }
   ],
   "source": [
    "seq_ss_n_fname = '../data/seq_ss_n.txt'\n",
    "\n",
    "with open (seq_ss_n_fname, 'r') as file:\n",
    "    sequence = file.read().splitlines()\n",
    "\n",
    "# removes strings relating to secondary structure (keeps every third entry) \n",
    "sequence = sequence[::3]\n",
    "# remove numbers at start of each line\n",
    "sequence = [a[5:] for a in sequence]\n",
    "sequence = \"\".join(sequence)\n",
    "print(sequence)\n",
    "print(\"The length of this protein is\", len(sequence), \"amino acids\")"
   ]
  },
  {
   "cell_type": "markdown",
   "metadata": {},
   "source": [
    "## B) Something A Bit More Challenging…"
   ]
  },
  {
   "cell_type": "markdown",
   "metadata": {},
   "source": [
    "**1. Amino-acid percentage**\n",
    "\n",
    "Pick an amino-acid type. Write a script that calculates the percentage of residues of your chosen type in the amino-acid sequence of file `seq_ss_n.txt`."
   ]
  },
  {
   "cell_type": "code",
   "execution_count": 118,
   "metadata": {},
   "outputs": [
    {
     "name": "stdin",
     "output_type": "stream",
     "text": [
      "Choose an amino acid type: non-polar, polar, positive, or negative:  non-polar\n"
     ]
    },
    {
     "name": "stdout",
     "output_type": "stream",
     "text": [
      "These are the non-polar type amino acids: ['G', 'A', 'V', 'C', 'P', 'L', 'I', 'M', 'W', 'F']\n",
      "The sequence is 55.87 % non-polar\n"
     ]
    }
   ],
   "source": [
    "# Note to self: I think I misunderstood task and made it more complicated than it needed to be, having looked at the answers! Question was asking to search for specific amino acids (eg \"G\") not the category\n",
    "\n",
    "seq_ss_n_fname = '../data/seq_ss_n.txt'\n",
    "\n",
    "with open (seq_ss_n_fname, 'r') as file:\n",
    "    sequence = file.read().splitlines()\n",
    "\n",
    "# removes strings relating to secondary structure (keeps every third entry) \n",
    "sequence = sequence[::3]\n",
    "# remove numbers at start of each line\n",
    "sequence = [a[5:] for a in sequence]\n",
    "sequence = \"\".join(sequence)\n",
    "\n",
    "non_polar = [\"G\", \"A\", \"V\", \"C\", \"P\", \"L\", \"I\", \"M\", \"W\", \"F\"]\n",
    "polar     = [\"S\", \"T\", \"Y\", \"N\", \"Q\"]\n",
    "positive  = [\"K\", \"R\", \"H\"]\n",
    "negative  = [\"E\", \"D\"]\n",
    "key = [non_polar, polar, positive, negative]\n",
    "\n",
    "amino_acid = input(\"Choose an amino acid type: non-polar, polar, positive, or negative: \")\n",
    "\n",
    "if amino_acid == \"non-polar\":\n",
    "    amino_key = 0\n",
    "if amino_acid == \"polar\":\n",
    "    amino_key = 1\n",
    "if amino_acid == \"postive\":\n",
    "    amino_key = 2\n",
    "if amino_acid == \"negative\":\n",
    "    amino_key = 3\n",
    "\n",
    "percent = 0  \n",
    "    \n",
    "for i, a in enumerate(key[amino_key]):\n",
    "    for j, b in enumerate(sequence):\n",
    "        if a == b:\n",
    "            percent += 1\n",
    "\n",
    "print (\"These are the\", amino_acid, \"type amino acids:\", key[amino_key])\n",
    "print (\"The sequence is\", round(((percent / len(sequence)) * 100) ,2), \"%\", amino_acid)"
   ]
  },
  {
   "cell_type": "markdown",
   "metadata": {},
   "source": [
    "**2. Palindrome**\n",
    "\n",
    "Write a script that finds and prints out the longest palindromic\n",
    "subsequence in a file such as `seq_long.txt`. (A palindrome is a word or phrase that reads the same when reversed, e.g. `abcdedcba`.) If there is more than one longest palindrome, print them all out. \n",
    "\n",
    "**Note:** The Python code for this task may take some time to run!\n",
    "\n",
    "Only the first few lines of `seq_long.txt` are shown here:"
   ]
  },
  {
   "cell_type": "code",
   "execution_count": 12,
   "metadata": {},
   "outputs": [
    {
     "name": "stdout",
     "output_type": "stream",
     "text": [
      "MTTQAPTFTQPLQSVVVLEGSTATFEAHISGFPVPEVSWFRDGQVISTSTLPGVQISFSD\n",
      "GRAKLTIPAVTKANSGRYSLKATNGSGQATSTAELLVKAETAPPNFVQRLQSMTVRQGSQ\n",
      "VRLQVRVTGIPTPVVKFYRDGAEIQSSLDFQISQEGDLYSLLIAEAYPEDSGTYSVNATN\n",
      "SVGRATSTAELLVQGEEEVPAKKTKTIVSTAQISESRQTRIEKKIEAHFDARSIATVEMV\n",
      "IDGAAGQQLPHKTPPRIPPKPKSRSPTPPSIAAKAQLARQQSPSPIRHSPSPVRHVRAPT\n",
      "PSPVRSVSPAARISTSPIRSVRSPLLMRKTQASTVATGPEVPPPWKQEGYVASSSEAEMR\n",
      "ETTLTTSTQIRTEERWEGRYGVQEQVTISGAAGAAASVSASASYAAEAVATGAKEVKQDA\n",
      "DKSAAVATVVAAVDMARVREPVISAVEQTAQRTTTTAVHIQPAQEQVRKEAEKTAVTKVV\n",
      "VAADKAKEQELKSRTKEVITTKQEQMHVTHEQIRKETEKTFVPKVVISAAKAKEQETRIS\n",
      "EEITKKQKQVTQEAIRQETEITAASMVVVATAKSTKLETVPGAQEETTTQQDQMHLSYEK\n"
     ]
    }
   ],
   "source": [
    "%%bash\n",
    "head -10 ../data/seq_long.txt"
   ]
  },
  {
   "cell_type": "code",
   "execution_count": null,
   "metadata": {},
   "outputs": [],
   "source": [
    "seq_long_fname = '../data/seq_long.txt'\n",
    "\n",
    "# come back to this later"
   ]
  }
 ],
 "metadata": {
  "kernelspec": {
   "display_name": "Python(Python 3)",
   "language": "python",
   "name": "python3"
  },
  "language_info": {
   "codemirror_mode": {
    "name": "ipython",
    "version": 3
   },
   "file_extension": ".py",
   "mimetype": "text/x-python",
   "name": "python",
   "nbconvert_exporter": "python",
   "pygments_lexer": "ipython3",
   "version": "3.8.5"
  }
 },
 "nbformat": 4,
 "nbformat_minor": 4
}
