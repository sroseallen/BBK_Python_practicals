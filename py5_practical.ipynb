{
 "cells": [
  {
   "cell_type": "markdown",
   "metadata": {},
   "source": [
    "# Python Practical 5: Practical"
   ]
  },
  {
   "cell_type": "markdown",
   "metadata": {},
   "source": [
    "## A) Biopython sequences"
   ]
  },
  {
   "cell_type": "markdown",
   "metadata": {},
   "source": [
    "**1. Comparing sequences 1**\n",
    "\n",
    "FASTA file `FA8_HUMAN.fasta` and GenBank file `P00451_1.gb` both contain protein sequences. Write a Biopython script that works out whether the two sequences are the same and prints out a suitable message (e.g. `the same` or `different`).\n",
    "\n",
    "Here are the first few lines of the two files:"
   ]
  },
  {
   "cell_type": "code",
   "execution_count": 1,
   "metadata": {},
   "outputs": [
    {
     "name": "stdout",
     "output_type": "stream",
     "text": [
      "File FA8_HUMAN.fasta:\n",
      ">sp|P00451|FA8_HUMAN Coagulation factor VIII OS=Homo sapiens GN=F8 PE=1 SV=1\n",
      "MQIELSTCFFLCLLRFCFSATRRYYLGAVELSWDYMQSDLGELPVDARFPPRVPKSFPFN\n",
      "TSVVYKKTLFVEFTDHLFNIAKPRPPWMGLLGPTIQAEVYDTVVITLKNMASHPVSLHAV\n",
      "\n",
      "File P00451_1.gb:\n",
      "LOCUS       FA8_HUMAN               2351 aa            linear   PRI 05-OCT-2016\n",
      "DEFINITION  RecName: Full=Coagulation factor VIII; AltName: Full=Antihemophilic\n",
      "            factor; Short=AHF; AltName: Full=Procoagulant component; Contains:\n",
      "            RecName: Full=Factor VIIIa heavy chain, 200 kDa isoform; Contains:\n",
      "            RecName: Full=Factor VIIIa heavy chain, 92 kDa isoform; Contains:\n",
      "            RecName: Full=Factor VIII B chain; Contains: RecName: Full=Factor\n",
      "            VIIIa light chain; Flags: Precursor.\n",
      "ACCESSION   P00451\n",
      "VERSION     P00451.1\n",
      "DBSOURCE    UniProtKB: locus FA8_HUMAN, accession P00451;\n"
     ]
    }
   ],
   "source": [
    "%%bash\n",
    "echo \"File FA8_HUMAN.fasta:\"\n",
    "head -3 ../data/FA8_HUMAN.fasta\n",
    "echo\n",
    "echo \"File P00451_1.gb:\"\n",
    "head -10 ../data/P00451_1.gb"
   ]
  },
  {
   "cell_type": "code",
   "execution_count": 42,
   "metadata": {},
   "outputs": [
    {
     "name": "stdout",
     "output_type": "stream",
     "text": [
      "Sequences are the same\n"
     ]
    }
   ],
   "source": [
    "fa_FA8_fname = '../data/FA8_HUMAN.fasta'\n",
    "gb_FA8_fname = '../data/P00451_1.gb'\n",
    "\n",
    "from Bio import SeqIO\n",
    "record1 = (SeqIO.read(fa_FA8_fname, 'fasta')).format('fasta-2line')\n",
    "record2 = (SeqIO.read(gb_FA8_fname, 'genbank')).format('fasta-2line')\n",
    "\n",
    "record1 = record1.split('\\n')[1]\n",
    "record2 = record2.split('\\n')[1]\n",
    "\n",
    "if record1 == record2:\n",
    "    print (\"Sequences are the same\")\n",
    "else:\n",
    "    print (\"Sequences are different\")"
   ]
  },
  {
   "cell_type": "markdown",
   "metadata": {},
   "source": [
    "**2. Comparing sequences 2**\n",
    "\n",
    "You have a collaborator who has sent you a sequence (saved in file\n",
    "`s1.txt`) in an email that she says is human factor VIII. But is it identical\n",
    "to the canonical factor VIII from UniProt (`FA8_HUMAN.fasta`)? Write\n",
    "a script that works out whether they are the same sequences and prints\n",
    "out a suitable message."
   ]
  },
  {
   "cell_type": "code",
   "execution_count": 43,
   "metadata": {},
   "outputs": [
    {
     "name": "stdout",
     "output_type": "stream",
     "text": [
      "mqielstcfflcllrfcfsatrryylgavelswdymqsdlg\n",
      "elpvdarfpprvpksfpfntsvvykktlfveftdhlfniak\n",
      "prppwmgllgptiqaevydtvvitlknmashpvslhavgvs\n",
      "ywkasegaeyddqtsqrekeddkvfpggshtyvwqvlkeng\n",
      "pmasdplcltysylshvdlvkdlnsgligallvcregslak\n"
     ]
    }
   ],
   "source": [
    "%%bash\n",
    "head -5 ../data/s1.txt"
   ]
  },
  {
   "cell_type": "code",
   "execution_count": 63,
   "metadata": {},
   "outputs": [
    {
     "name": "stdout",
     "output_type": "stream",
     "text": [
      "Sequences are the same\n"
     ]
    }
   ],
   "source": [
    "fa_FA8_fname = '../data/FA8_HUMAN.fasta'\n",
    "putative_FA8_fname = '../data/s1.txt'\n",
    "\n",
    "# standardise UniProt seq format\n",
    "record1 = (SeqIO.read(fa_FA8_fname, 'fasta')).format('fasta-2line')\n",
    "record1 = record1.split('\\n')[1]\n",
    "\n",
    "# standardise s1 sequence format\n",
    "with open (putative_FA8_fname, 'r') as f:\n",
    "    record2 = f.read().splitlines()\n",
    "    record2 = \"\".join(record2)\n",
    "\n",
    "if record1 == record2.upper():\n",
    "    print (\"Sequences are the same\")\n",
    "else:\n",
    "    print (\"Sequences are different\")"
   ]
  },
  {
   "cell_type": "markdown",
   "metadata": {},
   "source": [
    "**3. Selecting sequences by source 1**\n",
    "\n",
    "File `genes.gb` contains multiple sequences in GenBank format. For all\n",
    "entries from organism *Mycobacterium tuberculosis H37Rv*,\n",
    "print out the accession information and the sequence. Note that both\n",
    "the organism and accession information are general annotations\n",
    "(available using the keys `organism` and `accessions` respectively)."
   ]
  },
  {
   "cell_type": "code",
   "execution_count": 64,
   "metadata": {},
   "outputs": [
    {
     "name": "stdout",
     "output_type": "stream",
     "text": [
      "LOCUS       NC_002945               2103 bp    DNA     linear   CON 28-AUG-2016\n",
      "DEFINITION  Mycobacterium bovis AF2122/97 chromosome, complete genome.\n",
      "ACCESSION   NC_002945 REGION: complement(3523654..3525756)\n",
      "VERSION     NC_002945.3\n",
      "DBLINK      BioProject: PRJNA57695\n",
      "            Assembly: GCF_000195835.1\n",
      "KEYWORDS    RefSeq; complete genome.\n",
      "SOURCE      Mycobacterium bovis AF2122/97\n",
      "  ORGANISM  Mycobacterium bovis AF2122/97\n",
      "            Bacteria; Actinobacteria; Corynebacteriales; Mycobacteriaceae;\n"
     ]
    }
   ],
   "source": [
    "%%bash\n",
    "head -10 ../data/genes.gb"
   ]
  },
  {
   "cell_type": "code",
   "execution_count": 115,
   "metadata": {},
   "outputs": [
    {
     "name": "stdout",
     "output_type": "stream",
     "text": [
      "NC_000962 REGION: complement(2153889..2156111)\n",
      "GTGCCCGAGCAACACCCACCCATTACAGAAACCACCACCGGAGCCGCTAGCAACGGCTGTCCCGTCGTGGGTCATATGAAATACCCCGTCGAGGGCGGCGGAAACCAGGACTGGTGGCCCAACCGGCTCAATCTGAAGGTACTGCACCAAAACCCGGCCGTCGCTGACCCGATGGGTGCGGCGTTCGACTATGCCGCGGAGGTCGCGACCATCGACGTTGACGCCCTGACGCGGGACATCGAGGAAGTGATGACCACCTCGCAGCCGTGGTGGCCCGCCGACTACGGCCACTACGGGCCGCTGTTTATCCGGATGGCGTGGCACGCTGCCGGCACCTACCGCATCCACGACGGCCGCGGCGGCGCCGGGGGCGGCATGCAGCGGTTCGCGCCGCTTAACAGCTGGCCCGACAACGCCAGCTTGGACAAGGCGCGCCGGCTGCTGTGGCCGGTCAAGAAGAAGTACGGCAAGAAGCTCTCATGGGCGGACCTGATTGTTTTCGCCGGCAACTGCGCGCTGGAATCGATGGGCTTCAAGACGTTCGGGTTCGGCTTCGGCCGGGTCGACCAGTGGGAGCCCGATGAGGTCTATTGGGGCAAGGAAGCCACCTGGCTCGGCGATGAGCGTTACAGCGGTAAGCGGGATCTGGAGAACCCGCTGGCCGCGGTGCAGATGGGGCTGATCTACGTGAACCCGGAGGGGCCGAACGGCAACCCGGACCCCATGGCCGCGGCGGTCGACATTCGCGAGACGTTTCGGCGCATGGCCATGAACGACGTCGAAACAGCGGCGCTGATCGTCGGCGGTCACACTTTCGGTAAGACCCATGGCGCCGGCCCGGCCGATCTGGTCGGCCCCGAACCCGAGGCTGCTCCGCTGGAGCAGATGGGCTTGGGCTGGAAGAGCTCGTATGGCACCGGAACCGGTAAGGACGCGATCACCAGCGGCATCGAGGTCGTATGGACGAACACCCCGACGAAATGGGACAACAGTTTCCTCGAGATCCTGTACGGCTACGAGTGGGAGCTGACGAAGAGCCCTGCTGGCGCTTGGCAATACACCGCCAAGGACGGCGCCGGTGCCGGCACCATCCCGGACCCGTTCGGCGGGCCAGGGCGCTCCCCGACGATGCTGGCCACTGACCTCTCGCTGCGGGTGGATCCGATCTATGAGCGGATCACGCGTCGCTGGCTGGAACACCCCGAGGAATTGGCCGACGAGTTCGCCAAGGCCTGGTACAAGCTGATCCACCGAGACATGGGTCCCGTTGCGAGATACCTTGGGCCGCTGGTCCCCAAGCAGACCCTGCTGTGGCAGGATCCGGTCCCTGCGGTCAGCCACGACCTCGTCGGCGAAGCCGAGATTGCCAGCCTTAAGAGCCAGATCCGGGCATCGGGATTGACTGTCTCACAGCTAGTTTCGACCGCATGGGCGGCGGCGTCGTCGTTCCGTGGTAGCGACAAGCGCGGCGGCGCCAACGGTGGTCGCATCCGCCTGCAGCCACAAGTCGGGTGGGAGGTCAACGACCCCGACGGGGATCTGCGCAAGGTCATTCGCACCCTGGAAGAGATCCAGGAGTCATTCAACTCCGCGGCGCCGGGGAACATCAAAGTGTCCTTCGCCGACCTCGTCGTGCTCGGTGGCTGTGCCGCCATAGAGAAAGCAGCAAAGGCGGCTGGCCACAACATCACGGTGCCCTTCACCCCGGGCCGCACGGATGCGTCGCAGGAACAAACCGACGTGGAATCCTTTGCCGTGCTGGAGCCCAAGGCAGATGGCTTCCGAAACTACCTCGGAAAGGGCAACCCGTTGCCGGCCGAGTACATGCTGCTCGACAAGGCGAACCTGCTTACGCTCAGTGCCCCTGAGATGACGGTGCTGGTAGGTGGCCTGCGCGTCCTCGGCGCAAACTACAAGCGCTTACCGCTGGGCGTGTTCACCGAGGCCTCCGAGTCACTGACCAACGACTTCTTCGTGAACCTGCTCGACATGGGTATCACCTGGGAGCCCTCGCCAGCAGATGACGGGACCTACCAGGGCAAGGATGGCAGTGGCAAGGTGAAGTGGACCGGCAGCCGCGTGGACCTGGTCTTCGGGTCCAACTCGGAGTTGCGGGCGCTTGTCGAGGTCTATGGCGCCGATGACGCGCAGCCGAAGTTCGTGCAGGACTTCGTCGCTGCCTGGGACAAGGTGATGAACCTCGACAGGTTCGACGTGCGCTGA\n",
      "NC_000962 REGION: complement(4265642..4266658)\n",
      "ATGCAGCTTGTTGACAGGGTTCGTGGCGCCGTCACGGGTATGTCGCGTCGACTCGTGGTCGGGGCCGTCGGCGCGGCCCTAGTGTCGGGTCTGGTCGGCGCCGTCGGTGGCACGGCGACCGCGGGGGCATTTTCCCGGCCGGGCTTGCCGGTGGAGTACCTGCAGGTGCCGTCGCCGTCGATGGGCCGTGACATCAAGGTCCAATTCCAAAGTGGTGGTGCCAACTCGCCCGCCCTGTACCTGCTCGACGGCCTGCGCGCGCAGGACGACTTCAGCGGCTGGGACATCAACACCCCGGCGTTCGAGTGGTACGACCAGTCGGGCCTGTCGGTGGTCATGCCGGTGGGTGGCCAGTCAAGCTTCTACTCCGACTGGTACCAGCCCGCCTGCGGCAAGGCCGGTTGCCAGACTTACAAGTGGGAGACCTTCCTGACCAGCGAGCTGCCGGGGTGGCTGCAGGCCAACAGGCACGTCAAGCCCACCGGAAGCGCCGTCGTCGGTCTTTCGATGGCTGCTTCTTCGGCGCTGACGCTGGCGATCTATCACCCCCAGCAGTTCGTCTACGCGGGAGCGATGTCGGGCCTGTTGGACCCCTCCCAGGCGATGGGTCCCACCCTGATCGGCCTGGCGATGGGTGACGCTGGCGGCTACAAGGCCTCCGACATGTGGGGCCCGAAGGAGGACCCGGCGTGGCAGCGCAACGACCCGCTGTTGAACGTCGGGAAGCTGATCGCCAACAACACCCGCGTCTGGGTGTACTGCGGCAACGGCAAGCCGTCGGATCTGGGTGGCAACAACCTGCCGGCCAAGTTCCTCGAGGGCTTCGTGCGGACCAGCAACATCAAGTTCCAAGACGCCTACAACGCCGGTGGCGGCCACAACGGCGTGTTCGACTTCCCGGACAGCGGTACGCACAGCTGGGAGTACTGGGGCGCGCAGCTCAACGCTATGAAGCCCGACCTGCAACGGGCACTGGGTGCCACGCCCAACACCGGGCCCGCGCCCCAGGGCGCCTAG\n",
      "NC_000962 REGION: complement(624473..625480)\n",
      "ATGACGGAGATCGCCACGACCAGCGGCGCCAGGAGCGTCGGGCTGCTCAGTGTCGGGGCGTACCGGCCCGAACGCGTGGTCACCAACGACGAGATATGCCAGCACATCGACTCGTCCGACGAGTGGATCTACACCCGAACCGGCATCAAGACCCGCCGATTCGCCGCCGACGACGAGTCGGCGGCTTCCATGGCGACTGAGGCCTGTCGACGGGCACTGTCGAACGCCGGCCTGTCGGCGGCCGACATCGATGGCGTGATCGTCACCACCAACACCCATTTCCTGCAAACCCCGCCGGCCGCCCCAATGGTCGCGGCGTCGCTGGGCGCCAAGGGCATACTCGGGTTCGATCTTTCGGCGGGGTGCGCCGGATTCGGATATGCGCTTGGCGCAGCGGCCGACATGATCCGGGGCGGAGGTGCGGCCACGATGCTGGTGGTCGGCACGGAAAAACTGTCCCCCACGATAGACATGTACGACCGCGGCAACTGCTTCATCTTCGCCGACGGCGCGGCCGCAGTGGTGGTGGGCGAGACACCGTTTCAAGGCATTGGACCAACCGTGGCGGGTAGCGACGGCGAACAGGCCGATGCCATACGGCAGGACATCGACTGGATCACTTTCGCCCAGAATCCCAGCGGCCCACGCCCGTTTGTGCGGCTCGAAGGTCCCGCGGTCTTCCGTTGGGCAGCGTTCAAAATGGGCGACGTCGGTCGGCGCGCGATGGACGCCGCCGGGGTGCGACCCGACCAGATAGACGTGTTCGTCCCTCATCAGGCCAATAGCCGCATCAACGAGCTGCTGGTCAAGAACCTGCAGTTGCGGCCCGACGCGGTGGTCGCCAACGATATCGAGCACACCGGAAACACCTCGGCGGCCTCCATTCCGCTCGCGATGGCCGAATTACTGACGACCGGCGCGGCCAAGCCCGGCGATCTGGCCCTGTTGATCGGCTACGGCGCCGGTCTGAGCTATGCCGCCCAGGTGGTGCGAATGCCGAAGGGTTGA\n",
      "NC_000962 REGION: complement(3984144..3985445)\n",
      "GTGTCGTGGAATCACCAGTCAGTGGAGATTGCAGTAAGGAGAACTACCGTGCCCAGCCCCAATCTGCCGCCCGGGTTCGATTTCACCGACCCCGCAATCTACGCCGAACGGCTGCCGGTTGCCGAATTCGCCGAGCTGCGGTCCGCGGCGCCGATCTGGTGGAACGGGCAGGATCCTGGCAAGGGCGGCGGCTTTCACGACGGCGGTTTCTGGGCGATCACCAAACTCAACGACGTCAAAGAGATATCGCGGCATAGCGACGTGTTCTCCAGCTACGAAAACGGGGTGATCCCGCGATTCAAGAACGACATCGCGCGTGAGGACATCGAGGTTCAGCGCTTCGTCATGCTCAACATGGACGCGCCGCACCACACCCGGCTGCGCAAGATCATCTCTCGCGGCTTCACGCCACGTGCGGTCGGACGCCTGCATGACGAGCTCCAGGAGCGCGCCCAGAAGATCGCCGCGGAGGCGGCCGCCGCGGGTTCTGGAGACTTTGTCGAGCAGGTTTCCTGTGAGCTGCCATTGCAGGCGATCGCGGGCTTGCTGGGCGTGCCGCAGGAGGACCGCGGCAAGCTGTTCCACTGGTCAAACGAGATGACCGGCAACGAGGATCCGGAATACGCCCACATCGATCCGAAGGCGTCCTCGGCGGAGCTGATCGGCTATGCGATGAAGATGGCCGAGGAGAAGGCGAAGAACCCCGCCGACGACATCGTGACTCAGTTGATCCAAGCCGATATCGACGGCGAGAAGCTCTCCGACGACGAGTTCGGCTTCTTCGTGGTGATGCTGGCGGTGGCCGGTAACGAGACCACCCGCAACTCCATCACCCAGGGCATGATGGCGTTCGCTGAACACCCCGACCAGTGGGAGCTGTACAAGAAAGTGCGTCCGGAGACCGCGGCCGATGAGATCGTGCGCTGGGCAACCCCGGTCACCGCTTTTCAGCGCACCGCGCTGCGGGACTACGAGTTGTCCGGCGTACAGATTAAGAAGGGTCAGCGGGTGGTGATGTTCTACCGGTCGGCTAACTTCGACGAAGAGGTTTTCCAGGATCCGTTCACATTTAACATCCTGCGCAACCCCAACCCGCACGTCGGCTTCGGCGGCACCGGCGCTCACTACTGCATCGGTGCGAATCTGGCCCGGATGACGATCAACCTAATCTTTAACGCCGTAGCCGACCACATGCCCGACCTCAAGCCGATCTCGGCGCCCGAGCGGCTGCGGTCCGGCTGGCTCAACGGCATTAAGCACTGGCAGGTCGACTACACCGGTAGATGCCCGGTTGCTCACTAA\n",
      "NC_000962 REGION: 1096822..1097508\n",
      "GTGCGAATTCTTGTCGTTGACGACGATCGTGCGGTGCGCGAGTCGCTGCGCCGGTCGCTTTCCTTCAATGGCTATTCGGTCGAACTGGCCCACGACGGGGTTGAGGCGCTCGACATGATTGCCAGCGATCGCCCCGACGCGTTGGTCCTGGATGTCATGATGCCGCGGCTGGACGGCCTCGAGGTGTGCCGTCAGCTCCGCGGCACCGGCGACGACCTGCCGATTCTGGTGCTGACCGCGCGCGACTCGGTGTCCGAGCGGGTGGCCGGGCTGGACGCCGGTGCCGACGACTACCTACCAAAGCCGTTCGCCCTCGAAGAGCTGCTGGCACGGATGCGGGCGCTGCTGCGCCGCACCAAGCCCGAGGATGCCGCCGAGTCGATGGCCATGAGGTTCTCCGACCTGACGCTGGACCCGGTAACCCGCGAAGTCAACCGTGGACAGCGCCGGATCAGCCTGACCCGCACCGAATTTGCATTGCTGGAGATGCTGATCGCCAATCCGCGGCGAGTGCTGACGCGCAGCCGTATCCTGGAAGAGGTATGGGGATTCGACTTTCCCACCTCGGGCAACGCGCTGGAAGTCTACGTCGGGTATCTACGCCGCAAGACCGAGGCCGACGGCGAGCCGCGGCTGATCCACACTGTGCGCGGAGTGGGTTACGTGCTACGTGAAACACCACCCTGA\n",
      "NC_000962 REGION: 198534..199898\n",
      "ATGACGACGCCGGGGAAGCTGAACAAGGCGCGAGTGCCGCCCTACAAGACGGCGGGTTTGGGTCTAGTGCTGGTCTTCGCGCTCGTAGTTGCCTTGGTATACCTGCAGTTTCGCGGGGAGTTCACGCCCAAGACGCAGTTGACGATGCTGTCCGCTCGTGCGGGTTTGGTGATGGATCCCGGGTCGAAGGTCACCTATAACGGGGTGGAGATCGGGCGGGTAGACACCATCTCGGAGGTCACACGTGACGGCGAGTCGGCGGCCAAGTTCATCTTGGATGTGGATCCGCGTTACATCCACCTGATTCCGGCAAATGTGAACGCCGACATCAAGGCGACCACGGTGTTCGGCGGTAAGTATGTGTCGTTGACCACGCCGAAAAACCCGACAAAGAGGCGGATAACGCCAAAAGACGTCATCGACGTACGGTCGGTGACCACCGAGATCAACACGTTGTTCCAGACGCTCACCTCGATCGCCGAGAAGGTGGATCCGGTCAAGCTGAACCTGACCCTGAGCGCGGCCGCGGAGGCGTTGACCGGGCTGGGCGATAAGTTCGGCGAGTCGATCGTCAACGCCAACACCGTTCTGGATGACCTCAATTCGCGGATGCCGCAGTCGCGCCACGACATTCAGCAATTGGCGGCTCTGGGCGACGTCTACGCCGACGCGGCGCCGGACCTGTTCGACTTTCTCGACAGTTCGGTGACCACCGCCCGCACCATCAATGCCCAGCAAGCGGAACTGGATTCGGCGCTGTTGGCGGCGGCCGGGTTCGGCAACACCACAGCCGATGTCTTCGACCGCGGCGGGCCGTATCTGCAGCGGGGGGTCGCCGACCTGGTCCCCACCGCCACCCTGCTCGACACTTATAGCCCGGAACTGTTCTGCACGATCCGCAACTTCTACGATGCCGATCCGCTCGCTAAAGCGGCGTCCGGTGGCGGTAACGGCTACTCGCTGAGGACGAACTCAGAGATCCTATCCGGGATAGGTATCTCCTTGTTGTCTCCCCTGGCGTTAGCCACCAATGGGGCGGCAATCGGAATCGGACTGGTAGCCGGATTGATAGCGCCGCCCCTCGCGGTGGCCGCAAATCTAGCGGGAGCCCTACCCGGAATCGTTGGCGGCGCGCCCAATCCCTATACCTATCCGGAGAATCTGCCGCGGGTGAACGCTCGCGGTGGCCCGGGGGGCGCCCCCGGTTGCTGGCAGCCGATCACCCGGGATCTGTGGCCAGCGCCGTATCTGGTGATGGACACCGGTGCCAGCCTCGCCCCGTACAACCACATGGAGGTTGGCTCGCCTTATGCAGTCGAGTACGTCTGGGGCCGTCAGGTAGGGGATAACACGATCAACCCATGA\n"
     ]
    }
   ],
   "source": [
    "gb_genes_fname = '../data/genes.gb'\n",
    "\n",
    "for record in SeqIO.parse(gb_genes_fname, \"genbank\"):\n",
    "     if record.annotations[\"organism\"] == \"Mycobacterium tuberculosis H37Rv\":\n",
    "        print(\" \".join(record.annotations[\"accessions\"]))\n",
    "        print(record.seq)"
   ]
  },
  {
   "cell_type": "markdown",
   "metadata": {},
   "source": [
    "**4. Selecting sequences by source 2** \n",
    "\n",
    "Print out the organism name and sequence length of each entry in `genes.gb`,\n",
    "but only those associated with the genus *Mycobacterium*. (One way to\n",
    "do this is to use a regular expression.)"
   ]
  },
  {
   "cell_type": "code",
   "execution_count": 174,
   "metadata": {},
   "outputs": [
    {
     "name": "stdout",
     "output_type": "stream",
     "text": [
      "Mycobacterium bovis AF2122/97\n",
      "2103\n",
      "Mycobacterium avium subsp. paratuberculosis K-10\n",
      "1872\n",
      "Mycobacterium avium subsp. paratuberculosis K-10\n",
      "1626\n",
      "Mycobacterium tuberculosis H37Rv\n",
      "2223\n",
      "Mycobacterium tuberculosis H37Rv\n",
      "1017\n",
      "Mycobacterium tuberculosis H37Rv\n",
      "1008\n",
      "Mycobacterium tuberculosis H37Rv\n",
      "1302\n",
      "Mycobacterium tuberculosis H37Rv\n",
      "687\n",
      "Mycobacterium tuberculosis H37Rv\n",
      "1365\n",
      "Mycobacterium leprae TN\n",
      "1626\n",
      "Mycobacterium leprae TN\n",
      "3750\n",
      "Mycobacterium leprae TN\n",
      "2547\n",
      "Mycobacterium avium\n",
      "1176\n"
     ]
    }
   ],
   "source": [
    "gb_genes_fname = '../data/genes.gb'\n",
    "\n",
    "for record in SeqIO.parse(gb_genes_fname, \"genbank\"):\n",
    "    if \"Mycobacterium\" in record.annotations[\"organism\"]:\n",
    "        print(record.annotations[\"organism\"])\n",
    "        print(len(record.seq))\n"
   ]
  },
  {
   "cell_type": "markdown",
   "metadata": {},
   "source": [
    "## B) Something A Bit More Challenging…"
   ]
  },
  {
   "cell_type": "markdown",
   "metadata": {},
   "source": [
    "**1. Checking translations**\n",
    "\n",
    "The entries in file `genes.gb` all have translations as feature annotations.\n",
    "These can be accessed as follows:\n",
    "- Iterate over the features and check whether its `.type` is `CDS`\n",
    "- For a feature of type `CDS`, the translation is available via the feature `.qualifiers` attribute (`.qualifiers['translation'][0]`).\n",
    "\n",
    "Compare this translation to one you generate yourself using the `Seq`\n",
    "object `translate()` method. Note that, if there is a stop codon at the end\n",
    "of the sequence, a `*` will be appended to the sequence. You can prevent\n",
    "this by invoking the method as follows:\n",
    "<pre>\n",
    "translate(to_stop=True)\n",
    "</pre>\n",
    "Are all the translations the same? "
   ]
  },
  {
   "cell_type": "code",
   "execution_count": 189,
   "metadata": {},
   "outputs": [
    {
     "name": "stdout",
     "output_type": "stream",
     "text": [
      "['Not CDS', 'Not CDS', 'Match', 'Not CDS', 'Not CDS', 'Not a Match', 'Not CDS', 'Not CDS', 'Match', 'Not CDS', 'Not CDS', 'Match', 'Not CDS', 'Not a Match', 'Not CDS', 'Not CDS', 'Match', 'Not CDS', 'Not CDS', 'Not a Match', 'Not CDS', 'Not CDS', 'Match', 'Not CDS', 'Not CDS', 'Match', 'Not CDS', 'Not a Match', 'Not CDS', 'Not CDS', 'Not a Match', 'Not CDS', 'Not CDS', 'Not a Match', 'Not CDS', 'Not a Match', 'Not CDS', 'Not CDS', 'Match', 'Not CDS', 'Not a Match', 'Not CDS', 'Not CDS', 'Match', 'Not CDS', 'Not CDS', 'Match', 'Not CDS', 'Not CDS', 'Match', 'Not CDS', 'Not CDS', 'Match']\n"
     ]
    }
   ],
   "source": [
    "gb_genes_fname = '../data/genes.gb'\n",
    "from Bio import SeqFeature\n",
    "\n",
    "seq_match = []\n",
    "for record in SeqIO.parse(gb_genes_fname, \"genbank\"):\n",
    "    for features in record.features:\n",
    "        if features.type == \"CDS\":\n",
    "            genbank_translation = features.qualifiers[\"translation\"][0] # feature annotation translation\n",
    "            own_translation = record.seq.translate(to_stop = True) # translate() method translation\n",
    "            if genbank_translation == own_translation:\n",
    "                seq_match.append(\"Match\")\n",
    "            else:\n",
    "                seq_match.append(\"Not a Match\")\n",
    "        else:\n",
    "            seq_match.append(\"Not CDS\")\n",
    "print (seq_match)"
   ]
  },
  {
   "cell_type": "markdown",
   "metadata": {},
   "source": [
    "**2. Comparing PDB and UniProt sequences**\n",
    "\n",
    "For this question you need to compare chain `A` sequence of PDB `3vun`\n",
    "(file `pdb3vun.ent`) to the UniProt sequence P03437 (file `P03437.fasta`).\n",
    "Conversion of 3- to one-letter amino-acid codes can be achieved as for\n",
    "question 3 in practical 4 (using file `aa_types.txt`). The structural sequence\n",
    "is missing the first 22 residues of the UniProt sequence, but how many\n",
    "residues in the structural sequence are different from those in the\n",
    "Uniprot sequence? "
   ]
  },
  {
   "cell_type": "code",
   "execution_count": 190,
   "metadata": {},
   "outputs": [
    {
     "name": "stdout",
     "output_type": "stream",
     "text": [
      "File pdb3vun.ent:\n",
      "HEADER    VIRAL PROTEIN                           02-JUL-12   3VUN              \n",
      "TITLE     CRYSTAL STRUCTURE OF A INFLUENZA A VIRUS (A/AICHI/2/1968 H3N2)        \n",
      "TITLE    2 HEMAGGLUTININ IN C2 SPACE GROUP.                                     \n",
      "COMPND    MOL_ID: 1;                                                            \n",
      "COMPND   2 MOLECULE: HEMAGGLUTININ HA1 CHAIN;                                   \n",
      "\n",
      "File P03437.fasta:\n",
      ">sp|P03437|HEMA_I68A0 Hemagglutinin OS=Influenza A virus (strain A/Aichi/2/1968 H3N2) GN=HA PE=1 SV=1\n",
      "MKTIIALSYIFCLALGQDLPGNDNSTATLCLGHHAVPNGTLVKTITDDQIEVTNATELVQ\n",
      "SSSTGKICNNPHRILDGIDCTLIDALLGDPHCDVFQNETWDLFVERSKAFSNCYPYDVPD\n",
      "YASLRSLVASSGTLEFITEGFTWTGVTQNGGSNACKRGPGSGFFSRLNWLTKSGSTYPVL\n",
      "NVTMPNNDNFDKLYIWGIHHPSTNQEQTSLYVQASGRVTVSTRRSQQTIIPNIGSRPWVR\n"
     ]
    }
   ],
   "source": [
    "%%bash\n",
    "echo \"File pdb3vun.ent:\"\n",
    "head -5 ../data/pdb3vun.ent\n",
    "echo\n",
    "echo \"File P03437.fasta:\"\n",
    "head -5 ../data/P03437.fasta"
   ]
  },
  {
   "cell_type": "code",
   "execution_count": 199,
   "metadata": {},
   "outputs": [
    {
     "name": "stdout",
     "output_type": "stream",
     "text": [
      "['__add__', '__bool__', '__class__', '__contains__', '__delattr__', '__dict__', '__dir__', '__doc__', '__eq__', '__format__', '__ge__', '__getattribute__', '__getitem__', '__gt__', '__hash__', '__init__', '__init_subclass__', '__iter__', '__le__', '__le___', '__len__', '__lt__', '__module__', '__ne__', '__new__', '__radd__', '__reduce__', '__reduce_ex__', '__repr__', '__setattr__', '__sizeof__', '__str__', '__subclasshook__', '__weakref__', '_per_letter_annotations', '_seq', '_set_per_letter_annotations', '_set_seq', 'annotations', 'dbxrefs', 'description', 'features', 'format', 'id', 'letter_annotations', 'lower', 'name', 'reverse_complement', 'seq', 'translate', 'upper']\n",
      "['__add__', '__bool__', '__class__', '__contains__', '__delattr__', '__dict__', '__dir__', '__doc__', '__eq__', '__format__', '__ge__', '__getattribute__', '__getitem__', '__gt__', '__hash__', '__init__', '__init_subclass__', '__iter__', '__le__', '__le___', '__len__', '__lt__', '__module__', '__ne__', '__new__', '__radd__', '__reduce__', '__reduce_ex__', '__repr__', '__setattr__', '__sizeof__', '__str__', '__subclasshook__', '__weakref__', '_per_letter_annotations', '_seq', '_set_per_letter_annotations', '_set_seq', 'annotations', 'dbxrefs', 'description', 'features', 'format', 'id', 'letter_annotations', 'lower', 'name', 'reverse_complement', 'seq', 'translate', 'upper']\n",
      "['__add__', '__bool__', '__class__', '__contains__', '__delattr__', '__dict__', '__dir__', '__doc__', '__eq__', '__format__', '__ge__', '__getattribute__', '__getitem__', '__gt__', '__hash__', '__init__', '__init_subclass__', '__iter__', '__le__', '__le___', '__len__', '__lt__', '__module__', '__ne__', '__new__', '__radd__', '__reduce__', '__reduce_ex__', '__repr__', '__setattr__', '__sizeof__', '__str__', '__subclasshook__', '__weakref__', '_per_letter_annotations', '_seq', '_set_per_letter_annotations', '_set_seq', 'annotations', 'dbxrefs', 'description', 'features', 'format', 'id', 'letter_annotations', 'lower', 'name', 'reverse_complement', 'seq', 'translate', 'upper']\n",
      "['__add__', '__bool__', '__class__', '__contains__', '__delattr__', '__dict__', '__dir__', '__doc__', '__eq__', '__format__', '__ge__', '__getattribute__', '__getitem__', '__gt__', '__hash__', '__init__', '__init_subclass__', '__iter__', '__le__', '__le___', '__len__', '__lt__', '__module__', '__ne__', '__new__', '__radd__', '__reduce__', '__reduce_ex__', '__repr__', '__setattr__', '__sizeof__', '__str__', '__subclasshook__', '__weakref__', '_per_letter_annotations', '_seq', '_set_per_letter_annotations', '_set_seq', 'annotations', 'dbxrefs', 'description', 'features', 'format', 'id', 'letter_annotations', 'lower', 'name', 'reverse_complement', 'seq', 'translate', 'upper']\n",
      "['__add__', '__bool__', '__class__', '__contains__', '__delattr__', '__dict__', '__dir__', '__doc__', '__eq__', '__format__', '__ge__', '__getattribute__', '__getitem__', '__gt__', '__hash__', '__init__', '__init_subclass__', '__iter__', '__le__', '__le___', '__len__', '__lt__', '__module__', '__ne__', '__new__', '__radd__', '__reduce__', '__reduce_ex__', '__repr__', '__setattr__', '__sizeof__', '__str__', '__subclasshook__', '__weakref__', '_per_letter_annotations', '_seq', '_set_per_letter_annotations', '_set_seq', 'annotations', 'dbxrefs', 'description', 'features', 'format', 'id', 'letter_annotations', 'lower', 'name', 'reverse_complement', 'seq', 'translate', 'upper']\n",
      "['__add__', '__bool__', '__class__', '__contains__', '__delattr__', '__dict__', '__dir__', '__doc__', '__eq__', '__format__', '__ge__', '__getattribute__', '__getitem__', '__gt__', '__hash__', '__init__', '__init_subclass__', '__iter__', '__le__', '__le___', '__len__', '__lt__', '__module__', '__ne__', '__new__', '__radd__', '__reduce__', '__reduce_ex__', '__repr__', '__setattr__', '__sizeof__', '__str__', '__subclasshook__', '__weakref__', '_per_letter_annotations', '_seq', '_set_per_letter_annotations', '_set_seq', 'annotations', 'dbxrefs', 'description', 'features', 'format', 'id', 'letter_annotations', 'lower', 'name', 'reverse_complement', 'seq', 'translate', 'upper']\n"
     ]
    }
   ],
   "source": [
    "pdb_HEMA_fname = '../data/pdb3vun.ent'\n",
    "fa_HEMA_fname = '../data/P03437.fasta'\n",
    "\n",
    "for record in SeqIO.parse(pdb_HEMA_fname, 'pdb-seqres'):\n",
    "    print(dir(record))\n",
    "uniprot = SeqIO.read(fa_HEMA_fname, 'fasta')"
   ]
  },
  {
   "cell_type": "code",
   "execution_count": null,
   "metadata": {},
   "outputs": [],
   "source": []
  }
 ],
 "metadata": {
  "kernelspec": {
   "display_name": "Python(Python 3)",
   "language": "python",
   "name": "python3"
  },
  "language_info": {
   "codemirror_mode": {
    "name": "ipython",
    "version": 3
   },
   "file_extension": ".py",
   "mimetype": "text/x-python",
   "name": "python",
   "nbconvert_exporter": "python",
   "pygments_lexer": "ipython3",
   "version": "3.8.5"
  }
 },
 "nbformat": 4,
 "nbformat_minor": 4
}
