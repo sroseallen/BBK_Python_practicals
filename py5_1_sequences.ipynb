{
 "cells": [
  {
   "cell_type": "markdown",
   "metadata": {},
   "source": [
    "# Biopython Sequences"
   ]
  },
  {
   "cell_type": "code",
   "execution_count": 43,
   "metadata": {},
   "outputs": [
    {
     "name": "stdout",
     "output_type": "stream",
     "text": [
      "Defaulting to user installation because normal site-packages is not writeable\n",
      "Requirement already satisfied: biopython in /l_mnt/python/envs/teaching/lib/python3.8/site-packages (1.77)\n",
      "Requirement already satisfied: numpy in /l_mnt/python/envs/teaching/lib/python3.8/site-packages (from biopython) (1.19.1)\n",
      "Note: you may need to restart the kernel to use updated packages.\n"
     ]
    }
   ],
   "source": [
    "%pip install biopython"
   ]
  },
  {
   "cell_type": "markdown",
   "metadata": {},
   "source": [
    "## DNA sequences\n",
    "\n",
    "Let's start with a DNA sequence. Here are **various operations** we can perform on a sequence, bearing in mind that the sequence itself is immutable:"
   ]
  },
  {
   "cell_type": "code",
   "execution_count": 6,
   "metadata": {},
   "outputs": [
    {
     "name": "stdout",
     "output_type": "stream",
     "text": [
      "DNA sequence: agggcctatagctcaacagcgggggcaaa\n",
      "Single element: c\n",
      "GG count: 3 \n",
      "\n",
      "Slice: acagcgggggcaaa\n",
      "Revised sequence: agggcctatagctcaacagcgggggcaaaacagcgggggcaaa\n",
      "Length: 43 \n",
      "\n",
      "Uppercase: AGGGCCTATAGCTCAACAGCGGGGGCAAAACAGCGGGGGCAAA\n",
      "Complement: tcccggatatcgagttgtcgcccccgttttgtcgcccccgttt\n",
      "Reverse complement: tttgcccccgctgttttgcccccgctgttgagctataggccct\n"
     ]
    }
   ],
   "source": [
    "from Bio.Seq import Seq\n",
    "\n",
    "random_seq = 'agggcctatagctcaacagcgggggcaaa'\n",
    "dna = Seq(random_seq) # assign Seq class\n",
    "\n",
    "print('DNA sequence:', dna)   \n",
    "print('Single element:', dna[5])\n",
    "print('GG count:', dna.count('gg'), '\\n')\n",
    "\n",
    "sub_dna = dna[15:]\n",
    "print('Slice:', sub_dna)\n",
    "dna = dna + sub_dna\n",
    "print('Revised sequence:', dna)   \n",
    "print('Length:', len(dna), '\\n')  \n",
    "\n",
    "print('Uppercase:', dna.upper())  \n",
    "print('Complement:', dna.complement()) \n",
    "print('Reverse complement:', dna.reverse_complement()) "
   ]
  },
  {
   "cell_type": "markdown",
   "metadata": {},
   "source": [
    "Like Python strings, Bio.Seq objects are **immutable**. However, if you really know you want to repeatedly modify a sequence, you can turn it into a **mutable sequence object**:"
   ]
  },
  {
   "cell_type": "code",
   "execution_count": 9,
   "metadata": {},
   "outputs": [
    {
     "name": "stdout",
     "output_type": "stream",
     "text": [
      "<class 'Bio.Seq.MutableSeq'>\n",
      "Sequence: agggcctatagctcaacagcgggggcaaaacagcgggggcaaa\n",
      "Reversed: aaacgggggcgacaaaacgggggcgacaactcgatatccggga\n",
      "Modified 1: agacgggggcgacaaaacgggggcgacaactcgatatccggga\n",
      "Modified 2: agacgggggcgacaaaacgggggcgacaactcgatatccgaca\n",
      "Modified 3: aacgggggcgacaaaacgggggcgacaactcgatatccgaca\n"
     ]
    }
   ],
   "source": [
    "mutable_seq = dna.tomutable()\n",
    "print(type(mutable_seq))\n",
    "print('Sequence:', mutable_seq)\n",
    "mutable_seq.reverse()\n",
    "print('Reversed:', mutable_seq)\n",
    "mutable_seq[1] = 'g'\n",
    "print('Modified 1:', mutable_seq)\n",
    "mutable_seq[-3:-1] = mutable_seq[2:4]\n",
    "print('Modified 2:', mutable_seq)\n",
    "mutable_seq.remove('g')\n",
    "print('Modified 3:', mutable_seq)"
   ]
  },
  {
   "cell_type": "markdown",
   "metadata": {},
   "source": [
    "## Transcription and translation\n",
    "\n",
    "Now we will **transcribe** the DNA into mRNA (and **reverse-transcribe** the mRNA into DNA too): "
   ]
  },
  {
   "cell_type": "code",
   "execution_count": 11,
   "metadata": {},
   "outputs": [
    {
     "name": "stdout",
     "output_type": "stream",
     "text": [
      "Original DNA: agggcctatagctcaacagcgggggcaaaacagcgggggcaaa\n",
      "MRNA sequence: agggccuauagcucaacagcgggggcaaaacagcgggggcaaa\n",
      "Reverse transcription: agggcctatagctcaacagcgggggcaaaacagcgggggcaaa\n"
     ]
    }
   ],
   "source": [
    "mrna = dna.transcribe()\n",
    "print('Original DNA:', dna)\n",
    "print('MRNA sequence:', mrna)\n",
    "print('Reverse transcription:', mrna.back_transcribe())"
   ]
  },
  {
   "cell_type": "markdown",
   "metadata": {},
   "source": [
    "**Translation** to protein adds the potential for \"biological error\" to creep in. Let's start with our existing mRNA sequence. In this case, the original sequence is not a multiple of 3, with some bases at the end of the sequence forming a \"partial codon\". (Biopython flags a warning the first time you run the code.) "
   ]
  },
  {
   "cell_type": "code",
   "execution_count": 12,
   "metadata": {},
   "outputs": [
    {
     "name": "stdout",
     "output_type": "stream",
     "text": [
      "Default protein sequence: RAYSSTAGAKQRGQ\n",
      "Same sequence direct from DNA: RAYSSTAGAKQRGQ\n",
      "protein length: 14 \n",
      "\n",
      "Mitochondrial protein sequence: *AYSSTAGAKQRGQ\n",
      "Mitochondrial protein alphabet: HasStopCodon(ExtendedIUPACProtein(), '*')\n"
     ]
    },
    {
     "name": "stderr",
     "output_type": "stream",
     "text": [
      "/l_mnt/python/envs/teaching/lib/python3.8/site-packages/Bio/Seq.py:2738: BiopythonWarning: Partial codon, len(sequence) not a multiple of three. Explicitly trim the sequence or add trailing N before translation. This may become an error in future.\n",
      "  warnings.warn(\n"
     ]
    }
   ],
   "source": [
    "prot = mrna.translate()\n",
    "print('Default protein sequence:', prot)\n",
    "print('Same sequence direct from DNA:', dna.translate())\n",
    "print('protein length:', len(prot), '\\n')\n",
    "\n",
    "mitochondrial_prot = mrna.translate(table=\"Vertebrate Mitochondrial\")\n",
    "print('Mitochondrial protein sequence:', mitochondrial_prot)\n",
    "print('Mitochondrial protein alphabet:', mitochondrial_prot.alphabet)"
   ]
  },
  {
   "cell_type": "code",
   "execution_count": 14,
   "metadata": {},
   "outputs": [
    {
     "name": "stdout",
     "output_type": "stream",
     "text": [
      "Help on HasStopCodon in module Bio.Alphabet object:\n",
      "\n",
      "class HasStopCodon(AlphabetEncoder)\n",
      " |  HasStopCodon(alphabet, stop_symbol='*')\n",
      " |  \n",
      " |  Alphabets which contain a stop symbol.\n",
      " |  \n",
      " |  Method resolution order:\n",
      " |      HasStopCodon\n",
      " |      AlphabetEncoder\n",
      " |      builtins.object\n",
      " |  \n",
      " |  Methods defined here:\n",
      " |  \n",
      " |  __init__(self, alphabet, stop_symbol='*')\n",
      " |      Initialize the class.\n",
      " |  \n",
      " |  contains(self, other)\n",
      " |      Test if the other alphabet is contained in this one (OBSOLETE?).\n",
      " |      \n",
      " |      Returns a boolean.  This relies on the Alphabet subclassing\n",
      " |      hierarchy, and attempts to check the stop symbol.  This fails\n",
      " |      if the other alphabet does not have a stop symbol!\n",
      " |  \n",
      " |  ----------------------------------------------------------------------\n",
      " |  Methods inherited from AlphabetEncoder:\n",
      " |  \n",
      " |  __getattr__(self, key)\n",
      " |      Proxy method for accessing attributes of the wrapped alphabet.\n",
      " |  \n",
      " |  __repr__(self)\n",
      " |      Represent the alphabet encoder class as a string for debugging.\n",
      " |  \n",
      " |  ----------------------------------------------------------------------\n",
      " |  Data descriptors inherited from AlphabetEncoder:\n",
      " |  \n",
      " |  __dict__\n",
      " |      dictionary for instance variables (if defined)\n",
      " |  \n",
      " |  __weakref__\n",
      " |      list of weak references to the object (if defined)\n",
      "\n"
     ]
    }
   ],
   "source": [
    "help(mitochondrial_prot.alphabet)"
   ]
  },
  {
   "cell_type": "markdown",
   "metadata": {},
   "source": [
    "The following code tests whether a **\"mystery\" DNA sequence** codes for a target protein &mdash; either forwards or backwards: "
   ]
  },
  {
   "cell_type": "code",
   "execution_count": 15,
   "metadata": {},
   "outputs": [
    {
     "name": "stdout",
     "output_type": "stream",
     "text": [
      "Found (reversed)!\n"
     ]
    }
   ],
   "source": [
    "mystery_dna = 'aaccgttgtagagttgtt'\n",
    "target_prot = 'NNSTTV'\n",
    "\n",
    "this_dna = Seq(mystery_dna)\n",
    "mystery_prot = this_dna.translate()\n",
    "if mystery_prot == target_prot:\n",
    "    print('Found!')\n",
    "else:\n",
    "    mystery_rc = this_dna.reverse_complement()\n",
    "    mystery_prot_reversed = mystery_rc.translate()\n",
    "    if mystery_prot_reversed == target_prot:\n",
    "        print('Found (reversed)!')\n",
    "    else:\n",
    "        print('Not found!')"
   ]
  },
  {
   "cell_type": "markdown",
   "metadata": {},
   "source": [
    "Are these two DNA sequences the same? When translated using the Standard Code, do they produce **the same protein sequence**? Write a script that:\n",
    "- Prints out `The same DNA`, if the DNA sequences are the same                \n",
    "- Prints out `The same protein`, if the DNA sequences are different but the protein sequences are the same                   \n",
    "- Prints out `Different` if the protein sequences don't match.\n"
   ]
  },
  {
   "cell_type": "code",
   "execution_count": 37,
   "metadata": {},
   "outputs": [
    {
     "name": "stdout",
     "output_type": "stream",
     "text": [
      "The same protein\n"
     ]
    }
   ],
   "source": [
    "dna1 = Seq('aaccgttgtagagttgttaaccgttgtagagttgtt')\n",
    "dna2 = Seq('AACCGTTGTAGAGTTGTCAACCGTTGTAGAGTTGTT')\n",
    "dna2 = dna2.lower()\n",
    "prot1 = dna1.translate()\n",
    "prot2 = dna2.translate()\n",
    "\n",
    "if len(dna1) == len(dna2):\n",
    "    if dna1 == dna2:\n",
    "        print (\"The same DNA\")\n",
    "    else:\n",
    "        if prot1 == prot2:\n",
    "            print (\"The same protein\")\n",
    "        else:\n",
    "            print (\"Different\")"
   ]
  },
  {
   "cell_type": "markdown",
   "metadata": {},
   "source": [
    "# Sequence alignments"
   ]
  },
  {
   "cell_type": "markdown",
   "metadata": {},
   "source": [
    "Let's see what a sequence alignment file looks like:"
   ]
  },
  {
   "cell_type": "code",
   "execution_count": 38,
   "metadata": {},
   "outputs": [],
   "source": [
    "from Bio import AlignIO\n",
    "alignment = AlignIO.read('../data/hAPP.clustal', 'clustal')"
   ]
  },
  {
   "cell_type": "code",
   "execution_count": 39,
   "metadata": {},
   "outputs": [
    {
     "name": "stdout",
     "output_type": "stream",
     "text": [
      "SingleLetterAlphabet() alignment with 12 rows and 772 columns\n",
      "--MLPGLALLLLAAWTARALEVPTDGNAGLLAEPQIAMFCGRLN...--- sp|P05067-2|A4_\n",
      "--MLPGLALLLLAAWTARAL------------------------...MQN sp|P05067-10|A4\n",
      "--MLPGLALLLLAAWTARALEVPTDGNAGLLAEPQIAMFCGRLN...MQN sp|P05067-3|A4_\n",
      "--MLPGLALLLLAAWTARALEVPTDGNAGLLAEPQIAMFCGRLN...MQN sp|P05067-4|A4_\n",
      "--MLPGLALLLLAAWTARALEVPTDGNAGLLAEPQIAMFCGRLN...MQN sp|P05067-5|A4_\n",
      "--MLPGLALLLLAAWTARALEVPTDGNAGLLAEPQIAMFCGRLN...MQN sp|P05067-6|A4_\n",
      "MDQLEDLLVL-------FINYVPTDGNAGLLAEPQIAMFCGRLN...MQN sp|P05067-11|A4\n",
      "--MLPGLALLLLAAWTARALEVPTDGNAGLLAEPQIAMFCGRLN...MQN sp|P05067|A4_HU\n",
      "--MLPGLALLLLAAWTARALEVPTDGNAGLLAEPQIAMFCGRLN...MQN sp|P05067-1|A4_\n",
      "--MLPGLALLLLAAWTARALEVPTDGNAGLLAEPQIAMFCGRLN...MQN sp|P05067-9|A4_\n",
      "--MLPGLALLLLAAWTARALEVPTDGNAGLLAEPQIAMFCGRLN...MQN sp|P05067-7|A4_\n",
      "--MLPGLALLLLAAWTARALEVPTDGNAGLLAEPQIAMFCGRLN...MQN sp|P05067-8|A4_\n"
     ]
    }
   ],
   "source": [
    "print(alignment)"
   ]
  },
  {
   "cell_type": "markdown",
   "metadata": {},
   "source": [
    "We can select the first two sequence only, using a slice:"
   ]
  },
  {
   "cell_type": "code",
   "execution_count": 40,
   "metadata": {},
   "outputs": [
    {
     "name": "stdout",
     "output_type": "stream",
     "text": [
      "SingleLetterAlphabet() alignment with 2 rows and 772 columns\n",
      "--MLPGLALLLLAAWTARALEVPTDGNAGLLAEPQIAMFCGRLN...--- sp|P05067-2|A4_\n",
      "--MLPGLALLLLAAWTARAL------------------------...MQN sp|P05067-10|A4\n"
     ]
    }
   ],
   "source": [
    "print(alignment[:2])"
   ]
  },
  {
   "cell_type": "markdown",
   "metadata": {},
   "source": [
    "We can also select the first 10 positions in the alignments, using a slice again:"
   ]
  },
  {
   "cell_type": "code",
   "execution_count": 41,
   "metadata": {},
   "outputs": [
    {
     "name": "stdout",
     "output_type": "stream",
     "text": [
      "SingleLetterAlphabet() alignment with 12 rows and 10 columns\n",
      "--MLPGLALL sp|P05067-2|A4_\n",
      "--MLPGLALL sp|P05067-10|A4\n",
      "--MLPGLALL sp|P05067-3|A4_\n",
      "--MLPGLALL sp|P05067-4|A4_\n",
      "--MLPGLALL sp|P05067-5|A4_\n",
      "--MLPGLALL sp|P05067-6|A4_\n",
      "MDQLEDLLVL sp|P05067-11|A4\n",
      "--MLPGLALL sp|P05067|A4_HU\n",
      "--MLPGLALL sp|P05067-1|A4_\n",
      "--MLPGLALL sp|P05067-9|A4_\n",
      "--MLPGLALL sp|P05067-7|A4_\n",
      "--MLPGLALL sp|P05067-8|A4_\n"
     ]
    }
   ],
   "source": [
    "print(alignment[:,:10])"
   ]
  },
  {
   "cell_type": "markdown",
   "metadata": {},
   "source": [
    "Both can be combined: the first 10 positions, in the first two sequences:"
   ]
  },
  {
   "cell_type": "code",
   "execution_count": 42,
   "metadata": {},
   "outputs": [
    {
     "name": "stdout",
     "output_type": "stream",
     "text": [
      "SingleLetterAlphabet() alignment with 2 rows and 10 columns\n",
      "--MLPGLALL sp|P05067-2|A4_\n",
      "--MLPGLALL sp|P05067-10|A4\n"
     ]
    }
   ],
   "source": [
    "print(alignment[:2,:10])"
   ]
  },
  {
   "cell_type": "code",
   "execution_count": null,
   "metadata": {},
   "outputs": [],
   "source": []
  }
 ],
 "metadata": {
  "kernelspec": {
   "display_name": "Python(Python 3)",
   "language": "python",
   "name": "python3"
  },
  "language_info": {
   "codemirror_mode": {
    "name": "ipython",
    "version": 3
   },
   "file_extension": ".py",
   "mimetype": "text/x-python",
   "name": "python",
   "nbconvert_exporter": "python",
   "pygments_lexer": "ipython3",
   "version": "3.8.5"
  }
 },
 "nbformat": 4,
 "nbformat_minor": 4
}
