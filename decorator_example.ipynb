{
 "cells": [
  {
   "cell_type": "markdown",
   "metadata": {},
   "source": [
    "# Decorator example\n",
    "\n",
    "When writing decorators, you wanto to return a modified **function**"
   ]
  },
  {
   "cell_type": "code",
   "execution_count": 1,
   "metadata": {},
   "outputs": [],
   "source": [
    "# `f` is the function to be decorated\n",
    "def output_func_decorator(f):\n",
    "    def printing_func(*args, **kwargs):\n",
    "            # in our new, decorated function, we need to call f!\n",
    "            v = f(*args, **kwargs)\n",
    "            # change of behaviour here\n",
    "            print(f\"The function {f.__name__} returns: {v}\")\n",
    "            # we return whatever f returns, as is (or not? you can change that in a decorator)\n",
    "            return v\n",
    "    return printing_func"
   ]
  },
  {
   "cell_type": "markdown",
   "metadata": {},
   "source": [
    "A function `sq` that squares a value, but does not output anything"
   ]
  },
  {
   "cell_type": "code",
   "execution_count": 2,
   "metadata": {},
   "outputs": [],
   "source": [
    "def sq(x):\n",
    "    return x**2\n",
    "a = sq(3)"
   ]
  },
  {
   "cell_type": "code",
   "execution_count": 3,
   "metadata": {},
   "outputs": [
    {
     "name": "stdout",
     "output_type": "stream",
     "text": [
      "9\n"
     ]
    }
   ],
   "source": [
    "print(a)"
   ]
  },
  {
   "cell_type": "markdown",
   "metadata": {},
   "source": [
    "We can use our decorator to make any function verbose, by simply decorating it.\n",
    "It will now print out its return value"
   ]
  },
  {
   "cell_type": "code",
   "execution_count": 4,
   "metadata": {},
   "outputs": [
    {
     "name": "stdout",
     "output_type": "stream",
     "text": [
      "The function sq returns: 9\n"
     ]
    }
   ],
   "source": [
    "@output_func_decorator\n",
    "def sq(x):\n",
    "    return x**2\n",
    "\n",
    "a = sq(3)"
   ]
  },
  {
   "cell_type": "markdown",
   "metadata": {},
   "source": [
    "Calling `sq` now results in the content being printed"
   ]
  }
 ],
 "metadata": {
  "kernelspec": {
   "display_name": "Python(Python 3)",
   "language": "python",
   "name": "python3"
  },
  "language_info": {
   "codemirror_mode": {
    "name": "ipython",
    "version": 3
   },
   "file_extension": ".py",
   "mimetype": "text/x-python",
   "name": "python",
   "nbconvert_exporter": "python",
   "pygments_lexer": "ipython3",
   "version": "3.8.5"
  }
 },
 "nbformat": 4,
 "nbformat_minor": 4
}
