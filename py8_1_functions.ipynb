{
 "cells": [
  {
   "cell_type": "markdown",
   "metadata": {},
   "source": [
    "# Writing Functions"
   ]
  },
  {
   "cell_type": "markdown",
   "metadata": {},
   "source": [
    "## Functions with variable numbers of arguments\n",
    "\n",
    "Here the task is to take the names of FASTA files and return their names and the corresponding sequence lengths sorted in ascending order. (I have deliberately avoided Biopython on this occasion.)\n",
    "\n",
    "I begin by defining two simple functions that do part of the work: \n",
    "\n",
    "1. `is_fasta()` checks whether a file has a FASTA extension. This could easily be extended to perform other checks, e.g. whether the file actually exists.\n",
    "\n",
    "2. `get_fasta_seq_len()` calculates the length of the sequence in a FASTA file.\n",
    "\n",
    "Note that the second function invokes the first function."
   ]
  },
  {
   "cell_type": "code",
   "execution_count": 1,
   "metadata": {},
   "outputs": [],
   "source": [
    "import os\n",
    "import operator\n",
    "\n",
    "def is_fasta(file_name):\n",
    "    \"\"\"\n",
    "    If file is FASTA, return True, otherwise False.\n",
    "    \n",
    "    Note: function only checks for file extension .fasta.\n",
    "    \"\"\"\n",
    "\n",
    "    (fname, ext) = os.path.splitext(file_name)\n",
    "    if ext == '.fasta':\n",
    "        return True\n",
    "    else:\n",
    "        return False\n",
    "    \n",
    "def get_fasta_seq_len(fasta_fname):\n",
    "    \"\"\"Returns length of FASTA sequence or zero if not FASTA.\"\"\"\n",
    " \n",
    "    if not is_fasta(fasta_fname):\n",
    "        return 0\n",
    "\n",
    "    with open(fasta_fname, 'r') as f:\n",
    "        header = f.readline()\n",
    "        seq = f.read()\n",
    "        seq = seq.replace('\\n', '') \n",
    "        return len(seq)"
   ]
  },
  {
   "cell_type": "markdown",
   "metadata": {},
   "source": [
    "Now I write a function that will read in as many FASTA files as I want and return their names and lengths sorted by length. The structure returned here is a list of tuples."
   ]
  },
  {
   "cell_type": "code",
   "execution_count": 2,
   "metadata": {},
   "outputs": [],
   "source": [
    "def sort_fasta_names_by_length(*args):\n",
    "    \"\"\"Returns list of FASTA files sorted by sequence length.\"\"\"\n",
    " \n",
    "    fasta_lengths = {}   \n",
    "    for a in args:\n",
    "        this_len = get_fasta_seq_len(a)\n",
    "        if this_len > 0:\n",
    "            fasta_lengths[a] = this_len\n",
    "  \n",
    "    return sorted( fasta_lengths.items(), key=operator.itemgetter(1) )"
   ]
  },
  {
   "cell_type": "markdown",
   "metadata": {},
   "source": [
    "Having written the function, I can test it out using different arguments:"
   ]
  },
  {
   "cell_type": "code",
   "execution_count": 3,
   "metadata": {},
   "outputs": [
    {
     "name": "stdout",
     "output_type": "stream",
     "text": [
      "Help on function sort_fasta_names_by_length in module __main__:\n",
      "\n",
      "sort_fasta_names_by_length(*args)\n",
      "    Returns list of FASTA files sorted by sequence length.\n",
      "\n",
      "With 3 FASTA files:\n",
      "[('../data/A0A0G2RR03.fasta', 376), ('../data/A0A0G2RZ64.fasta', 566), ('../data/FA8_HUMAN.fasta', 2351)]\n",
      "\n",
      "With 4 FASTA files (ordered differently) + non-existent file:\n",
      "[('../data/A0A0G2RR03.fasta', 376), ('../data/P03437.fasta', 566), ('../data/A0A0G2RZ64.fasta', 566), ('../data/FA8_HUMAN.fasta', 2351)]\n",
      "\n",
      "With single arguments:\n",
      "[('../data/A0A0G2RR03.fasta', 376)]\n"
     ]
    }
   ],
   "source": [
    "fasta1 = '../data/A0A0G2RR03.fasta'\n",
    "fasta2 = '../data/A0A0G2RZ64.fasta'\n",
    "fasta3 = '../data/FA8_HUMAN.fasta'\n",
    "fasta4 = '../data/P03437.fasta'\n",
    "\n",
    "help(sort_fasta_names_by_length)\n",
    "print('With 3 FASTA files:')\n",
    "print(sort_fasta_names_by_length(fasta1, fasta2, fasta3))\n",
    "print('\\nWith 4 FASTA files (ordered differently) + non-existent file:')\n",
    "print(sort_fasta_names_by_length(fasta3, fasta4, 'dummy.txt', fasta2, fasta1))\n",
    "print('\\nWith single arguments:')\n",
    "print(sort_fasta_names_by_length(fasta1))"
   ]
  },
  {
   "cell_type": "markdown",
   "metadata": {},
   "source": [
    "## Functions with keyword arguments\n",
    "\n",
    "Now I'm going to modify the preceding function to add a couple of additional options using keyword parameters:\n",
    "\n",
    "1. `reverse` parameter &mdash; returns the output in reverse order if set to `True` (default `False`).\n",
    "\n",
    "2. `names_only` parameter &mdash; returns a list of the sorted filenames only, rather than a list of tuples (default `True`)."
   ]
  },
  {
   "cell_type": "code",
   "execution_count": 4,
   "metadata": {},
   "outputs": [],
   "source": [
    "def sort_fasta_names_by_length(*args, reverse=False, names_only=True):\n",
    "    \"\"\"Returns list of FASTA files sorted by sequence length.\"\"\"\n",
    " \n",
    "    fasta_lengths = {}   \n",
    "    for a in args:\n",
    "        this_len = get_fasta_seq_len(a)\n",
    "        if this_len > 0:\n",
    "            fasta_lengths[a] = this_len\n",
    "  \n",
    "    # check whether reverse sort is wanted \n",
    "    if reverse:\n",
    "        sorted_by_length = sorted( \n",
    "            fasta_lengths.items(), \n",
    "            key=operator.itemgetter(1),\n",
    "            reverse=True\n",
    "        )\n",
    "    else:\n",
    "        sorted_by_length = sorted( fasta_lengths.items(), key=operator.itemgetter(1) )\n",
    "    \n",
    "    # check whether only names are wanted\n",
    "    if names_only:\n",
    "        names = []\n",
    "        for t in sorted_by_length:\n",
    "            names.append(t[0])\n",
    "        return names\n",
    "    else:\n",
    "        return sorted_by_length"
   ]
  },
  {
   "cell_type": "markdown",
   "metadata": {},
   "source": [
    "Having written the revised function, I can test it out using different combinations of arguments. \n",
    "\n",
    "**Note:** The revised function has the same name as the first version in the preceding section. It is crucial that the revised definition is executed before running the next cell.    "
   ]
  },
  {
   "cell_type": "code",
   "execution_count": 5,
   "metadata": {},
   "outputs": [
    {
     "name": "stdout",
     "output_type": "stream",
     "text": [
      "Help on function sort_fasta_names_by_length in module __main__:\n",
      "\n",
      "sort_fasta_names_by_length(*args, reverse=False, names_only=True)\n",
      "    Returns list of FASTA files sorted by sequence length.\n",
      "\n",
      "None\n",
      "\n",
      "4 FASTA files, arbitrary order, plus non-existent file:\n",
      "['../data/A0A0G2RR03.fasta', '../data/A0A0G2RZ64.fasta', '../data/P03437.fasta', '../data/FA8_HUMAN.fasta']\n",
      "\n",
      "names_only set to False:\n",
      "[('../data/A0A0G2RR03.fasta', 376), ('../data/A0A0G2RZ64.fasta', 566), ('../data/P03437.fasta', 566), ('../data/FA8_HUMAN.fasta', 2351)]\n",
      "\n",
      "reverse set to True:\n",
      "['../data/FA8_HUMAN.fasta', '../data/P03437.fasta', '../data/A0A0G2RZ64.fasta', '../data/A0A0G2RR03.fasta']\n",
      "\n",
      "names_only=False, reverse=True:\n",
      "[('../data/FA8_HUMAN.fasta', 2351), ('../data/P03437.fasta', 566), ('../data/A0A0G2RZ64.fasta', 566), ('../data/A0A0G2RR03.fasta', 376)]\n"
     ]
    }
   ],
   "source": [
    "print(help(sort_fasta_names_by_length))\n",
    "\n",
    "print('\\n4 FASTA files, arbitrary order, plus non-existent file:')\n",
    "print(sort_fasta_names_by_length(fasta3, fasta1, 'dummy.txt', fasta2, fasta4))\n",
    "print('\\nnames_only set to False:')\n",
    "print(sort_fasta_names_by_length(fasta2, fasta4, fasta1, fasta3, names_only=False))\n",
    "print('\\nreverse set to True:')\n",
    "print(sort_fasta_names_by_length(fasta1, fasta4, fasta3, fasta2, reverse=True))\n",
    "print('\\nnames_only=False, reverse=True:')\n",
    "print(sort_fasta_names_by_length(fasta4, fasta2, fasta3, fasta1, names_only=False, reverse=True))"
   ]
  },
  {
   "cell_type": "markdown",
   "metadata": {},
   "source": [
    "## Write two functions\n",
    "\n",
    "Wrap each of the strings below in a function that accepts a biological sequence (stored in a one-line string without newlines) as an argument and returns `True` or `False` depending on whether all the characters in the sequence match one of the letters in the string. The functions should be named as follows:\n",
    "\n",
    "1. `is_dna(seq)`\n",
    "2. `is_aa(seq)`"
   ]
  },
  {
   "cell_type": "code",
   "execution_count": 54,
   "metadata": {},
   "outputs": [],
   "source": [
    "def is_dna(seq: str) -> bool: \n",
    "    dna_letters = 'ACGT'\n",
    "    for i in seq.upper():\n",
    "        if i not in dna_letters:\n",
    "            return False\n",
    "    return True\n",
    "\n",
    "def is_aa(seq: str) -> bool: \n",
    "    aa_letters = 'ACDEFGHIKLMNPQRSTVWY'\n",
    "    for i in seq.upper():\n",
    "        if i not in aa_letters:\n",
    "            return False\n",
    "    return True"
   ]
  },
  {
   "cell_type": "markdown",
   "metadata": {},
   "source": [
    "Now test the functions using the following list of sequences:"
   ]
  },
  {
   "cell_type": "code",
   "execution_count": 55,
   "metadata": {},
   "outputs": [
    {
     "name": "stdout",
     "output_type": "stream",
     "text": [
      "[True, False, True, False]\n",
      "[True, True, True, True]\n"
     ]
    }
   ],
   "source": [
    "seqs = [\n",
    "    'ATGTCGATAGCCAGCGACCCATTGATTGCC',\n",
    "    'MSIASDPLIAGLDDQQREAVLAPRGPVCVLAGAGTGKTRTITHR',\n",
    "    'atgtcgatagccagcgacccattgattgcc',\n",
    "    'msiasdpliaglddqqreavlaprgpvcvlagagtgktrtithr'\n",
    "]\n",
    "\n",
    "dna_checker = [is_dna(i) for i in seqs]\n",
    "aa_checker = [is_aa(i) for i in seqs]\n",
    "\n",
    "print(dna_checker)\n",
    "print(aa_checker)"
   ]
  },
  {
   "cell_type": "markdown",
   "metadata": {},
   "source": [
    "If you have time, add a keyword parameter `ignore_case` to the functions and revise them so that they can perform case-insensitive matching to sequences. Then try them out:"
   ]
  },
  {
   "cell_type": "code",
   "execution_count": null,
   "metadata": {},
   "outputs": [],
   "source": []
  },
  {
   "cell_type": "markdown",
   "metadata": {},
   "source": [
    "## Docstrings\n",
    "\n",
    "Here are examples of three popular docstring format styles:"
   ]
  },
  {
   "cell_type": "code",
   "execution_count": 8,
   "metadata": {},
   "outputs": [],
   "source": [
    "# reST style\n",
    "def calc_hypotenuse_a(a, b):\n",
    "    \"\"\" \n",
    "    Return hypotenuse of right-angled triangle. \n",
    "\n",
    "    :param a: one (non-hypotenuse) side of the triangle \n",
    "    :param b: other (non-hypotenuse) side of the triangle \n",
    "    :returns: the hypotenuse \n",
    "    \"\"\"\n",
    "\n",
    "# Google style\n",
    "def calc_hypotenuse_b(a, b):\n",
    "    \"\"\" \n",
    "    Return hypotenuse of right-angled triangle.\n",
    "    \n",
    "    Args:\n",
    "        a: one (non-hypotenuse) side of the triangle. \n",
    "        b: other (non-hypotenuse) side of the triangle. \n",
    "\n",
    "    Returns: \n",
    "        The hypotenuse. \n",
    "    \"\"\"\n",
    "\n",
    "# NumPy doc style\n",
    "def calc_hypotenuse_c(a, b):\n",
    "    \"\"\" \n",
    "    Return hypotenuse of right-angled triangle.\n",
    "\n",
    "    Parameters \n",
    "    ---------- \n",
    "    a : float\n",
    "        one (non-hypotenuse) side of the triangle. \n",
    "    b : float\n",
    "        other (non-hypotenuse) side of the triangle.\n",
    "        \n",
    "    Returns\n",
    "    -------\n",
    "    float\n",
    "        hypotenuse of right-angled triangle\n",
    "    \"\"\""
   ]
  },
  {
   "cell_type": "code",
   "execution_count": 15,
   "metadata": {},
   "outputs": [
    {
     "name": "stdout",
     "output_type": "stream",
     "text": [
      "Help on function calc_hypotenuse_c in module __main__:\n",
      "\n",
      "calc_hypotenuse_c(a, b)\n",
      "    Return hypotenuse of right-angled triangle.\n",
      "    \n",
      "    Parameters \n",
      "    ---------- \n",
      "    a : float\n",
      "        one (non-hypotenuse) side of the triangle. \n",
      "    b : float\n",
      "        other (non-hypotenuse) side of the triangle.\n",
      "        \n",
      "    Returns\n",
      "    -------\n",
      "    float\n",
      "        hypotenuse of right-angled triangle\n",
      "\n"
     ]
    }
   ],
   "source": [
    "help(calc_hypotenuse_c)"
   ]
  }
 ],
 "metadata": {
  "kernelspec": {
   "display_name": "Python(Python 3)",
   "language": "python",
   "name": "python3"
  },
  "language_info": {
   "codemirror_mode": {
    "name": "ipython",
    "version": 3
   },
   "file_extension": ".py",
   "mimetype": "text/x-python",
   "name": "python",
   "nbconvert_exporter": "python",
   "pygments_lexer": "ipython3",
   "version": "3.8.5"
  }
 },
 "nbformat": 4,
 "nbformat_minor": 4
}
