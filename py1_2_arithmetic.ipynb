{
 "cells": [
  {
   "cell_type": "markdown",
   "metadata": {},
   "source": [
    "# Python Arithmetic\n",
    "Here are a few simple examples to help you understand and practice performing arithmetic in Python."
   ]
  },
  {
   "cell_type": "markdown",
   "metadata": {},
   "source": [
    "## Variables and multiplication\n",
    "The following code prints out the **number of seconds in an hour**. Try it out: "
   ]
  },
  {
   "cell_type": "code",
   "execution_count": 9,
   "metadata": {},
   "outputs": [
    {
     "name": "stdout",
     "output_type": "stream",
     "text": [
      "3600\n"
     ]
    }
   ],
   "source": [
    "secs_per_min = 60\n",
    "mins_per_hour = 60\n",
    "print(secs_per_min * mins_per_hour)"
   ]
  },
  {
   "cell_type": "markdown",
   "metadata": {},
   "source": [
    "Modify the code below (reproduced from the previous example) so that it **calculate the number of seconds in a week**. Do this by creating two new variables (one concerning days, the other concerning weeks) and modifying the print statement:"
   ]
  },
  {
   "cell_type": "code",
   "execution_count": 10,
   "metadata": {},
   "outputs": [
    {
     "name": "stdout",
     "output_type": "stream",
     "text": [
      "604800\n"
     ]
    }
   ],
   "source": [
    "secs_per_min = 60\n",
    "mins_per_hour = 60\n",
    "hours_per_day = 24\n",
    "days_per_week = 7\n",
    "print(secs_per_min * mins_per_hour * hours_per_day * days_per_week)"
   ]
  },
  {
   "cell_type": "markdown",
   "metadata": {},
   "source": [
    "## Good coding practices\n",
    "There are **20 common amino-acid types** that form peptide sequences of varying lengths. The number of potential amino-acid sequences of length *n* containing different combinations of amino acids is 20 to the power of *n*. The following code performs the correct calculation for a sequence of length 8, but is poorly written. Try to improve it:     "
   ]
  },
  {
   "cell_type": "code",
   "execution_count": 11,
   "metadata": {},
   "outputs": [
    {
     "name": "stdout",
     "output_type": "stream",
     "text": [
      "25600000000\n"
     ]
    }
   ],
   "source": [
    "amino_acid_types = int(20.0)\n",
    "sequence_length = 8\n",
    "number_of_combinations = amino_acid_types ** sequence_length\n",
    "print (number_of_combinations)"
   ]
  },
  {
   "cell_type": "markdown",
   "metadata": {},
   "source": [
    "## Debugging\n",
    "Find and remove the bugs in the following code: "
   ]
  },
  {
   "cell_type": "code",
   "execution_count": 12,
   "metadata": {},
   "outputs": [
    {
     "name": "stdout",
     "output_type": "stream",
     "text": [
      "Mean length:  100\n",
      "Mean individial score in both samples:  3993\n"
     ]
    }
   ],
   "source": [
    "total_length_of_sequences = 25160\n",
    "number_of_sequences = 250\n",
    "print('Mean length: ', total_length_of_sequences // number_of_sequences)\n",
    "\n",
    "# Here you need to divide the total score of A + B by the total size of samples A + B\n",
    "sample_A_size = 320\n",
    "A_total_score = 3765\n",
    "sample_B_size = 220\n",
    "B_total_score = 2731\n",
    "print('Mean individial score in both samples: ', \n",
    "      A_total_score + B_total_score // sample_A_size + sample_B_size)"
   ]
  },
  {
   "cell_type": "markdown",
   "metadata": {},
   "source": [
    "## Arithmetic with the keyboard: input without type conversion\n",
    "Here is the first piece of code from the slides. It contains an error. Try it out, and see what answer you get - you will get an answer, but the wrong one! (Remember to type return after you enter a number.) \n",
    "\n",
    "Having tried it out, modify the code so that it gives the right answer."
   ]
  },
  {
   "cell_type": "code",
   "execution_count": 13,
   "metadata": {},
   "outputs": [
    {
     "name": "stdin",
     "output_type": "stream",
     "text": [
      "Enter first number:  4\n",
      "Enter second number:  3\n"
     ]
    },
    {
     "name": "stdout",
     "output_type": "stream",
     "text": [
      "7\n"
     ]
    }
   ],
   "source": [
    "# Addition script: using input from the keyboard\n",
    "# But NOT arithmetic addition\n",
    "n1 = input('Enter first number: ')\n",
    "n2 = input('Enter second number: ')\n",
    "print(int(n1) + int(n2))"
   ]
  },
  {
   "cell_type": "markdown",
   "metadata": {},
   "source": [
    "## Reversing a mathematical formula\n",
    "This code shows the formula for converting Fahrenheit to Celsius. Add a formula for doing the conversion in the opposite direction:"
   ]
  },
  {
   "cell_type": "code",
   "execution_count": 14,
   "metadata": {},
   "outputs": [
    {
     "name": "stdin",
     "output_type": "stream",
     "text": [
      "Enter Fahrenheit:  3\n"
     ]
    },
    {
     "name": "stdout",
     "output_type": "stream",
     "text": [
      "Celsius: -16.11111111111111\n"
     ]
    },
    {
     "name": "stdin",
     "output_type": "stream",
     "text": [
      "Enter Celsius:  65\n"
     ]
    },
    {
     "name": "stdout",
     "output_type": "stream",
     "text": [
      "Fahrenheit: 149.0\n"
     ]
    }
   ],
   "source": [
    "f = float(input('Enter Fahrenheit: '))\n",
    "print('Celsius:', (f - 32) * (5 / 9.0))\n",
    "\n",
    "c = float(input('Enter Celsius: '))\n",
    "print('Fahrenheit:', (c / (5 / 9.0)) + 32)"
   ]
  },
  {
   "cell_type": "code",
   "execution_count": null,
   "metadata": {},
   "outputs": [],
   "source": []
  }
 ],
 "metadata": {
  "kernelspec": {
   "display_name": "Python(Python 3)",
   "language": "python",
   "name": "python3"
  },
  "language_info": {
   "codemirror_mode": {
    "name": "ipython",
    "version": 3
   },
   "file_extension": ".py",
   "mimetype": "text/x-python",
   "name": "python",
   "nbconvert_exporter": "python",
   "pygments_lexer": "ipython3",
   "version": "3.8.5"
  }
 },
 "nbformat": 4,
 "nbformat_minor": 4
}
